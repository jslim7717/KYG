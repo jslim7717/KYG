{
  "nbformat": 4,
  "nbformat_minor": 0,
  "metadata": {
    "colab": {
      "provenance": []
    },
    "kernelspec": {
      "name": "python3",
      "display_name": "Python 3"
    },
    "language_info": {
      "name": "python"
    }
  },
  "cells": [
    {
      "cell_type": "markdown",
      "metadata": {
        "id": "VaIW_6TKmwjv"
      },
      "source": [
        "### LAB 1: AND / OR 연산을 수행하는 퍼셉트론"
      ]
    },
    {
      "cell_type": "code",
      "metadata": {
        "id": "Dwc2cmuAmvhH"
      },
      "source": [
        "import numpy as np\n",
        "\n",
        "W, b = np.array([0.5, 0.5]), -0.7"
      ],
      "execution_count": 1,
      "outputs": []
    },
    {
      "cell_type": "code",
      "metadata": {
        "id": "8WA__fbPoeQF"
      },
      "source": [
        "def perceptron(x1, x2):\n",
        "    x = np.array([x1, x2])\n",
        "    tmp = np.sum( W * x ) + b\n",
        "    if tmp <= 0: return -1\n",
        "    else: return 1"
      ],
      "execution_count": 2,
      "outputs": []
    },
    {
      "cell_type": "code",
      "metadata": {
        "id": "FskqnhQVomul"
      },
      "source": [
        "print('--- 퍼셉트론으로 구현한 AND 게이트 ---')\n",
        "for xs in [(-1, -1), (-1, 1), (1, -1), (1, 1)]:\n",
        "    y = perceptron(xs[0], xs[1])\n",
        "    print(xs, ': ', y)"
      ],
      "execution_count": null,
      "outputs": []
    },
    {
      "cell_type": "code",
      "metadata": {
        "id": "DcDA6vY6C3au"
      },
      "source": [
        "W, b = np.array([0.7, 0.7]), .5"
      ],
      "execution_count": 4,
      "outputs": []
    },
    {
      "cell_type": "code",
      "metadata": {
        "id": "ijBvZZ0rC6i7"
      },
      "source": [
        "print('--- 퍼셉트론으로 구현한 OR 게이트 ---')\n",
        "for xs in [(-1, -1), (-1, 1), (1, -1), (1, 1)]:\n",
        "    y = perceptron(xs[0], xs[1])\n",
        "    print(xs, ': ', y)"
      ],
      "execution_count": null,
      "outputs": []
    },
    {
      "cell_type": "markdown",
      "metadata": {
        "id": "hzUIYsBwDzxY"
      },
      "source": [
        "### LAB 2: 논리합을 수행하는 퍼셉트론 만들기"
      ]
    },
    {
      "cell_type": "code",
      "metadata": {
        "id": "AuWNIe7-DXG5"
      },
      "source": [
        "import numpy as np\n",
        "\n",
        "W, b = np.array([0, 0]), 0.0\n",
        "learning_rate = 0.01"
      ],
      "execution_count": 6,
      "outputs": []
    },
    {
      "cell_type": "code",
      "metadata": {
        "id": "lQ8NdMHnD6wv"
      },
      "source": [
        "def activation(s):\n",
        "    if s > 0: return 1\n",
        "    elif s < 0: return -1\n",
        "    return 0"
      ],
      "execution_count": 7,
      "outputs": []
    },
    {
      "cell_type": "code",
      "metadata": {
        "id": "rLlmKfuCD9Jr"
      },
      "source": [
        "def out(x) :\n",
        "    return activation (W.dot(x) + b)"
      ],
      "execution_count": 8,
      "outputs": []
    },
    {
      "cell_type": "code",
      "metadata": {
        "id": "AkkW2qHPD_nh"
      },
      "source": [
        "def train(x0, x1, target):\n",
        "    global W, b\n",
        "    X = np.array([x0, x1])\n",
        "    y = out(X)\n",
        "\n",
        "    ### 예측이 맞으면 아무것도 하지 않음-------------------------------------\n",
        "    if target == y: return False         # 가중치가 변경되지 않았음을 반환\n",
        "    ### 예측이 틀리면 학습 실시---------------------------------------------\n",
        "    print('가중치 수정전 target :{} y:{} b:{} W:{}'.format(target, y, b, W))\n",
        "    W = W + learning_rate * X * target   # 입력x출력 비례하여 가중치 변경\n",
        "    b = b + learning_rate * 1 * target   # 편향: 입력이 1이라고 볼 수 있음\n",
        "    print('가중치 수정후 target :{} y:{} b:{} W:{}'.format(target, y, b, W))\n",
        "    return True"
      ],
      "execution_count": 9,
      "outputs": []
    },
    {
      "cell_type": "code",
      "metadata": {
        "id": "lWsIIQJeEHlq"
      },
      "source": [
        "def predict(inputs):\n",
        "    outputs = []\n",
        "    for x in inputs:\n",
        "        outputs.append (out(x))\n",
        "    return outputs"
      ],
      "execution_count": 10,
      "outputs": []
    },
    {
      "cell_type": "code",
      "metadata": {
        "id": "IG4J9Bp9EL_9"
      },
      "source": [
        "adjusted = 0\n",
        "for i in range(100):\n",
        "    adjusted += train(-1,-1, -1)    # 훈련 데이터 1\n",
        "    adjusted += train(-1, 1,  1)    # 훈련 데이터 2\n",
        "    adjusted += train( 1,-1,  1)    # 훈련 데이터 3\n",
        "    adjusted += train( 1, 1,  1)    # 훈련 데이터 4\n",
        "    print(\"iteration -------------\", i)\n",
        "    if not adjusted: break  # 모든 훈련에 대해 가중치 변화 없으면 학습종료\n",
        "    adjusted = 0"
      ],
      "execution_count": null,
      "outputs": []
    },
    {
      "cell_type": "code",
      "metadata": {
        "id": "r1ankGzKEPIL"
      },
      "source": [
        "X = [[-1, -1], [-1, 1], [1, -1], [1,1]]\n",
        "yhat = predict(X)\n",
        "print('x0 x1  y')\n",
        "for i in range(len(X)):\n",
        "    print('{0:2d} {1:2d} {2:2d}'.format(X[i][0], X[i][1], yhat[i]))"
      ],
      "execution_count": null,
      "outputs": []
    },
    {
      "cell_type": "markdown",
      "metadata": {
        "id": "MX2kGsQrGkE7"
      },
      "source": [
        "### LAB 3 : 다양한 논리 연산이 가능하게 퍼셉트론 훈련하기"
      ]
    },
    {
      "cell_type": "code",
      "metadata": {
        "id": "FlAImlE8Gd7L"
      },
      "source": [
        "adjusted = 0\n",
        "for i in range(100):\n",
        "    adjusted += train(-1,-1, -1)    # 훈련 데이터 1\n",
        "    adjusted += train(-1, 1, -1)    # 훈련 데이터 2\n",
        "    adjusted += train( 1,-1, -1)    # 훈련 데이터 3\n",
        "    adjusted += train( 1, 1,  1)    # 훈련 데이터 4\n",
        "    print(\"iteration -------------\", i)\n",
        "    if not adjusted: break  # 모든 훈련에 대해 가중치 변화 없으면 학습종료\n",
        "    adjusted = 0"
      ],
      "execution_count": null,
      "outputs": []
    },
    {
      "cell_type": "code",
      "metadata": {
        "id": "I24-niO2GsHx"
      },
      "source": [
        "X = [[-1, -1], [-1, 1], [1, -1], [1,1]]\n",
        "yhat = predict(X)\n",
        "print('x0 x1  y')\n",
        "for i in range(len(X)):\n",
        "    print('{0:2d} {1:2d} {2:2d}'.format(X[i][0], X[i][1], yhat[i]))"
      ],
      "execution_count": null,
      "outputs": []
    },
    {
      "cell_type": "markdown",
      "metadata": {
        "id": "KxaFiUKIG91L"
      },
      "source": [
        "### NAND 구현"
      ]
    },
    {
      "cell_type": "code",
      "metadata": {
        "id": "Lcw4F9x7GxLN"
      },
      "source": [
        "adjusted = 0\n",
        "for i in range(100):\n",
        "    adjusted += train(-1,-1,  1)    # 훈련 데이터 1\n",
        "    adjusted += train(-1, 1,  1)    # 훈련 데이터 2\n",
        "    adjusted += train( 1,-1,  1)    # 훈련 데이터 3\n",
        "    adjusted += train( 1, 1, -1)    # 훈련 데이터 4\n",
        "    print(\"iteration -------------\", i)\n",
        "    if not adjusted: break  # 모든 훈련에 대해 가중치 변화 없으면 학습종료\n",
        "    adjusted = 0"
      ],
      "execution_count": null,
      "outputs": []
    },
    {
      "cell_type": "code",
      "metadata": {
        "id": "gmo9HjpxHIzJ"
      },
      "source": [
        "X = [[-1, -1], [-1, 1], [1, -1], [1,1]]\n",
        "yhat = predict(X)\n",
        "print('x0 x1  y')\n",
        "for i in range(len(X)):\n",
        "    print('{0:2d} {1:2d} {2:2d}'.format(X[i][0], X[i][1], yhat[i]))"
      ],
      "execution_count": null,
      "outputs": []
    },
    {
      "cell_type": "markdown",
      "metadata": {
        "id": "R3cPDI59HVbB"
      },
      "source": [
        "### 도전문제 1 XOR의 진리표를 이용하여 퍼셉트론을 학습시켜 보자"
      ]
    },
    {
      "cell_type": "code",
      "metadata": {
        "id": "QJQeGjAFHPby"
      },
      "source": [
        "# XOR 진리표는 학습이 되지 않음!!\n",
        "adjusted = 0\n",
        "for i in range(100):\n",
        "    adjusted += train(-1,-1, -1)    # 훈련 데이터 1\n",
        "    adjusted += train(-1, 1,  1)    # 훈련 데이터 2\n",
        "    adjusted += train( 1,-1,  1)    # 훈련 데이터 3\n",
        "    adjusted += train( 1, 1, -1)    # 훈련 데이터 4\n",
        "    print(\"iteration -------------\", i)\n",
        "    if not adjusted: break  # 모든 훈련에 대해 가중치 변화 없으면 학습종료\n",
        "    adjusted = 0"
      ],
      "execution_count": null,
      "outputs": []
    },
    {
      "cell_type": "markdown",
      "metadata": {
        "id": "dhVgUznCH_Jp"
      },
      "source": [
        "\n",
        "### LAB 4 : 입력 다항화로 XOR를 해결해 보기"
      ]
    },
    {
      "cell_type": "code",
      "metadata": {
        "id": "9cTGyU0AIHNv"
      },
      "source": [
        "import numpy as np\n",
        "\n",
        "W = np.array([0, 0, 0, 0])\n",
        "learning_rate = 0.01"
      ],
      "execution_count": 18,
      "outputs": []
    },
    {
      "cell_type": "code",
      "metadata": {
        "id": "gXm0bw-RIIMT"
      },
      "source": [
        "def activation(s):\n",
        "    if s > 0: return 1\n",
        "    elif s < 0: return -1\n",
        "    return 0"
      ],
      "execution_count": 19,
      "outputs": []
    },
    {
      "cell_type": "code",
      "metadata": {
        "id": "Z7hyIz6BIKSm"
      },
      "source": [
        "def out(polyX) :\n",
        "    return activation (W.dot(polyX))"
      ],
      "execution_count": 20,
      "outputs": []
    },
    {
      "cell_type": "code",
      "metadata": {
        "id": "arHwyJ_yIMmw"
      },
      "source": [
        "def train(x0, x1, target):\n",
        "    global W\n",
        "    polyX = np.array([x0, x1, x0*x1, 1])\n",
        "    y = out(polyX)\n",
        "\n",
        "    ### 예측이 맞으면 아무것도 하지 않음-------------------------------------\n",
        "    if target == y: return 0               # 가중치가 변경되지 않았음을 반환\n",
        "    ### 예측이 틀리면 학습 실시---------------------------------------------\n",
        "    print('가중치 수정전 target :{} y:{} W:{}'.format(target, y, W))\n",
        "    W = W + learning_rate * polyX * target # 입력x목표값에 비례하여 변경\n",
        "    print('가중치 수정후 target :{} y:{} W:{}'.format(target, y, W))\n",
        "    return 1                               # 가중치가 변경되었음을 반환"
      ],
      "execution_count": 21,
      "outputs": []
    },
    {
      "cell_type": "code",
      "metadata": {
        "id": "FK0AaaUlIXX7"
      },
      "source": [
        "def predict(inputs):\n",
        "    outputs = []\n",
        "    for x in inputs:\n",
        "        polyX = np.array([x[0], x[1], x[0]*x[1], 1])\n",
        "        outputs.append (out(polyX))\n",
        "    return outputs"
      ],
      "execution_count": 22,
      "outputs": []
    },
    {
      "cell_type": "code",
      "metadata": {
        "id": "H5IC34vHIang"
      },
      "source": [
        "adjusted = 0\n",
        "for i in range(100):\n",
        "    adjusted += train(-1,-1, -1)    # 훈련 데이터 1\n",
        "    adjusted += train(-1, 1,  1)    # 훈련 데이터 2\n",
        "    adjusted += train( 1,-1,  1)    # 훈련 데이터 3\n",
        "    adjusted += train( 1, 1, -1)    # 훈련 데이터 4\n",
        "    print(\"iteration -------------\", i)\n",
        "    if not adjusted: break  # 모든 훈련에 대해 가중치 변화 없으면 학습종료\n",
        "    adjusted = 0\n",
        "\n",
        "X = [[-1, -1], [-1, 1], [1, -1], [1,1]]\n",
        "yhat = predict(X)\n",
        "print('x0 x1  y')\n",
        "for i in range(len(X)):\n",
        "    print('{0:2d} {1:2d} {2:2d}'.format(X[i][0], X[i][1], yhat[i]))"
      ],
      "execution_count": null,
      "outputs": []
    },
    {
      "cell_type": "markdown",
      "metadata": {
        "id": "oQhR1VMYRjMH"
      },
      "source": [
        "### LAB 5 : XOR 연산이 가능한 다층 퍼셉트론 만들기"
      ]
    },
    {
      "cell_type": "code",
      "metadata": {
        "id": "iYEggK_ARohF"
      },
      "source": [
        "import numpy as np\n",
        "import matplotlib.pyplot as plt"
      ],
      "execution_count": 24,
      "outputs": []
    },
    {
      "cell_type": "markdown",
      "metadata": {
        "id": "D2riW_3TStxJ"
      },
      "source": [
        "U: 연결강도 $\\mathbf U$\n",
        "\n",
        "W: 연결강도 $\\mathbf W$\n",
        "\n",
        "learning_rate: 학습률 $\\eta$"
      ]
    },
    {
      "cell_type": "code",
      "metadata": {
        "id": "3JFrADH8RyAm"
      },
      "source": [
        "U = np.random.rand(2,3)   # 연결강도\n",
        "W = np.random.rand(3,2)   # 연결강도\n",
        "learning_rate = 1.0       # 학습률"
      ],
      "execution_count": 25,
      "outputs": []
    },
    {
      "cell_type": "code",
      "metadata": {
        "id": "9sN0j9SeSPWt"
      },
      "source": [
        "def sigmoid(v):\n",
        "    return 1 / (1+np.exp(-v))\n",
        "\n",
        "def derivative_sigmoid(v):\n",
        "    s = sigmoid(v)\n",
        "    return s*(1-s)"
      ],
      "execution_count": 26,
      "outputs": []
    },
    {
      "cell_type": "markdown",
      "metadata": {
        "id": "36cuWksBWC6A"
      },
      "source": [
        "순전파시 계산될 값들 : $\\mathbf h^{\\Sigma} ~ \\mathbf h^{\\phi} ~ \\mathbf h^{{\\phi}'}$\n",
        "\n",
        "역전파시 계산될 값들 : $\\mathbf e^h ~ \\delta^h$\n",
        "\n",
        "\n",
        "순전파시 계산될 값들 : $\\mathbf y^{\\Sigma} ~ \\mathbf y^{\\phi} ~ \\mathbf y^{{\\phi}'}$\n",
        "\n",
        "역전파시 계산될 값들 : $ \\mathbf e^y ~ \\delta^y $"
      ]
    },
    {
      "cell_type": "code",
      "metadata": {
        "id": "ja5YfC_6SQ-L"
      },
      "source": [
        "input = np.zeros(2)\n",
        "\n",
        "# 순전파시 계산될 값들\n",
        "h_sum, h_out, h_deriv = np.zeros(3), np.zeros(3), np.zeros(3)\n",
        "# 역전파시 계산될 값들\n",
        "h_error, h_delta = np.zeros(3), np.zeros(3)\n",
        "\n",
        "# 순전파시 계산될 값들\n",
        "y_sum, y_out, y_deriv = np.zeros(2), np.zeros(2), np.zeros(2)\n",
        "# 역전파시 계산될 값들\n",
        "y_error, y_delta = np.zeros(2), np.zeros(2)"
      ],
      "execution_count": 27,
      "outputs": []
    },
    {
      "cell_type": "markdown",
      "metadata": {
        "id": "XIx5LokmX29v"
      },
      "source": [
        "은닉층에서 합산된 값: $\\mathbf h^{\\Sigma} = \\mathbf U^{\\mathrm T} \\mathbf x$\n",
        "\n",
        "은닉층의 활성화 값: $\\mathbf h^{\\phi} = \\phi(\\mathbf h^{\\Sigma})$\n",
        "\n",
        "은닉층 활성화 미분치: $\\mathbf h^{{\\phi}'} = \\phi'(\\mathbf h^{\\Sigma})$"
      ]
    },
    {
      "cell_type": "code",
      "metadata": {
        "id": "cS8fw2cLSUhq"
      },
      "source": [
        "def forward_xh(x):\n",
        "    global input, h_sum, h_out, h_deriv\n",
        "    input = x\n",
        "    h_sum = U.T.dot(input)                 # 은닉층에서 합산된 값\n",
        "    h_out = sigmoid(h_sum)                 # 은닉층의 활성화 값\n",
        "    h_deriv = derivative_sigmoid(h_sum)    # 은닉층 활성화 미분치"
      ],
      "execution_count": 28,
      "outputs": []
    },
    {
      "cell_type": "markdown",
      "metadata": {
        "id": "eCv1E9ifYUmP"
      },
      "source": [
        "출력층에서 합산된 값: $\\mathbf y^{\\Sigma} = \\mathbf W^{\\mathrm T} \\mathbf x$\n",
        "\n",
        "출력층의 활성화 값: $\\mathbf y^{\\phi} = \\phi(\\mathbf y^{\\Sigma})$\n",
        "\n",
        "출력층 활성화 미분치: $\\mathbf y^{{\\phi}'} = \\phi'(\\mathbf y^{\\Sigma})$"
      ]
    },
    {
      "cell_type": "code",
      "metadata": {
        "id": "noDseci6Snpo"
      },
      "source": [
        "def forward_hy():\n",
        "    global y_sum, y_out, y_deriv\n",
        "    y_sum = W.T.dot(h_out)                  # 출력층에서 합산된 값\n",
        "    y_out = sigmoid(y_sum)                  # 출력층의 활성화 값\n",
        "    y_deriv = derivative_sigmoid(y_sum)     # 출력층의 활성화 미분치"
      ],
      "execution_count": 29,
      "outputs": []
    },
    {
      "cell_type": "markdown",
      "metadata": {
        "id": "Tw_5W1MKYyBM"
      },
      "source": [
        "오차 계산: $ \\mathbf y^{\\phi} - \\mathbf t$"
      ]
    },
    {
      "cell_type": "code",
      "metadata": {
        "id": "voh88bUeSqVB"
      },
      "source": [
        "def compute_error(target):\n",
        "    return y_out - target                   # 오차의 계산"
      ],
      "execution_count": 30,
      "outputs": []
    },
    {
      "cell_type": "markdown",
      "metadata": {
        "id": "7YB0l0cJZJPe"
      },
      "source": [
        "출력층 오차 : $\\mathbf e^y$\n",
        "\n",
        "출력층에서 보내는 델타: $\\delta^y = \\mathbf y^{{\\phi}'} \\otimes \\mathbf e^y$\n",
        "\n",
        "연결강도 갱신: $\\Delta \\mathbf W = \\eta \\mathbf h^{\\phi} {\\delta^y}^{\\mathrm T}$"
      ]
    },
    {
      "cell_type": "code",
      "metadata": {
        "id": "-3zlHV2aSsjZ"
      },
      "source": [
        "def backward_y(error):\n",
        "    global y_error, y_delta, W\n",
        "    y_error = error                                    # 출력층 오차\n",
        "    y_delta = y_deriv * y_error                        # 출력층에서 보내는 델타\n",
        "    ## 연결강도 W 수정\n",
        "    dW = - learning_rate * np.outer(h_out, y_delta)    # 연결강도 갱신: 은닉층 출력과 출력층 델타의 외적\n",
        "    W = W + dW"
      ],
      "execution_count": 31,
      "outputs": []
    },
    {
      "cell_type": "markdown",
      "metadata": {
        "id": "xOVJU17Sau-J"
      },
      "source": [
        "은닉층 오차 : $\\mathbf e^h = \\mathbf W \\delta^y$\n",
        "\n",
        "은닉층에서 보내는 델타: $\\delta^h = \\mathbf h^{{\\phi}'} \\otimes \\mathbf e^h$\n",
        "\n",
        "연결강도 갱신: $\\Delta \\mathbf U = \\eta \\mathbf x^{\\phi} {\\delta^h}^{\\mathrm T}$"
      ]
    },
    {
      "cell_type": "code",
      "metadata": {
        "id": "PlE54jkLSvNC"
      },
      "source": [
        "def backward_h():\n",
        "   global h_error, h_delta, U\n",
        "   h_error = W.dot(y_delta)                             # 은닉층 오차\n",
        "   h_delta = h_deriv * h_error                          # 은닉층에서 보내는 델타\n",
        "   ## 연결강도 U 수정\n",
        "   dU = - learning_rate * np.outer(input, h_delta)      # 연결강도 갱신\n",
        "   U = U + dU"
      ],
      "execution_count": 32,
      "outputs": []
    },
    {
      "cell_type": "code",
      "metadata": {
        "id": "t0e4ZygcSx_z"
      },
      "source": [
        "def train(x, target):\n",
        "    forward_xh(x)\n",
        "    forward_hy()\n",
        "    e = compute_error(target)\n",
        "    backward_y(e)\n",
        "    backward_h()\n",
        "    return e**2"
      ],
      "execution_count": 33,
      "outputs": []
    },
    {
      "cell_type": "code",
      "metadata": {
        "id": "v5vUsbKmS0bM"
      },
      "source": [
        "loss = []\n",
        "\n",
        "for i in range(1000):\n",
        "    e_accum=0\n",
        "    true = np.array([1,0])\n",
        "    false = np.array([0,1])\n",
        "    e_accum += train(np.array([0,0]), false)    # 훈련 데이터 1\n",
        "    e_accum += train(np.array([0,1]), true)     # 훈련 데이터 2\n",
        "    e_accum += train(np.array([1,0]), true)     # 훈련 데이터 3\n",
        "    e_accum += train(np.array([1,1]), false)    # 훈련 데이터 4\n",
        "    loss.append(e_accum)"
      ],
      "execution_count": 34,
      "outputs": []
    },
    {
      "cell_type": "code",
      "metadata": {
        "id": "9gQO_AFPS4KF"
      },
      "source": [
        "plt.plot(loss)\n",
        "plt.ylabel('loss')\n",
        "plt.xlabel('training')\n",
        "plt.show()"
      ],
      "execution_count": null,
      "outputs": []
    },
    {
      "cell_type": "code",
      "metadata": {
        "id": "nArPP0bkTFnx"
      },
      "source": [
        "def test(X):\n",
        "    y_hat = []\n",
        "    for x in X:\n",
        "        forward_xh(x)\n",
        "        forward_hy()\n",
        "        y_hat.append(y_out)\n",
        "    return y_hat"
      ],
      "execution_count": 36,
      "outputs": []
    },
    {
      "cell_type": "code",
      "metadata": {
        "id": "36glHze-UZqu"
      },
      "source": [
        "test(np.array([[0, 0], [0, 1], [1, 0], [1, 1]]))"
      ],
      "execution_count": null,
      "outputs": []
    },
    {
      "cell_type": "markdown",
      "metadata": {
        "id": "JgQi1smwPxxL"
      },
      "source": [
        "\n",
        "\n",
        "### LAB 6 : 다층 퍼셉트론으로 비선형 회귀 구현하기"
      ]
    },
    {
      "cell_type": "code",
      "metadata": {
        "id": "D54qOTCrVbVO"
      },
      "source": [
        "import pandas as pd\n",
        "import matplotlib.pyplot as plt\n",
        "import numpy as np\n",
        "\n",
        "data_loc = 'https://github.com/dknife/ML/raw/main/data/'\n",
        "df = pd.read_csv(data_loc+'nonlinear.csv')\n",
        "plt.scatter(df['x'], df['y'])"
      ],
      "execution_count": null,
      "outputs": []
    },
    {
      "cell_type": "code",
      "metadata": {
        "id": "B59BZXWLVcFK"
      },
      "source": [
        "nx, nh1, nh2, ny = 1, 6, 4, 1\n",
        "U = np.random.randn(nx , nh1)*2\n",
        "V = np.random.randn(nh1, nh2)*2\n",
        "W = np.random.randn(nh2, ny)*2\n",
        "learning_rate = 0.1"
      ],
      "execution_count": 38,
      "outputs": []
    },
    {
      "cell_type": "code",
      "metadata": {
        "id": "vasOkRuXDhxL"
      },
      "source": [
        "def sigmoid(v):\n",
        "    return 1 / (1+np.exp(-v))"
      ],
      "execution_count": 39,
      "outputs": []
    },
    {
      "cell_type": "code",
      "metadata": {
        "id": "U2-84_rGDmAg"
      },
      "source": [
        "input = np.zeros(nx)\n",
        "\n",
        "h1_out, h1_deriv = np.zeros(nh1), np.zeros(nh1) # 순전파시 계산 - 은닉계층 1\n",
        "h1_delta = np.zeros(nh1)                        # 역전파시 계산\n",
        "\n",
        "h2_out, h2_deriv = np.zeros(nh2), np.zeros(nh2) # 순전파시 계산 - 은닉계층 2\n",
        "h2_delta = np.zeros(nh2)                        # 역전파시 계산\n",
        "\n",
        "y_out, y_deriv = np.zeros(ny), np.zeros(ny)     # 순전파시 계산 - 출력계층\n",
        "y_delta = np.zeros(ny)                          # 역전파시 계산"
      ],
      "execution_count": 40,
      "outputs": []
    },
    {
      "cell_type": "code",
      "metadata": {
        "id": "oLkcOCYLDoZQ"
      },
      "source": [
        "def forward(x):\n",
        "    global input, h1_out, h1_deriv, h2_out, h2_deriv, y_out, y_deriv\n",
        "    input = x\n",
        "    h1_out = sigmoid ( U.T.dot(input) )          # 은닉계층 1로 전파\n",
        "    h1_deriv = h1_out * (1 - h1_out)             # 은닉계층 1의 미분\n",
        "\n",
        "    h2_out = sigmoid ( V.T.dot(h1_out) )         # 은닉계층 2로 전파\n",
        "    h2_deriv = h2_out * (1 - h2_out)             # 은닉계층 2의 미분\n",
        "\n",
        "    y_out = sigmoid( W.T.dot(h2_out) )           # 출력계층으로 전파\n",
        "    y_deriv = y_out * (1 - y_out)                # 출력계층의 미분"
      ],
      "execution_count": 41,
      "outputs": []
    },
    {
      "cell_type": "code",
      "metadata": {
        "id": "Otl8f2-2DqpI"
      },
      "source": [
        "def compute_error(target):\n",
        "    return y_out - target"
      ],
      "execution_count": 42,
      "outputs": []
    },
    {
      "cell_type": "code",
      "metadata": {
        "id": "vjCpMKsUDs1Q"
      },
      "source": [
        "def backward(error):\n",
        "    global y_delta, W, h2_delta, V, h1_delta, U\n",
        "\n",
        "    y_delta = y_deriv * error                         # 출력 계층의 델타\n",
        "    dW = - learning_rate * np.outer(h2_out, y_delta)  # W의 수정\n",
        "\n",
        "    W = W + dW\n",
        "    h2_delta = h2_deriv * W.dot(y_delta)              # 은닉 계층 2의 델타\n",
        "    dV = - learning_rate * np.outer(h1_out, h2_delta) # V의 수정\n",
        "\n",
        "    V = V + dV\n",
        "    h1_delta = h1_deriv * V.dot(h2_delta)             # 은닉 계층 1의 델타\n",
        "    dU = - learning_rate * np.outer(input, h1_delta)  # U의 수정"
      ],
      "execution_count": 43,
      "outputs": []
    },
    {
      "cell_type": "code",
      "metadata": {
        "id": "5hPJ6RMyDuzf"
      },
      "source": [
        "def train(x, target):\n",
        "    forward(x)\n",
        "    e = compute_error(target)\n",
        "    backward(e)\n",
        "    return e**2"
      ],
      "execution_count": 44,
      "outputs": []
    },
    {
      "cell_type": "code",
      "metadata": {
        "id": "SH0chacbDwzY"
      },
      "source": [
        "loss = []\n",
        "X = df['x'].to_numpy()\n",
        "y_label = df['y'].to_numpy()\n",
        "for i in range(100):\n",
        "    e_accum = 0\n",
        "    for x, y in zip(X, y_label):\n",
        "        e_accum += train(x, y)\n",
        "    loss.append(e_accum)"
      ],
      "execution_count": 48,
      "outputs": []
    },
    {
      "cell_type": "code",
      "metadata": {
        "id": "1yMJs12lD1Cv"
      },
      "source": [
        "err_log = np.array(loss).flatten()\n",
        "plt.plot(err_log)\n",
        "plt.show()"
      ],
      "execution_count": null,
      "outputs": []
    },
    {
      "cell_type": "code",
      "metadata": {
        "id": "zoeerS03D4jH"
      },
      "source": [
        "def predict(X):\n",
        "    y_hat = []\n",
        "    for x in X:\n",
        "        forward(x)\n",
        "        y_hat.append(y_out)\n",
        "    return y_hat"
      ],
      "execution_count": 49,
      "outputs": []
    },
    {
      "cell_type": "code",
      "metadata": {
        "id": "dr3yC1WoD7nP"
      },
      "source": [
        "domain = np.linspace(0, 1, 100).reshape(-1,1) # 입력은 2차원 벡터로 변형\n",
        "y_hat = predict(domain)\n",
        "plt.scatter(df['x'], df['y'])\n",
        "plt.scatter(domain, y_hat, color='r')"
      ],
      "execution_count": null,
      "outputs": []
    },
    {
      "cell_type": "markdown",
      "metadata": {
        "id": "Lu1uaez9EI8Q"
      },
      "source": [
        "### 11 신경망을 쉽게 설계하고 훈련을 실시할 수 있는 도구 활용"
      ]
    },
    {
      "cell_type": "code",
      "metadata": {
        "id": "Q4tax9HxELdw"
      },
      "source": [
        "import pandas as pd\n",
        "import numpy as np\n",
        "import matplotlib.pyplot as plt\n",
        "\n",
        "# 텐서플로우와 케라스를 사용할 수 있도록 준비\n",
        "import tensorflow as tf\n",
        "from tensorflow import keras"
      ],
      "execution_count": 91,
      "outputs": []
    },
    {
      "cell_type": "code",
      "metadata": {
        "id": "U2sAfKo7EObI"
      },
      "source": [
        "model = keras.models.Sequential( [\n",
        "    keras.layers.Dense(6, activation= 'sigmoid', input_shape=(1,)),\n",
        "    keras.layers.Dense(4, activation= 'sigmoid'),\n",
        "    keras.layers.Dense(1, activation= 'sigmoid'),\n",
        "])"
      ],
      "execution_count": null,
      "outputs": []
    },
    {
      "cell_type": "code",
      "metadata": {
        "id": "H8_WbPmWEQgQ"
      },
      "source": [
        "optimizer = keras.optimizers.SGD(learning_rate=5.0)\n",
        "model.compile(optimizer=optimizer, loss='mse')"
      ],
      "execution_count": 93,
      "outputs": []
    },
    {
      "cell_type": "code",
      "metadata": {
        "id": "u8LHaN2PESnQ"
      },
      "source": [
        "data_loc = 'https://github.com/dknife/ML/raw/main/data/'\n",
        "df = pd.read_csv(data_loc+'nonlinear.csv')\n",
        "X = df['x'].to_numpy()\n",
        "y_label = df['y'].to_numpy()"
      ],
      "execution_count": 94,
      "outputs": []
    },
    {
      "cell_type": "code",
      "metadata": {
        "id": "YGgPyzcQEUXH"
      },
      "source": [
        "model.fit(X, y_label, epochs=100)"
      ],
      "execution_count": null,
      "outputs": []
    },
    {
      "cell_type": "code",
      "metadata": {
        "id": "ACA2gF-6EWeQ"
      },
      "source": [
        "domain = np.linspace(0, 1, 100).reshape(-1,1) # 입력은 2차원 벡터로 변형\n",
        "y_hat = model.predict(domain)\n",
        "plt.scatter(df['x'], df['y'])\n",
        "plt.scatter(domain, y_hat, color='r')"
      ],
      "execution_count": null,
      "outputs": []
    }
  ]
}