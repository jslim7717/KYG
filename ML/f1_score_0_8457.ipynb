{
  "nbformat": 4,
  "nbformat_minor": 0,
  "metadata": {
    "colab": {
      "provenance": [],
      "gpuType": "T4"
    },
    "kernelspec": {
      "name": "python3",
      "display_name": "Python 3"
    },
    "language_info": {
      "name": "python"
    },
    "accelerator": "GPU"
  },
  "cells": [
    {
      "cell_type": "markdown",
      "source": [
        "1. 성능평가지표 f1, AUC O\n",
        "2. voting(soft) x\n",
        "3. quantization o\n",
        "4. cnn 계열 모델(densenet, inception-v3, resnet18, 34, 50) o\n",
        "5. scheduler(reduceLRonPlateau) o\n",
        "6. 증강 x\n",
        "ppt\n",
        "1.스팩트로그램 변환 o\n",
        "2.split(val) o\n",
        "\n",
        "\n",
        "grid-search\n",
        "ablation=optuna"
      ],
      "metadata": {
        "id": "bSnHdxrkRKVL"
      }
    },
    {
      "cell_type": "code",
      "source": [
        "# Google Drive 마운트\n",
        "from google.colab import drive\n",
        "drive.mount('/content/drive')"
      ],
      "metadata": {
        "colab": {
          "base_uri": "https://localhost:8080/"
        },
        "id": "z9Wo6fWD3b5F",
        "outputId": "2c6e3e5a-8e3c-4b18-ec75-b43b74c49afd"
      },
      "execution_count": null,
      "outputs": [
        {
          "output_type": "stream",
          "name": "stdout",
          "text": [
            "Mounted at /content/drive\n"
          ]
        }
      ]
    },
    {
      "cell_type": "code",
      "source": [
        "# 압축 해제 명령\n",
        "!unzip -qq \"/content/drive/MyDrive/dataset.zip\" -d dataset"
      ],
      "metadata": {
        "id": "wSdl7ARSQPVM"
      },
      "execution_count": null,
      "outputs": []
    },
    {
      "cell_type": "code",
      "source": [
        "# 압축 해제 명령\n",
        "!unzip -qq \"/content/drive/MyDrive/Dataset_spec.zip\" -d dataset1"
      ],
      "metadata": {
        "id": "oCy5W-bAnI-0"
      },
      "execution_count": null,
      "outputs": []
    },
    {
      "cell_type": "code",
      "source": [
        "!ls /content/dataset1/train_spec/non-violence"
      ],
      "metadata": {
        "colab": {
          "base_uri": "https://localhost:8080/"
        },
        "id": "inrWIhB70DU_",
        "outputId": "6de7a247-347a-4b85-8468-61ef57e9f89d"
      },
      "execution_count": null,
      "outputs": [
        {
          "output_type": "stream",
          "name": "stdout",
          "text": [
            "'아들맘은 역시 현명해 😇 #101호 #101호하윤맘_[cut_10sec]_[cut_10sec]_part0.png'\n",
            "'아들맘은 역시 현명해 😇 #101호 #101호하윤맘_[cut_10sec]_[cut_10sec]_part1.png'\n",
            "'아들맘은 역시 현명해 😇 #101호 #101호하윤맘_[cut_10sec]_[cut_10sec]_part2.png'\n",
            "'아들맘은 역시 현명해 😇 #101호 #101호하윤맘_[cut_10sec]_[cut_10sec]_part3.png'\n",
            "'1시간 영어 듣기 연습 2023년편 - 파트 4_[cut_119sec]_part0.png'\n",
            "'1시간 영어 듣기 연습 2023년편 - 파트 4_[cut_119sec]_part10.png'\n",
            "'1시간 영어 듣기 연습 2023년편 - 파트 4_[cut_119sec]_part11.png'\n",
            "'1시간 영어 듣기 연습 2023년편 - 파트 4_[cut_119sec]_part12.png'\n",
            "'1시간 영어 듣기 연습 2023년편 - 파트 4_[cut_119sec]_part13.png'\n",
            "'1시간 영어 듣기 연습 2023년편 - 파트 4_[cut_119sec]_part14.png'\n",
            "'1시간 영어 듣기 연습 2023년편 - 파트 4_[cut_119sec]_part15.png'\n",
            "'1시간 영어 듣기 연습 2023년편 - 파트 4_[cut_119sec]_part16.png'\n",
            "'1시간 영어 듣기 연습 2023년편 - 파트 4_[cut_119sec]_part17.png'\n",
            "'1시간 영어 듣기 연습 2023년편 - 파트 4_[cut_119sec]_part18.png'\n",
            "'1시간 영어 듣기 연습 2023년편 - 파트 4_[cut_119sec]_part19.png'\n",
            "'1시간 영어 듣기 연습 2023년편 - 파트 4_[cut_119sec]_part1.png'\n",
            "'1시간 영어 듣기 연습 2023년편 - 파트 4_[cut_119sec]_part20.png'\n",
            "'1시간 영어 듣기 연습 2023년편 - 파트 4_[cut_119sec]_part21.png'\n",
            "'1시간 영어 듣기 연습 2023년편 - 파트 4_[cut_119sec]_part22.png'\n",
            "'1시간 영어 듣기 연습 2023년편 - 파트 4_[cut_119sec]_part23.png'\n",
            "'1시간 영어 듣기 연습 2023년편 - 파트 4_[cut_119sec]_part24.png'\n",
            "'1시간 영어 듣기 연습 2023년편 - 파트 4_[cut_119sec]_part25.png'\n",
            "'1시간 영어 듣기 연습 2023년편 - 파트 4_[cut_119sec]_part26.png'\n",
            "'1시간 영어 듣기 연습 2023년편 - 파트 4_[cut_119sec]_part27.png'\n",
            "'1시간 영어 듣기 연습 2023년편 - 파트 4_[cut_119sec]_part28.png'\n",
            "'1시간 영어 듣기 연습 2023년편 - 파트 4_[cut_119sec]_part29.png'\n",
            "'1시간 영어 듣기 연습 2023년편 - 파트 4_[cut_119sec]_part2.png'\n",
            "'1시간 영어 듣기 연습 2023년편 - 파트 4_[cut_119sec]_part30.png'\n",
            "'1시간 영어 듣기 연습 2023년편 - 파트 4_[cut_119sec]_part31.png'\n",
            "'1시간 영어 듣기 연습 2023년편 - 파트 4_[cut_119sec]_part32.png'\n",
            "'1시간 영어 듣기 연습 2023년편 - 파트 4_[cut_119sec]_part33.png'\n",
            "'1시간 영어 듣기 연습 2023년편 - 파트 4_[cut_119sec]_part34.png'\n",
            "'1시간 영어 듣기 연습 2023년편 - 파트 4_[cut_119sec]_part35.png'\n",
            "'1시간 영어 듣기 연습 2023년편 - 파트 4_[cut_119sec]_part36.png'\n",
            "'1시간 영어 듣기 연습 2023년편 - 파트 4_[cut_119sec]_part37.png'\n",
            "'1시간 영어 듣기 연습 2023년편 - 파트 4_[cut_119sec]_part38.png'\n",
            "'1시간 영어 듣기 연습 2023년편 - 파트 4_[cut_119sec]_part39.png'\n",
            "'1시간 영어 듣기 연습 2023년편 - 파트 4_[cut_119sec]_part3.png'\n",
            "'1시간 영어 듣기 연습 2023년편 - 파트 4_[cut_119sec]_part4.png'\n",
            "'1시간 영어 듣기 연습 2023년편 - 파트 4_[cut_119sec]_part5.png'\n",
            "'1시간 영어 듣기 연습 2023년편 - 파트 4_[cut_119sec]_part6.png'\n",
            "'1시간 영어 듣기 연습 2023년편 - 파트 4_[cut_119sec]_part7.png'\n",
            "'1시간 영어 듣기 연습 2023년편 - 파트 4_[cut_119sec]_part8.png'\n",
            "'1시간 영어 듣기 연습 2023년편 - 파트 4_[cut_119sec]_part9.png'\n",
            "'1시간 영어 듣기 연습 2023년편 - 파트 4_[cut_73sec]_part0.png'\n",
            "'1시간 영어 듣기 연습 2023년편 - 파트 4_[cut_73sec]_part10.png'\n",
            "'1시간 영어 듣기 연습 2023년편 - 파트 4_[cut_73sec]_part11.png'\n",
            "'1시간 영어 듣기 연습 2023년편 - 파트 4_[cut_73sec]_part12.png'\n",
            "'1시간 영어 듣기 연습 2023년편 - 파트 4_[cut_73sec]_part13.png'\n",
            "'1시간 영어 듣기 연습 2023년편 - 파트 4_[cut_73sec]_part14.png'\n",
            "'1시간 영어 듣기 연습 2023년편 - 파트 4_[cut_73sec]_part15.png'\n",
            "'1시간 영어 듣기 연습 2023년편 - 파트 4_[cut_73sec]_part16.png'\n",
            "'1시간 영어 듣기 연습 2023년편 - 파트 4_[cut_73sec]_part17.png'\n",
            "'1시간 영어 듣기 연습 2023년편 - 파트 4_[cut_73sec]_part18.png'\n",
            "'1시간 영어 듣기 연습 2023년편 - 파트 4_[cut_73sec]_part19.png'\n",
            "'1시간 영어 듣기 연습 2023년편 - 파트 4_[cut_73sec]_part1.png'\n",
            "'1시간 영어 듣기 연습 2023년편 - 파트 4_[cut_73sec]_part20.png'\n",
            "'1시간 영어 듣기 연습 2023년편 - 파트 4_[cut_73sec]_part21.png'\n",
            "'1시간 영어 듣기 연습 2023년편 - 파트 4_[cut_73sec]_part22.png'\n",
            "'1시간 영어 듣기 연습 2023년편 - 파트 4_[cut_73sec]_part23.png'\n",
            "'1시간 영어 듣기 연습 2023년편 - 파트 4_[cut_73sec]_part24.png'\n",
            "'1시간 영어 듣기 연습 2023년편 - 파트 4_[cut_73sec]_part2.png'\n",
            "'1시간 영어 듣기 연습 2023년편 - 파트 4_[cut_73sec]_part3.png'\n",
            "'1시간 영어 듣기 연습 2023년편 - 파트 4_[cut_73sec]_part4.png'\n",
            "'1시간 영어 듣기 연습 2023년편 - 파트 4_[cut_73sec]_part5.png'\n",
            "'1시간 영어 듣기 연습 2023년편 - 파트 4_[cut_73sec]_part6.png'\n",
            "'1시간 영어 듣기 연습 2023년편 - 파트 4_[cut_73sec]_part7.png'\n",
            "'1시간 영어 듣기 연습 2023년편 - 파트 4_[cut_73sec]_part8.png'\n",
            "'1시간 영어 듣기 연습 2023년편 - 파트 4_[cut_73sec]_part9.png'\n",
            "'12주년에 서프라이즈 임밍아웃 하기#shorts_[cut_10sec]_[cut_10sec]_part0.png'\n",
            "'12주년에 서프라이즈 임밍아웃 하기#shorts_[cut_10sec]_[cut_10sec]_part1.png'\n",
            "'12주년에 서프라이즈 임밍아웃 하기#shorts_[cut_10sec]_[cut_10sec]_part2.png'\n",
            "'12주년에 서프라이즈 임밍아웃 하기#shorts_[cut_10sec]_[cut_10sec]_part3.png'\n",
            "'15살에 유엔빌리지 사는 아이의 방_[cut_10sec]_[cut_10sec]_part0.png'\n",
            "'15살에 유엔빌리지 사는 아이의 방_[cut_10sec]_[cut_10sec]_part1.png'\n",
            "'15살에 유엔빌리지 사는 아이의 방_[cut_10sec]_[cut_10sec]_part2.png'\n",
            "'15살에 유엔빌리지 사는 아이의 방_[cut_10sec]_[cut_10sec]_part3.png'\n",
            "'2번 보면 소름 돋는 영상…._[cut_9sec]_[cut_9sec]_part0.png'\n",
            "'2번 보면 소름 돋는 영상…._[cut_9sec]_[cut_9sec]_part1.png'\n",
            "'2번 보면 소름 돋는 영상…._[cut_9sec]_[cut_9sec]_part2.png'\n",
            "'2번 보면 소름 돋는 영상…._[cut_9sec]_[cut_9sec]_part3.png'\n",
            "'고3 여동생 졸업사진 컨셉 정해주기_[cut_9sec]_[cut_9sec]_part0.png'\n",
            "'고3 여동생 졸업사진 컨셉 정해주기_[cut_9sec]_[cut_9sec]_part1.png'\n",
            "'고3 여동생 졸업사진 컨셉 정해주기_[cut_9sec]_[cut_9sec]_part2.png'\n",
            "'고3 여동생 졸업사진 컨셉 정해주기_[cut_9sec]_[cut_9sec]_part3.png'\n",
            "'나이 50세에 금속 탐지기 하다. 시체 발견 Metal Detection in Korea_[cut_7sec]_[cut_7sec]_part0.png'\n",
            "'나이 50세에 금속 탐지기 하다. 시체 발견 Metal Detection in Korea_[cut_7sec]_[cut_7sec]_part1.png'\n",
            "'나이 50세에 금속 탐지기 하다. 시체 발견 Metal Detection in Korea_[cut_7sec]_[cut_7sec]_part2.png'\n",
            "'도깨비 아저씨보다 삼촌이 무섭다는 아이🥹 👉저작by(인스타)_ @jjmmmhhhh (저작동의_불펌금지)_[cut_9sec]_[cut_9sec]_part0.png'\n",
            "'도깨비 아저씨보다 삼촌이 무섭다는 아이🥹 👉저작by(인스타)_ @jjmmmhhhh (저작동의_불펌금지)_[cut_9sec]_[cut_9sec]_part1.png'\n",
            "'도깨비 아저씨보다 삼촌이 무섭다는 아이🥹 👉저작by(인스타)_ @jjmmmhhhh (저작동의_불펌금지)_[cut_9sec]_[cut_9sec]_part2.png'\n",
            "'도깨비 아저씨보다 삼촌이 무섭다는 아이🥹 👉저작by(인스타)_ @jjmmmhhhh (저작동의_불펌금지)_[cut_9sec]_[cut_9sec]_part3.png'\n",
            "'남친이랑 깨지길 바라는 친구들이 결국 웃음을 못 참은 이유_[cut_10sec]_[cut_10sec]_part0.png'\n",
            "'베트남 이발소아가씨가 덮쳤어요!#베트남이발소#여행#웃긴영상_[cut_10sec]_[cut_10sec]_part0.png'\n",
            "'남편이 준비한 것은__[cut_10sec]_[cut_10sec]_part0.png'\n",
            "'네자매 중 아빠의 선택은__[cut_10sec]_[cut_10sec]_part0.png'\n",
            "'남친이랑 깨지길 바라는 친구들이 결국 웃음을 못 참은 이유_[cut_10sec]_[cut_10sec]_part1.png'\n",
            "'베트남 이발소아가씨가 덮쳤어요!#베트남이발소#여행#웃긴영상_[cut_10sec]_[cut_10sec]_part1.png'\n",
            "'남편이 준비한 것은__[cut_10sec]_[cut_10sec]_part1.png'\n",
            "'네자매 중 아빠의 선택은__[cut_10sec]_[cut_10sec]_part1.png'\n",
            "'남친이랑 깨지길 바라는 친구들이 결국 웃음을 못 참은 이유_[cut_10sec]_[cut_10sec]_part2.png'\n",
            "'베트남 이발소아가씨가 덮쳤어요!#베트남이발소#여행#웃긴영상_[cut_10sec]_[cut_10sec]_part2.png'\n",
            "'남편이 준비한 것은__[cut_10sec]_[cut_10sec]_part2.png'\n",
            "'네자매 중 아빠의 선택은__[cut_10sec]_[cut_10sec]_part2.png'\n",
            "'남친이랑 깨지길 바라는 친구들이 결국 웃음을 못 참은 이유_[cut_10sec]_[cut_10sec]_part3.png'\n",
            "'베트남 이발소아가씨가 덮쳤어요!#베트남이발소#여행#웃긴영상_[cut_10sec]_[cut_10sec]_part3.png'\n",
            "'남편이 준비한 것은__[cut_10sec]_[cut_10sec]_part3.png'\n",
            "'네자매 중 아빠의 선택은__[cut_10sec]_[cut_10sec]_part3.png'\n",
            " 실제상황_-우버-드라이버와-스몰톡_-_영어회화-_영어표현-_원어민영어__cut_15sec__part0.png\n",
            " 실제상황_-우버-드라이버와-스몰톡_-_영어회화-_영어표현-_원어민영어__cut_15sec__part1.png\n",
            " 실제상황_-우버-드라이버와-스몰톡_-_영어회화-_영어표현-_원어민영어__cut_15sec__part2.png\n",
            " 실제상황_-우버-드라이버와-스몰톡_-_영어회화-_영어표현-_원어민영어__cut_15sec__part3.png\n",
            " 실제상황_-우버-드라이버와-스몰톡_-_영어회화-_영어표현-_원어민영어__cut_15sec__part4.png\n",
            " 영어로-스몰토크-하기-_생활영어-_영어회화__cut_3sec__part0.png\n",
            " 영어로-스몰토크-하기-_생활영어-_영어회화__cut_3sec__part1.png\n",
            "'긍정 우비 소년 태하 🐥_[cut_6sec]_[cut_6sec]_part0.png'\n",
            "'긍정 우비 소년 태하 🐥_[cut_6sec]_[cut_6sec]_part1.png'\n",
            "'긍정 우비 소년 태하 🐥_[cut_6sec]_[cut_6sec]_part2.png'\n",
            "'술취한 비련의 여동생_[cut_9sec]_[cut_10sec]_part0.png'\n",
            "'술취한 비련의 여동생_[cut_9sec]_[cut_10sec]_part1.png'\n",
            "'술취한 비련의 여동생_[cut_9sec]_[cut_10sec]_part2.png'\n",
            "'술취한 비련의 여동생_[cut_9sec]_[cut_10sec]_part3.png'\n",
            "'새끼고양이 아빠 몰래 데려왔는데.._[cut_9sec]_[cut_9sec]_part0.png'\n",
            "'딸같이 생각한다고 해서 진짜 딸처럼 한다면__[cut_9sec]_[cut_9sec]_part0.png'\n",
            "'긴장한 남편_[cut_9sec]_[cut_9sec]_part0.png'\n",
            "'며느리 집 보다 딸집이 편한이유_[cut_9sec]_[cut_9sec]_part0.png'\n",
            "'기태영 씨 침 닦으세요 _ 유진❤️기태영_[cut_9sec]_[cut_9sec]_part0.png'\n",
            "'아빠가 #늦둥이 딸을 사랑할 수 밖에 없는 이유_[cut_9sec]_[cut_9sec]_part0.png'\n",
            "'나랑 유전자를 공유하는 아기_[cut_9sec]_[cut_9sec]_part0.png'\n",
            "'그 사람이 보고 싶을 때 꼭 보세요!_[cut_9sec]_[cut_9sec]_part0.png'\n",
            "'새끼고양이 아빠 몰래 데려왔는데.._[cut_9sec]_[cut_9sec]_part1.png'\n",
            "'딸같이 생각한다고 해서 진짜 딸처럼 한다면__[cut_9sec]_[cut_9sec]_part1.png'\n",
            "'긴장한 남편_[cut_9sec]_[cut_9sec]_part1.png'\n",
            "'며느리 집 보다 딸집이 편한이유_[cut_9sec]_[cut_9sec]_part1.png'\n",
            "'기태영 씨 침 닦으세요 _ 유진❤️기태영_[cut_9sec]_[cut_9sec]_part1.png'\n",
            "'아빠가 #늦둥이 딸을 사랑할 수 밖에 없는 이유_[cut_9sec]_[cut_9sec]_part1.png'\n",
            "'나랑 유전자를 공유하는 아기_[cut_9sec]_[cut_9sec]_part1.png'\n",
            "'그 사람이 보고 싶을 때 꼭 보세요!_[cut_9sec]_[cut_9sec]_part1.png'\n",
            "'새끼고양이 아빠 몰래 데려왔는데.._[cut_9sec]_[cut_9sec]_part2.png'\n",
            "'딸같이 생각한다고 해서 진짜 딸처럼 한다면__[cut_9sec]_[cut_9sec]_part2.png'\n",
            "'긴장한 남편_[cut_9sec]_[cut_9sec]_part2.png'\n",
            "'며느리 집 보다 딸집이 편한이유_[cut_9sec]_[cut_9sec]_part2.png'\n",
            "'기태영 씨 침 닦으세요 _ 유진❤️기태영_[cut_9sec]_[cut_9sec]_part2.png'\n",
            "'아빠가 #늦둥이 딸을 사랑할 수 밖에 없는 이유_[cut_9sec]_[cut_9sec]_part2.png'\n",
            "'나랑 유전자를 공유하는 아기_[cut_9sec]_[cut_9sec]_part2.png'\n",
            "'그 사람이 보고 싶을 때 꼭 보세요!_[cut_9sec]_[cut_9sec]_part2.png'\n",
            "'새끼고양이 아빠 몰래 데려왔는데.._[cut_9sec]_[cut_9sec]_part3.png'\n",
            "'딸같이 생각한다고 해서 진짜 딸처럼 한다면__[cut_9sec]_[cut_9sec]_part3.png'\n",
            "'긴장한 남편_[cut_9sec]_[cut_9sec]_part3.png'\n",
            "'며느리 집 보다 딸집이 편한이유_[cut_9sec]_[cut_9sec]_part3.png'\n",
            "'기태영 씨 침 닦으세요 _ 유진❤️기태영_[cut_9sec]_[cut_9sec]_part3.png'\n",
            "'아빠가 #늦둥이 딸을 사랑할 수 밖에 없는 이유_[cut_9sec]_[cut_9sec]_part3.png'\n",
            "'나랑 유전자를 공유하는 아기_[cut_9sec]_[cut_9sec]_part3.png'\n",
            "'그 사람이 보고 싶을 때 꼭 보세요!_[cut_9sec]_[cut_9sec]_part3.png'\n",
            "'내가 너네 때문에 못살아 진짜~~~~~😆😆😆 #귀여워 #성장기록 D+530 #17개월아기_[cut_9sec]_[cut_9sec]_part0.png'\n",
            "'내가 너네 때문에 못살아 진짜~~~~~😆😆😆 #귀여워 #성장기록 D+530 #17개월아기_[cut_9sec]_[cut_9sec]_part1.png'\n",
            "'내가 너네 때문에 못살아 진짜~~~~~😆😆😆 #귀여워 #성장기록 D+530 #17개월아기_[cut_9sec]_[cut_9sec]_part2.png'\n",
            "'내가 너네 때문에 못살아 진짜~~~~~😆😆😆 #귀여워 #성장기록 D+530 #17개월아기_[cut_9sec]_[cut_9sec]_part3.png'\n",
            "'군대가는 친구에게 공유하세요... #음악 #음대생 #작곡 #작곡전공 #실용음악 #즉흥작곡 #노래 #music #군대 #현역 #대학생 #20대 #남자 #기타 #피아노 #shorts_[cut_10sec]_[cut_10sec]_part0.png'\n",
            "'군대가는 친구에게 공유하세요... #음악 #음대생 #작곡 #작곡전공 #실용음악 #즉흥작곡 #노래 #music #군대 #현역 #대학생 #20대 #남자 #기타 #피아노 #shorts_[cut_10sec]_[cut_10sec]_part1.png'\n",
            "'군대가는 친구에게 공유하세요... #음악 #음대생 #작곡 #작곡전공 #실용음악 #즉흥작곡 #노래 #music #군대 #현역 #대학생 #20대 #남자 #기타 #피아노 #shorts_[cut_10sec]_[cut_10sec]_part2.png'\n",
            "'군대가는 친구에게 공유하세요... #음악 #음대생 #작곡 #작곡전공 #실용음악 #즉흥작곡 #노래 #music #군대 #현역 #대학생 #20대 #남자 #기타 #피아노 #shorts_[cut_10sec]_[cut_10sec]_part3.png'\n",
            " noviolence_03_part0_part0.png\n",
            " noviolence_03_part0_part1.png\n",
            " noviolence_03_part0_part2.png\n",
            " noviolence_03_part0_part3.png\n",
            " noviolence_03_part0_part4.png\n",
            " noviolence_03_part0_part5.png\n",
            " noviolence_03_part0_part6.png\n",
            " noviolence_03_part0_part7.png\n",
            " noviolence_03_part0_part8.png\n",
            " noviolence_03_part11_part0.png\n",
            " noviolence_03_part11_part1.png\n",
            " noviolence_03_part11_part2.png\n",
            " noviolence_03_part11_part3.png\n",
            " noviolence_03_part11_part4.png\n",
            " noviolence_03_part11_part5.png\n",
            " noviolence_03_part11_part6.png\n",
            " noviolence_03_part11_part7.png\n",
            " noviolence_03_part11_part8.png\n",
            " noviolence_03_part11_part9.png\n",
            " noviolence_03_part12_part3.png\n",
            " noviolence_03_part12_part4.png\n",
            " noviolence_03_part12_part5.png\n",
            " noviolence_03_part12_part6.png\n",
            " noviolence_03_part12_part7.png\n",
            " noviolence_03_part12_part8.png\n",
            " noviolence_03_part12_part9.png\n",
            " noviolence_03_part13_part0.png\n",
            " noviolence_03_part13_part1.png\n",
            " noviolence_03_part13_part2.png\n",
            " noviolence_03_part13_part3.png\n",
            " noviolence_03_part13_part4.png\n",
            " noviolence_03_part13_part5.png\n",
            " noviolence_03_part13_part6.png\n",
            " noviolence_03_part13_part7.png\n",
            " noviolence_03_part13_part8.png\n",
            " noviolence_03_part13_part9.png\n",
            " noviolence_03_part14_part0.png\n",
            " noviolence_03_part14_part1.png\n",
            " noviolence_03_part14_part2.png\n",
            " noviolence_03_part14_part3.png\n",
            " noviolence_03_part14_part4.png\n",
            " noviolence_03_part14_part5.png\n",
            " noviolence_03_part14_part6.png\n",
            " noviolence_03_part14_part7.png\n",
            " noviolence_03_part14_part8.png\n",
            " noviolence_03_part15_part0.png\n",
            " noviolence_03_part15_part1.png\n",
            " noviolence_03_part15_part2.png\n",
            " noviolence_03_part15_part3.png\n",
            " noviolence_03_part15_part4.png\n",
            " noviolence_03_part15_part5.png\n",
            " noviolence_03_part15_part6.png\n",
            " noviolence_03_part15_part7.png\n",
            " noviolence_03_part15_part8.png\n",
            " noviolence_03_part15_part9.png\n",
            " noviolence_03_part16_part0.png\n",
            " noviolence_03_part16_part1.png\n",
            " noviolence_03_part16_part2.png\n",
            " noviolence_03_part16_part3.png\n",
            " noviolence_03_part16_part4.png\n",
            " noviolence_03_part16_part5.png\n",
            " noviolence_03_part16_part6.png\n",
            " noviolence_03_part16_part7.png\n",
            " noviolence_03_part16_part8.png\n",
            " noviolence_03_part17_part0.png\n",
            " noviolence_03_part17_part1.png\n",
            " noviolence_03_part17_part2.png\n",
            " noviolence_03_part17_part3.png\n",
            " noviolence_03_part17_part4.png\n",
            " noviolence_03_part17_part5.png\n",
            " noviolence_03_part17_part6.png\n",
            " noviolence_03_part17_part7.png\n",
            " noviolence_03_part17_part8.png\n",
            " noviolence_03_part17_part9.png\n",
            " noviolence_03_part18_part0.png\n",
            " noviolence_03_part18_part1.png\n",
            " noviolence_03_part18_part2.png\n",
            " noviolence_03_part18_part3.png\n",
            " noviolence_03_part18_part4.png\n",
            " noviolence_03_part18_part5.png\n",
            " noviolence_03_part18_part6.png\n",
            " noviolence_03_part18_part7.png\n",
            " noviolence_03_part18_part8.png\n",
            " noviolence_03_part18_part9.png\n",
            " noviolence_03_part19_part0.png\n",
            " noviolence_03_part19_part1.png\n",
            " noviolence_03_part19_part2.png\n",
            " noviolence_03_part19_part3.png\n",
            " noviolence_03_part19_part4.png\n",
            " noviolence_03_part19_part5.png\n",
            " noviolence_03_part19_part6.png\n",
            " noviolence_03_part19_part7.png\n",
            " noviolence_03_part19_part8.png\n",
            " noviolence_03_part19_part9.png\n",
            " noviolence_03_part1_part0.png\n",
            " noviolence_03_part1_part1.png\n",
            " noviolence_03_part1_part2.png\n",
            " noviolence_03_part1_part3.png\n",
            " noviolence_03_part1_part4.png\n",
            " noviolence_03_part1_part5.png\n",
            " noviolence_03_part1_part6.png\n",
            " noviolence_03_part1_part7.png\n",
            " noviolence_03_part1_part8.png\n",
            " noviolence_03_part1_part9.png\n",
            " noviolence_03_part20_part5.png\n",
            " noviolence_03_part21_part0.png\n",
            " noviolence_03_part21_part1.png\n",
            " noviolence_03_part21_part2.png\n",
            " noviolence_03_part21_part3.png\n",
            " noviolence_03_part21_part4.png\n",
            " noviolence_03_part21_part5.png\n",
            " noviolence_03_part21_part6.png\n",
            " noviolence_03_part21_part7.png\n",
            " noviolence_03_part21_part8.png\n",
            " noviolence_03_part21_part9.png\n",
            " noviolence_03_part22_part0.png\n",
            " noviolence_03_part22_part1.png\n",
            " noviolence_03_part22_part2.png\n",
            " noviolence_03_part22_part3.png\n",
            " noviolence_03_part22_part4.png\n",
            " noviolence_03_part22_part5.png\n",
            " noviolence_03_part22_part6.png\n",
            " noviolence_03_part22_part7.png\n",
            " noviolence_03_part22_part8.png\n",
            " noviolence_03_part22_part9.png\n",
            " noviolence_03_part23_part0.png\n",
            " noviolence_03_part23_part1.png\n",
            " noviolence_03_part23_part2.png\n",
            " noviolence_03_part23_part3.png\n",
            " noviolence_03_part23_part4.png\n",
            " noviolence_03_part23_part5.png\n",
            " noviolence_03_part23_part6.png\n",
            " noviolence_03_part23_part7.png\n",
            " noviolence_03_part23_part8.png\n",
            " noviolence_03_part23_part9.png\n",
            " noviolence_03_part24_part0.png\n",
            " noviolence_03_part24_part1.png\n",
            " noviolence_03_part24_part2.png\n",
            " noviolence_03_part24_part3.png\n",
            " noviolence_03_part24_part4.png\n",
            " noviolence_03_part24_part5.png\n",
            " noviolence_03_part24_part6.png\n",
            " noviolence_03_part24_part7.png\n",
            " noviolence_03_part24_part8.png\n",
            " noviolence_03_part24_part9.png\n",
            " noviolence_03_part25_part0.png\n",
            " noviolence_03_part25_part1.png\n",
            " noviolence_03_part25_part2.png\n",
            " noviolence_03_part25_part3.png\n",
            " noviolence_03_part25_part4.png\n",
            " noviolence_03_part25_part5.png\n",
            " noviolence_03_part25_part6.png\n",
            " noviolence_03_part25_part7.png\n",
            " noviolence_03_part25_part8.png\n",
            " noviolence_03_part25_part9.png\n",
            " noviolence_03_part26_part0.png\n",
            " noviolence_03_part26_part1.png\n",
            " noviolence_03_part26_part2.png\n",
            " noviolence_03_part26_part3.png\n",
            " noviolence_03_part26_part4.png\n",
            " noviolence_03_part26_part5.png\n",
            " noviolence_03_part26_part6.png\n",
            " noviolence_03_part26_part7.png\n",
            " noviolence_03_part26_part8.png\n",
            " noviolence_03_part26_part9.png\n",
            " noviolence_03_part27_part0.png\n",
            " noviolence_03_part27_part1.png\n",
            " noviolence_03_part27_part2.png\n",
            " noviolence_03_part27_part3.png\n",
            " noviolence_03_part27_part4.png\n",
            " noviolence_03_part27_part5.png\n",
            " noviolence_03_part27_part6.png\n",
            " noviolence_03_part27_part7.png\n",
            " noviolence_03_part27_part8.png\n",
            " noviolence_03_part27_part9.png\n",
            " noviolence_03_part28_part0.png\n",
            " noviolence_03_part28_part1.png\n",
            " noviolence_03_part28_part2.png\n",
            " noviolence_03_part28_part3.png\n",
            " noviolence_03_part28_part4.png\n",
            " noviolence_03_part28_part5.png\n",
            " noviolence_03_part28_part6.png\n",
            " noviolence_03_part28_part7.png\n",
            " noviolence_03_part28_part8.png\n",
            " noviolence_03_part28_part9.png\n",
            " noviolence_03_part29_part0.png\n",
            " noviolence_03_part29_part1.png\n",
            " noviolence_03_part29_part2.png\n",
            " noviolence_03_part29_part3.png\n",
            " noviolence_03_part29_part4.png\n",
            " noviolence_03_part29_part5.png\n",
            " noviolence_03_part29_part6.png\n",
            " noviolence_03_part29_part7.png\n",
            " noviolence_03_part29_part8.png\n",
            " noviolence_03_part2_part0.png\n",
            " noviolence_03_part2_part1.png\n",
            " noviolence_03_part2_part2.png\n",
            " noviolence_03_part2_part3.png\n",
            " noviolence_03_part2_part4.png\n",
            " noviolence_03_part2_part5.png\n",
            " noviolence_03_part2_part6.png\n",
            " noviolence_03_part2_part7.png\n",
            " noviolence_03_part2_part8.png\n",
            " noviolence_03_part2_part9.png\n",
            " noviolence_03_part30_part0.png\n",
            " noviolence_03_part30_part1.png\n",
            " noviolence_03_part30_part2.png\n",
            " noviolence_03_part30_part3.png\n",
            " noviolence_03_part30_part4.png\n",
            " noviolence_03_part30_part5.png\n",
            " noviolence_03_part30_part6.png\n",
            " noviolence_03_part30_part7.png\n",
            " noviolence_03_part30_part8.png\n",
            " noviolence_03_part30_part9.png\n",
            " noviolence_03_part31_part0.png\n",
            " noviolence_03_part31_part1.png\n",
            " noviolence_03_part31_part2.png\n",
            " noviolence_03_part31_part3.png\n",
            " noviolence_03_part31_part4.png\n",
            " noviolence_03_part31_part5.png\n",
            " noviolence_03_part31_part6.png\n",
            " noviolence_03_part31_part7.png\n",
            " noviolence_03_part31_part8.png\n",
            " noviolence_03_part31_part9.png\n",
            " noviolence_03_part32_part0.png\n",
            " noviolence_03_part32_part1.png\n",
            " noviolence_03_part32_part2.png\n",
            " noviolence_03_part32_part3.png\n",
            " noviolence_03_part32_part4.png\n",
            " noviolence_03_part32_part5.png\n",
            " noviolence_03_part32_part6.png\n",
            " noviolence_03_part32_part7.png\n",
            " noviolence_03_part32_part8.png\n",
            " noviolence_03_part32_part9.png\n",
            " noviolence_03_part33_part0.png\n",
            " noviolence_03_part33_part1.png\n",
            " noviolence_03_part33_part2.png\n",
            " noviolence_03_part33_part3.png\n",
            " noviolence_03_part33_part4.png\n",
            " noviolence_03_part33_part5.png\n",
            " noviolence_03_part33_part6.png\n",
            " noviolence_03_part33_part7.png\n",
            " noviolence_03_part33_part8.png\n",
            " noviolence_03_part33_part9.png\n",
            " noviolence_03_part34_part0.png\n",
            " noviolence_03_part34_part1.png\n",
            " noviolence_03_part34_part2.png\n",
            " noviolence_03_part34_part3.png\n",
            " noviolence_03_part34_part4.png\n",
            " noviolence_03_part34_part5.png\n",
            " noviolence_03_part34_part6.png\n",
            " noviolence_03_part34_part7.png\n",
            " noviolence_03_part34_part8.png\n",
            " noviolence_03_part35_part0.png\n",
            " noviolence_03_part35_part1.png\n",
            " noviolence_03_part35_part2.png\n",
            " noviolence_03_part35_part3.png\n",
            " noviolence_03_part35_part4.png\n",
            " noviolence_03_part35_part5.png\n",
            " noviolence_03_part35_part6.png\n",
            " noviolence_03_part35_part7.png\n",
            " noviolence_03_part35_part8.png\n",
            " noviolence_03_part35_part9.png\n",
            " noviolence_03_part36_part0.png\n",
            " noviolence_03_part36_part1.png\n",
            " noviolence_03_part36_part2.png\n",
            " noviolence_03_part36_part3.png\n",
            " noviolence_03_part36_part4.png\n",
            " noviolence_03_part36_part5.png\n",
            " noviolence_03_part36_part6.png\n",
            " noviolence_03_part36_part7.png\n",
            " noviolence_03_part36_part8.png\n",
            " noviolence_03_part36_part9.png\n",
            " noviolence_03_part37_part0.png\n",
            " noviolence_03_part37_part1.png\n",
            " noviolence_03_part37_part2.png\n",
            " noviolence_03_part37_part3.png\n",
            " noviolence_03_part37_part4.png\n",
            " noviolence_03_part37_part5.png\n",
            " noviolence_03_part37_part6.png\n",
            " noviolence_03_part37_part7.png\n",
            " noviolence_03_part37_part8.png\n",
            " noviolence_03_part37_part9.png\n",
            " noviolence_03_part38_part0.png\n",
            " noviolence_03_part38_part1.png\n",
            " noviolence_03_part38_part2.png\n",
            " noviolence_03_part38_part3.png\n",
            " noviolence_03_part38_part4.png\n",
            " noviolence_03_part38_part5.png\n",
            " noviolence_03_part38_part6.png\n",
            " noviolence_03_part38_part7.png\n",
            " noviolence_03_part38_part8.png\n",
            " noviolence_03_part38_part9.png\n",
            " noviolence_03_part39_part0.png\n",
            " noviolence_03_part39_part1.png\n",
            " noviolence_03_part39_part2.png\n",
            " noviolence_03_part39_part3.png\n",
            " noviolence_03_part39_part4.png\n",
            " noviolence_03_part39_part5.png\n",
            " noviolence_03_part3_part0.png\n",
            " noviolence_03_part3_part1.png\n",
            " noviolence_03_part3_part2.png\n",
            " noviolence_03_part3_part3.png\n",
            " noviolence_03_part3_part4.png\n",
            " noviolence_03_part3_part5.png\n",
            " noviolence_03_part3_part6.png\n",
            " noviolence_03_part3_part7.png\n",
            " noviolence_03_part3_part8.png\n",
            " noviolence_03_part3_part9.png\n",
            " noviolence_03_part4_part0.png\n",
            " noviolence_03_part4_part1.png\n",
            " noviolence_03_part4_part2.png\n",
            " noviolence_03_part4_part3.png\n",
            " noviolence_03_part4_part4.png\n",
            " noviolence_03_part4_part5.png\n",
            " noviolence_03_part4_part6.png\n",
            " noviolence_03_part4_part7.png\n",
            " noviolence_03_part4_part8.png\n",
            " noviolence_03_part4_part9.png\n",
            " noviolence_03_part5_part0.png\n",
            " noviolence_03_part5_part1.png\n",
            " noviolence_03_part5_part2.png\n",
            " noviolence_03_part5_part3.png\n",
            " noviolence_03_part5_part4.png\n",
            " noviolence_03_part5_part5.png\n",
            " noviolence_03_part5_part6.png\n",
            " noviolence_03_part5_part7.png\n",
            " noviolence_03_part5_part8.png\n",
            " noviolence_03_part5_part9.png\n",
            " noviolence_03_part6_part0.png\n",
            " noviolence_03_part6_part1.png\n",
            " noviolence_03_part6_part2.png\n",
            " noviolence_03_part6_part3.png\n",
            " noviolence_03_part6_part4.png\n",
            " noviolence_03_part6_part5.png\n",
            " noviolence_03_part6_part6.png\n",
            " noviolence_03_part6_part7.png\n",
            " noviolence_03_part6_part8.png\n",
            " noviolence_03_part6_part9.png\n",
            " noviolence_03_part7_part0.png\n",
            " noviolence_03_part7_part1.png\n",
            " noviolence_03_part7_part2.png\n",
            " noviolence_03_part7_part3.png\n",
            " noviolence_03_part7_part4.png\n",
            " noviolence_03_part7_part5.png\n",
            " noviolence_03_part7_part6.png\n",
            " noviolence_03_part7_part7.png\n",
            " noviolence_03_part7_part8.png\n",
            " noviolence_03_part7_part9.png\n",
            " noviolence_03_part8_part0.png\n",
            " noviolence_03_part8_part1.png\n",
            " noviolence_03_part8_part2.png\n",
            " noviolence_03_part8_part3.png\n",
            " noviolence_03_part8_part4.png\n",
            " noviolence_03_part8_part5.png\n",
            " noviolence_03_part8_part6.png\n",
            " noviolence_03_part8_part7.png\n",
            " noviolence_03_part8_part8.png\n",
            " noviolence_03_part8_part9.png\n",
            "'넷플릭스로 영어 스몰톡하기_part0.png'\n",
            " 외국인들이-말해주는_-외국인-친구-사귀는-방법_part0.png\n",
            "'식당에서 영어로 스몰토크 하기 영어회화 영어표현 여행영어_part0.png'\n",
            "'미련을 버렸어야 했는데 실전영어회화 인터뷰영어_part0.png'\n",
            "'미국 호놀룰루 직원이랑 스몰토크🍪🍪 영어회화_part0.png'\n",
            "'실제 원어민 영어 속도 체감_part0.png'\n",
            " 영어-실전-스몰토크-꿀팁___️-_영어회화-_실전영어-_영어-_영어듣기-_영어공부-_영어표현-_캐나다-_미국-_유학생-_유학_part0.png\n",
            " 외국인들이-말해주는_-외국인-친구-사귀는-방법_part100.png\n",
            " 외국인들이-말해주는_-외국인-친구-사귀는-방법_part101.png\n",
            " 외국인들이-말해주는_-외국인-친구-사귀는-방법_part102.png\n",
            " 외국인들이-말해주는_-외국인-친구-사귀는-방법_part103.png\n",
            " 외국인들이-말해주는_-외국인-친구-사귀는-방법_part104.png\n",
            " 외국인들이-말해주는_-외국인-친구-사귀는-방법_part105.png\n",
            " 외국인들이-말해주는_-외국인-친구-사귀는-방법_part106.png\n",
            " 외국인들이-말해주는_-외국인-친구-사귀는-방법_part107.png\n",
            " 외국인들이-말해주는_-외국인-친구-사귀는-방법_part108.png\n",
            " 외국인들이-말해주는_-외국인-친구-사귀는-방법_part109.png\n",
            "'넷플릭스로 영어 스몰톡하기_part10.png'\n",
            " 외국인들이-말해주는_-외국인-친구-사귀는-방법_part10.png\n",
            "'미련을 버렸어야 했는데 실전영어회화 인터뷰영어_part10.png'\n",
            "'미국 호놀룰루 직원이랑 스몰토크🍪🍪 영어회화_part10.png'\n",
            " 외국인들이-말해주는_-외국인-친구-사귀는-방법_part110.png\n",
            " 외국인들이-말해주는_-외국인-친구-사귀는-방법_part111.png\n",
            " 외국인들이-말해주는_-외국인-친구-사귀는-방법_part112.png\n",
            " 외국인들이-말해주는_-외국인-친구-사귀는-방법_part113.png\n",
            " 외국인들이-말해주는_-외국인-친구-사귀는-방법_part114.png\n",
            " 외국인들이-말해주는_-외국인-친구-사귀는-방법_part115.png\n",
            " 외국인들이-말해주는_-외국인-친구-사귀는-방법_part116.png\n",
            " 외국인들이-말해주는_-외국인-친구-사귀는-방법_part117.png\n",
            " 외국인들이-말해주는_-외국인-친구-사귀는-방법_part118.png\n",
            " 외국인들이-말해주는_-외국인-친구-사귀는-방법_part119.png\n",
            "'넷플릭스로 영어 스몰톡하기_part11.png'\n",
            " 외국인들이-말해주는_-외국인-친구-사귀는-방법_part11.png\n",
            "'미련을 버렸어야 했는데 실전영어회화 인터뷰영어_part11.png'\n",
            " 외국인들이-말해주는_-외국인-친구-사귀는-방법_part120.png\n",
            " 외국인들이-말해주는_-외국인-친구-사귀는-방법_part121.png\n",
            " 외국인들이-말해주는_-외국인-친구-사귀는-방법_part122.png\n",
            " 외국인들이-말해주는_-외국인-친구-사귀는-방법_part123.png\n",
            " 외국인들이-말해주는_-외국인-친구-사귀는-방법_part124.png\n",
            " 외국인들이-말해주는_-외국인-친구-사귀는-방법_part125.png\n",
            " 외국인들이-말해주는_-외국인-친구-사귀는-방법_part126.png\n",
            " 외국인들이-말해주는_-외국인-친구-사귀는-방법_part127.png\n",
            " 외국인들이-말해주는_-외국인-친구-사귀는-방법_part128.png\n",
            " 외국인들이-말해주는_-외국인-친구-사귀는-방법_part129.png\n",
            "'넷플릭스로 영어 스몰톡하기_part12.png'\n",
            " 외국인들이-말해주는_-외국인-친구-사귀는-방법_part12.png\n",
            "'미련을 버렸어야 했는데 실전영어회화 인터뷰영어_part12.png'\n",
            " 외국인들이-말해주는_-외국인-친구-사귀는-방법_part130.png\n",
            " 외국인들이-말해주는_-외국인-친구-사귀는-방법_part131.png\n",
            " 외국인들이-말해주는_-외국인-친구-사귀는-방법_part132.png\n",
            " 외국인들이-말해주는_-외국인-친구-사귀는-방법_part133.png\n",
            " 외국인들이-말해주는_-외국인-친구-사귀는-방법_part134.png\n",
            " 외국인들이-말해주는_-외국인-친구-사귀는-방법_part135.png\n",
            " 외국인들이-말해주는_-외국인-친구-사귀는-방법_part136.png\n",
            " 외국인들이-말해주는_-외국인-친구-사귀는-방법_part137.png\n",
            " 외국인들이-말해주는_-외국인-친구-사귀는-방법_part138.png\n",
            " 외국인들이-말해주는_-외국인-친구-사귀는-방법_part139.png\n",
            "'넷플릭스로 영어 스몰톡하기_part13.png'\n",
            " 외국인들이-말해주는_-외국인-친구-사귀는-방법_part13.png\n",
            " 외국인들이-말해주는_-외국인-친구-사귀는-방법_part140.png\n",
            " 외국인들이-말해주는_-외국인-친구-사귀는-방법_part141.png\n",
            " 외국인들이-말해주는_-외국인-친구-사귀는-방법_part142.png\n",
            " 외국인들이-말해주는_-외국인-친구-사귀는-방법_part143.png\n",
            " 외국인들이-말해주는_-외국인-친구-사귀는-방법_part144.png\n",
            " 외국인들이-말해주는_-외국인-친구-사귀는-방법_part145.png\n",
            " 외국인들이-말해주는_-외국인-친구-사귀는-방법_part146.png\n",
            " 외국인들이-말해주는_-외국인-친구-사귀는-방법_part147.png\n",
            " 외국인들이-말해주는_-외국인-친구-사귀는-방법_part148.png\n",
            " 외국인들이-말해주는_-외국인-친구-사귀는-방법_part149.png\n",
            "'넷플릭스로 영어 스몰톡하기_part14.png'\n",
            " 외국인들이-말해주는_-외국인-친구-사귀는-방법_part14.png\n",
            " 외국인들이-말해주는_-외국인-친구-사귀는-방법_part150.png\n",
            " 외국인들이-말해주는_-외국인-친구-사귀는-방법_part151.png\n",
            " 외국인들이-말해주는_-외국인-친구-사귀는-방법_part152.png\n",
            " 외국인들이-말해주는_-외국인-친구-사귀는-방법_part153.png\n",
            " 외국인들이-말해주는_-외국인-친구-사귀는-방법_part154.png\n",
            " 외국인들이-말해주는_-외국인-친구-사귀는-방법_part155.png\n",
            " 외국인들이-말해주는_-외국인-친구-사귀는-방법_part156.png\n",
            " 외국인들이-말해주는_-외국인-친구-사귀는-방법_part157.png\n",
            " 외국인들이-말해주는_-외국인-친구-사귀는-방법_part158.png\n",
            " 외국인들이-말해주는_-외국인-친구-사귀는-방법_part159.png\n",
            "'넷플릭스로 영어 스몰톡하기_part15.png'\n",
            " 외국인들이-말해주는_-외국인-친구-사귀는-방법_part15.png\n",
            " 외국인들이-말해주는_-외국인-친구-사귀는-방법_part160.png\n",
            " 외국인들이-말해주는_-외국인-친구-사귀는-방법_part161.png\n",
            " 외국인들이-말해주는_-외국인-친구-사귀는-방법_part162.png\n",
            " 외국인들이-말해주는_-외국인-친구-사귀는-방법_part163.png\n",
            " 외국인들이-말해주는_-외국인-친구-사귀는-방법_part164.png\n",
            " 외국인들이-말해주는_-외국인-친구-사귀는-방법_part165.png\n",
            " 외국인들이-말해주는_-외국인-친구-사귀는-방법_part166.png\n",
            " 외국인들이-말해주는_-외국인-친구-사귀는-방법_part167.png\n",
            " 외국인들이-말해주는_-외국인-친구-사귀는-방법_part168.png\n",
            " 외국인들이-말해주는_-외국인-친구-사귀는-방법_part169.png\n",
            "'넷플릭스로 영어 스몰톡하기_part16.png'\n",
            " 외국인들이-말해주는_-외국인-친구-사귀는-방법_part16.png\n",
            " 외국인들이-말해주는_-외국인-친구-사귀는-방법_part170.png\n",
            " 외국인들이-말해주는_-외국인-친구-사귀는-방법_part171.png\n",
            " 외국인들이-말해주는_-외국인-친구-사귀는-방법_part172.png\n",
            " 외국인들이-말해주는_-외국인-친구-사귀는-방법_part17.png\n",
            " 외국인들이-말해주는_-외국인-친구-사귀는-방법_part18.png\n",
            " 외국인들이-말해주는_-외국인-친구-사귀는-방법_part19.png\n",
            "'넷플릭스로 영어 스몰톡하기_part1.png'\n",
            " 외국인들이-말해주는_-외국인-친구-사귀는-방법_part1.png\n",
            "'식당에서 영어로 스몰토크 하기 영어회화 영어표현 여행영어_part1.png'\n",
            "'미련을 버렸어야 했는데 실전영어회화 인터뷰영어_part1.png'\n",
            "'미국 호놀룰루 직원이랑 스몰토크🍪🍪 영어회화_part1.png'\n",
            "'실제 원어민 영어 속도 체감_part1.png'\n",
            " 영어-실전-스몰토크-꿀팁___️-_영어회화-_실전영어-_영어-_영어듣기-_영어공부-_영어표현-_캐나다-_미국-_유학생-_유학_part1.png\n",
            " 외국인들이-말해주는_-외국인-친구-사귀는-방법_part20.png\n",
            " 외국인들이-말해주는_-외국인-친구-사귀는-방법_part21.png\n",
            " 외국인들이-말해주는_-외국인-친구-사귀는-방법_part22.png\n",
            " 외국인들이-말해주는_-외국인-친구-사귀는-방법_part23.png\n",
            " 외국인들이-말해주는_-외국인-친구-사귀는-방법_part24.png\n",
            " 외국인들이-말해주는_-외국인-친구-사귀는-방법_part25.png\n",
            " 외국인들이-말해주는_-외국인-친구-사귀는-방법_part26.png\n",
            " 외국인들이-말해주는_-외국인-친구-사귀는-방법_part27.png\n",
            " 외국인들이-말해주는_-외국인-친구-사귀는-방법_part28.png\n",
            " 외국인들이-말해주는_-외국인-친구-사귀는-방법_part29.png\n",
            "'넷플릭스로 영어 스몰톡하기_part2.png'\n",
            " 외국인들이-말해주는_-외국인-친구-사귀는-방법_part2.png\n",
            "'식당에서 영어로 스몰토크 하기 영어회화 영어표현 여행영어_part2.png'\n",
            "'미련을 버렸어야 했는데 실전영어회화 인터뷰영어_part2.png'\n",
            "'미국 호놀룰루 직원이랑 스몰토크🍪🍪 영어회화_part2.png'\n",
            "'실제 원어민 영어 속도 체감_part2.png'\n",
            " 영어-실전-스몰토크-꿀팁___️-_영어회화-_실전영어-_영어-_영어듣기-_영어공부-_영어표현-_캐나다-_미국-_유학생-_유학_part2.png\n",
            " 외국인들이-말해주는_-외국인-친구-사귀는-방법_part30.png\n",
            " 외국인들이-말해주는_-외국인-친구-사귀는-방법_part31.png\n",
            " 외국인들이-말해주는_-외국인-친구-사귀는-방법_part32.png\n",
            " 외국인들이-말해주는_-외국인-친구-사귀는-방법_part33.png\n",
            " 외국인들이-말해주는_-외국인-친구-사귀는-방법_part34.png\n",
            " 외국인들이-말해주는_-외국인-친구-사귀는-방법_part35.png\n",
            " 외국인들이-말해주는_-외국인-친구-사귀는-방법_part36.png\n",
            " 외국인들이-말해주는_-외국인-친구-사귀는-방법_part37.png\n",
            " 외국인들이-말해주는_-외국인-친구-사귀는-방법_part38.png\n",
            " 외국인들이-말해주는_-외국인-친구-사귀는-방법_part39.png\n",
            "'넷플릭스로 영어 스몰톡하기_part3.png'\n",
            " 외국인들이-말해주는_-외국인-친구-사귀는-방법_part3.png\n",
            "'식당에서 영어로 스몰토크 하기 영어회화 영어표현 여행영어_part3.png'\n",
            "'미련을 버렸어야 했는데 실전영어회화 인터뷰영어_part3.png'\n",
            "'미국 호놀룰루 직원이랑 스몰토크🍪🍪 영어회화_part3.png'\n",
            "'실제 원어민 영어 속도 체감_part3.png'\n",
            " 영어-실전-스몰토크-꿀팁___️-_영어회화-_실전영어-_영어-_영어듣기-_영어공부-_영어표현-_캐나다-_미국-_유학생-_유학_part3.png\n",
            " 외국인들이-말해주는_-외국인-친구-사귀는-방법_part40.png\n",
            " 외국인들이-말해주는_-외국인-친구-사귀는-방법_part41.png\n",
            " 외국인들이-말해주는_-외국인-친구-사귀는-방법_part42.png\n",
            " 외국인들이-말해주는_-외국인-친구-사귀는-방법_part43.png\n",
            " 외국인들이-말해주는_-외국인-친구-사귀는-방법_part44.png\n",
            " 외국인들이-말해주는_-외국인-친구-사귀는-방법_part45.png\n",
            " 외국인들이-말해주는_-외국인-친구-사귀는-방법_part46.png\n",
            " 외국인들이-말해주는_-외국인-친구-사귀는-방법_part47.png\n",
            " 외국인들이-말해주는_-외국인-친구-사귀는-방법_part48.png\n",
            " 외국인들이-말해주는_-외국인-친구-사귀는-방법_part49.png\n",
            "'넷플릭스로 영어 스몰톡하기_part4.png'\n",
            " 외국인들이-말해주는_-외국인-친구-사귀는-방법_part4.png\n",
            "'식당에서 영어로 스몰토크 하기 영어회화 영어표현 여행영어_part4.png'\n",
            "'미련을 버렸어야 했는데 실전영어회화 인터뷰영어_part4.png'\n",
            "'미국 호놀룰루 직원이랑 스몰토크🍪🍪 영어회화_part4.png'\n",
            "'실제 원어민 영어 속도 체감_part4.png'\n",
            " 영어-실전-스몰토크-꿀팁___️-_영어회화-_실전영어-_영어-_영어듣기-_영어공부-_영어표현-_캐나다-_미국-_유학생-_유학_part4.png\n",
            " 외국인들이-말해주는_-외국인-친구-사귀는-방법_part50.png\n",
            " 외국인들이-말해주는_-외국인-친구-사귀는-방법_part51.png\n",
            " 외국인들이-말해주는_-외국인-친구-사귀는-방법_part52.png\n",
            " 외국인들이-말해주는_-외국인-친구-사귀는-방법_part53.png\n",
            " 외국인들이-말해주는_-외국인-친구-사귀는-방법_part54.png\n",
            " 외국인들이-말해주는_-외국인-친구-사귀는-방법_part55.png\n",
            " 외국인들이-말해주는_-외국인-친구-사귀는-방법_part56.png\n",
            " 외국인들이-말해주는_-외국인-친구-사귀는-방법_part57.png\n",
            " 외국인들이-말해주는_-외국인-친구-사귀는-방법_part58.png\n",
            " 외국인들이-말해주는_-외국인-친구-사귀는-방법_part59.png\n",
            "'넷플릭스로 영어 스몰톡하기_part5.png'\n",
            " 외국인들이-말해주는_-외국인-친구-사귀는-방법_part5.png\n",
            "'식당에서 영어로 스몰토크 하기 영어회화 영어표현 여행영어_part5.png'\n",
            "'미련을 버렸어야 했는데 실전영어회화 인터뷰영어_part5.png'\n",
            "'미국 호놀룰루 직원이랑 스몰토크🍪🍪 영어회화_part5.png'\n",
            " 영어-실전-스몰토크-꿀팁___️-_영어회화-_실전영어-_영어-_영어듣기-_영어공부-_영어표현-_캐나다-_미국-_유학생-_유학_part5.png\n",
            " 외국인들이-말해주는_-외국인-친구-사귀는-방법_part60.png\n",
            " 외국인들이-말해주는_-외국인-친구-사귀는-방법_part61.png\n",
            " 외국인들이-말해주는_-외국인-친구-사귀는-방법_part62.png\n",
            " 외국인들이-말해주는_-외국인-친구-사귀는-방법_part63.png\n",
            " 외국인들이-말해주는_-외국인-친구-사귀는-방법_part64.png\n",
            " 외국인들이-말해주는_-외국인-친구-사귀는-방법_part65.png\n",
            " 외국인들이-말해주는_-외국인-친구-사귀는-방법_part66.png\n",
            " 외국인들이-말해주는_-외국인-친구-사귀는-방법_part67.png\n",
            " 외국인들이-말해주는_-외국인-친구-사귀는-방법_part68.png\n",
            " 외국인들이-말해주는_-외국인-친구-사귀는-방법_part69.png\n",
            "'넷플릭스로 영어 스몰톡하기_part6.png'\n",
            " 외국인들이-말해주는_-외국인-친구-사귀는-방법_part6.png\n",
            "'식당에서 영어로 스몰토크 하기 영어회화 영어표현 여행영어_part6.png'\n",
            "'미련을 버렸어야 했는데 실전영어회화 인터뷰영어_part6.png'\n",
            "'미국 호놀룰루 직원이랑 스몰토크🍪🍪 영어회화_part6.png'\n",
            " 외국인들이-말해주는_-외국인-친구-사귀는-방법_part70.png\n",
            " 외국인들이-말해주는_-외국인-친구-사귀는-방법_part71.png\n",
            " 외국인들이-말해주는_-외국인-친구-사귀는-방법_part72.png\n",
            " 외국인들이-말해주는_-외국인-친구-사귀는-방법_part73.png\n",
            " 외국인들이-말해주는_-외국인-친구-사귀는-방법_part74.png\n",
            " 외국인들이-말해주는_-외국인-친구-사귀는-방법_part75.png\n",
            " 외국인들이-말해주는_-외국인-친구-사귀는-방법_part76.png\n",
            " 외국인들이-말해주는_-외국인-친구-사귀는-방법_part77.png\n",
            " 외국인들이-말해주는_-외국인-친구-사귀는-방법_part78.png\n",
            " 외국인들이-말해주는_-외국인-친구-사귀는-방법_part79.png\n",
            "'넷플릭스로 영어 스몰톡하기_part7.png'\n",
            " 외국인들이-말해주는_-외국인-친구-사귀는-방법_part7.png\n",
            "'식당에서 영어로 스몰토크 하기 영어회화 영어표현 여행영어_part7.png'\n",
            "'미련을 버렸어야 했는데 실전영어회화 인터뷰영어_part7.png'\n",
            "'미국 호놀룰루 직원이랑 스몰토크🍪🍪 영어회화_part7.png'\n",
            " 외국인들이-말해주는_-외국인-친구-사귀는-방법_part80.png\n",
            " 외국인들이-말해주는_-외국인-친구-사귀는-방법_part81.png\n",
            " 외국인들이-말해주는_-외국인-친구-사귀는-방법_part82.png\n",
            " 외국인들이-말해주는_-외국인-친구-사귀는-방법_part83.png\n",
            " 외국인들이-말해주는_-외국인-친구-사귀는-방법_part84.png\n",
            " 외국인들이-말해주는_-외국인-친구-사귀는-방법_part85.png\n",
            " 외국인들이-말해주는_-외국인-친구-사귀는-방법_part86.png\n",
            " 외국인들이-말해주는_-외국인-친구-사귀는-방법_part87.png\n",
            " 외국인들이-말해주는_-외국인-친구-사귀는-방법_part88.png\n",
            " 외국인들이-말해주는_-외국인-친구-사귀는-방법_part89.png\n",
            "'넷플릭스로 영어 스몰톡하기_part8.png'\n",
            " 외국인들이-말해주는_-외국인-친구-사귀는-방법_part8.png\n",
            "'식당에서 영어로 스몰토크 하기 영어회화 영어표현 여행영어_part8.png'\n",
            "'미련을 버렸어야 했는데 실전영어회화 인터뷰영어_part8.png'\n",
            "'미국 호놀룰루 직원이랑 스몰토크🍪🍪 영어회화_part8.png'\n",
            " 외국인들이-말해주는_-외국인-친구-사귀는-방법_part90.png\n",
            " 외국인들이-말해주는_-외국인-친구-사귀는-방법_part91.png\n",
            " 외국인들이-말해주는_-외국인-친구-사귀는-방법_part92.png\n",
            " 외국인들이-말해주는_-외국인-친구-사귀는-방법_part93.png\n",
            " 외국인들이-말해주는_-외국인-친구-사귀는-방법_part94.png\n",
            " 외국인들이-말해주는_-외국인-친구-사귀는-방법_part95.png\n",
            " 외국인들이-말해주는_-외국인-친구-사귀는-방법_part96.png\n",
            " 외국인들이-말해주는_-외국인-친구-사귀는-방법_part97.png\n",
            " 외국인들이-말해주는_-외국인-친구-사귀는-방법_part98.png\n",
            " 외국인들이-말해주는_-외국인-친구-사귀는-방법_part99.png\n",
            "'넷플릭스로 영어 스몰톡하기_part9.png'\n",
            " 외국인들이-말해주는_-외국인-친구-사귀는-방법_part9.png\n",
            "'식당에서 영어로 스몰토크 하기 영어회화 영어표현 여행영어_part9.png'\n",
            "'미련을 버렸어야 했는데 실전영어회화 인터뷰영어_part9.png'\n",
            "'미국 호놀룰루 직원이랑 스몰토크🍪🍪 영어회화_part9.png'\n",
            "'아빠 놀리는게 제일 꿀잼인 초딩딸! #웃긴영상 #shorts_[cut_9sec]_[cut_9sec]_part0.png'\n",
            "'딸 언어 듣기 평가 [윤남기 이다은 리은] #shorts_[cut_9sec]_[cut_9sec]_part0.png'\n",
            "'아빠 놀리는게 제일 꿀잼인 초딩딸! #웃긴영상 #shorts_[cut_9sec]_[cut_9sec]_part1.png'\n",
            "'딸 언어 듣기 평가 [윤남기 이다은 리은] #shorts_[cut_9sec]_[cut_9sec]_part1.png'\n",
            "'아빠 놀리는게 제일 꿀잼인 초딩딸! #웃긴영상 #shorts_[cut_9sec]_[cut_9sec]_part2.png'\n",
            "'딸 언어 듣기 평가 [윤남기 이다은 리은] #shorts_[cut_9sec]_[cut_9sec]_part2.png'\n",
            "'아빠 놀리는게 제일 꿀잼인 초딩딸! #웃긴영상 #shorts_[cut_9sec]_[cut_9sec]_part3.png'\n",
            "'딸 언어 듣기 평가 [윤남기 이다은 리은] #shorts_[cut_9sec]_[cut_9sec]_part3.png'\n",
            "'미국카페 스몰토크 shorts 영어회화_part0.png'\n",
            " 실전영어_-미국-엘리베이터-스몰톡-☝️-_shorts_part0.png\n",
            "'[실전영어] 스몰톡 잘하는 방법 👐 shorts 영어회화_part0.png'\n",
            "'[실전영어] 미국 호텔 필수 스몰토크 🛎️ 영어회화 shorts_part0.png'\n",
            "'[영어 스몰톡] 세상 진짜 좁다! 영어로_ 🌍 shorts 영어회화_part0.png'\n",
            "'미국카페 스몰토크 shorts 영어회화_part10.png'\n",
            "'미국카페 스몰토크 shorts 영어회화_part11.png'\n",
            "'미국카페 스몰토크 shorts 영어회화_part12.png'\n",
            "'미국카페 스몰토크 shorts 영어회화_part1.png'\n",
            " 실전영어_-미국-엘리베이터-스몰톡-☝️-_shorts_part1.png\n",
            "'[실전영어] 스몰톡 잘하는 방법 👐 shorts 영어회화_part1.png'\n",
            "'[실전영어] 미국 호텔 필수 스몰토크 🛎️ 영어회화 shorts_part1.png'\n",
            "'[영어 스몰톡] 세상 진짜 좁다! 영어로_ 🌍 shorts 영어회화_part1.png'\n",
            "'미국카페 스몰토크 shorts 영어회화_part2.png'\n",
            " 실전영어_-미국-엘리베이터-스몰톡-☝️-_shorts_part2.png\n",
            "'[실전영어] 스몰톡 잘하는 방법 👐 shorts 영어회화_part2.png'\n",
            "'[실전영어] 미국 호텔 필수 스몰토크 🛎️ 영어회화 shorts_part2.png'\n",
            "'[영어 스몰톡] 세상 진짜 좁다! 영어로_ 🌍 shorts 영어회화_part2.png'\n",
            "'미국카페 스몰토크 shorts 영어회화_part3.png'\n",
            " 실전영어_-미국-엘리베이터-스몰톡-☝️-_shorts_part3.png\n",
            "'[실전영어] 스몰톡 잘하는 방법 👐 shorts 영어회화_part3.png'\n",
            "'[실전영어] 미국 호텔 필수 스몰토크 🛎️ 영어회화 shorts_part3.png'\n",
            "'[영어 스몰톡] 세상 진짜 좁다! 영어로_ 🌍 shorts 영어회화_part3.png'\n",
            "'미국카페 스몰토크 shorts 영어회화_part4.png'\n",
            " 실전영어_-미국-엘리베이터-스몰톡-☝️-_shorts_part4.png\n",
            "'[실전영어] 스몰톡 잘하는 방법 👐 shorts 영어회화_part4.png'\n",
            "'[실전영어] 미국 호텔 필수 스몰토크 🛎️ 영어회화 shorts_part4.png'\n",
            "'[영어 스몰톡] 세상 진짜 좁다! 영어로_ 🌍 shorts 영어회화_part4.png'\n",
            "'미국카페 스몰토크 shorts 영어회화_part5.png'\n",
            "'[실전영어] 스몰톡 잘하는 방법 👐 shorts 영어회화_part5.png'\n",
            "'[실전영어] 미국 호텔 필수 스몰토크 🛎️ 영어회화 shorts_part5.png'\n",
            "'[영어 스몰톡] 세상 진짜 좁다! 영어로_ 🌍 shorts 영어회화_part5.png'\n",
            "'미국카페 스몰토크 shorts 영어회화_part6.png'\n",
            "'[실전영어] 스몰톡 잘하는 방법 👐 shorts 영어회화_part6.png'\n",
            "'[실전영어] 미국 호텔 필수 스몰토크 🛎️ 영어회화 shorts_part6.png'\n",
            "'[영어 스몰톡] 세상 진짜 좁다! 영어로_ 🌍 shorts 영어회화_part6.png'\n",
            "'미국카페 스몰토크 shorts 영어회화_part7.png'\n",
            "'[실전영어] 스몰톡 잘하는 방법 👐 shorts 영어회화_part7.png'\n",
            "'미국카페 스몰토크 shorts 영어회화_part8.png'\n",
            "'미국카페 스몰토크 shorts 영어회화_part9.png'\n",
            "'남동생과 단둘이 할머니 찾아뵈러가는 추석vlog_[cut_10sec]_[cut_10sec]_part0.png'\n",
            "'남동생과 단둘이 할머니 찾아뵈러가는 추석vlog_[cut_10sec]_[cut_10sec]_part1.png'\n",
            "'남동생과 단둘이 할머니 찾아뵈러가는 추석vlog_[cut_10sec]_[cut_10sec]_part2.png'\n",
            "'남동생과 단둘이 할머니 찾아뵈러가는 추석vlog_[cut_10sec]_[cut_10sec]_part3.png'\n",
            "'남편의 미용실 흑역사_zwXheQ9uVmo_[cut_9sec]_[cut_9sec]_part0.png'\n",
            "'남편의 미용실 흑역사_zwXheQ9uVmo_[cut_9sec]_[cut_9sec]_part1.png'\n",
            "'남편의 미용실 흑역사_zwXheQ9uVmo_[cut_9sec]_[cut_9sec]_part2.png'\n",
            "'남편의 미용실 흑역사_zwXheQ9uVmo_[cut_9sec]_[cut_9sec]_part3.png'\n",
            "'부모님 몰래카메라 ㅋㅋ_[cut_9sec]_[cut_9sec]_part0.png'\n",
            "'부모님 몰래카메라 ㅋㅋ_[cut_9sec]_[cut_9sec]_part1.png'\n",
            "'부모님 몰래카메라 ㅋㅋ_[cut_9sec]_[cut_9sec]_part2.png'\n",
            "'부모님 몰래카메라 ㅋㅋ_[cut_9sec]_[cut_9sec]_part3.png'\n",
            "'민뚜 찐으로 표정관리 못하는 중ㅋㅋㅋㅋ #shorts #전남친 #일본여행_[cut_9sec]_[cut_9sec]_part0.png'\n",
            "'민뚜 찐으로 표정관리 못하는 중ㅋㅋㅋㅋ #shorts #전남친 #일본여행_[cut_9sec]_[cut_9sec]_part1.png'\n",
            "'민뚜 찐으로 표정관리 못하는 중ㅋㅋㅋㅋ #shorts #전남친 #일본여행_[cut_9sec]_[cut_9sec]_part2.png'\n",
            "'민뚜 찐으로 표정관리 못하는 중ㅋㅋㅋㅋ #shorts #전남친 #일본여행_[cut_9sec]_[cut_9sec]_part3.png'\n",
            "'다같이 중전마마 놀리기 ㅋㅋㅋㅋㅋㅋㅋ_[cut_9sec]_[cut_10sec]_part0.png'\n",
            "'다같이 중전마마 놀리기 ㅋㅋㅋㅋㅋㅋㅋ_[cut_9sec]_[cut_10sec]_part1.png'\n",
            "'다같이 중전마마 놀리기 ㅋㅋㅋㅋㅋㅋㅋ_[cut_9sec]_[cut_10sec]_part2.png'\n",
            "'다같이 중전마마 놀리기 ㅋㅋㅋㅋㅋㅋㅋ_[cut_9sec]_[cut_10sec]_part3.png'\n",
            "'부산친구에게 표준어 써보기 ㅎㅎㅎㅎ_[cut_9sec]_[cut_9sec]_part0.png'\n",
            "'부산친구에게 표준어 써보기 ㅎㅎㅎㅎ_[cut_9sec]_[cut_9sec]_part1.png'\n",
            "'부산친구에게 표준어 써보기 ㅎㅎㅎㅎ_[cut_9sec]_[cut_9sec]_part2.png'\n",
            "'부산친구에게 표준어 써보기 ㅎㅎㅎㅎ_[cut_9sec]_[cut_9sec]_part3.png'\n",
            "'엄마는 가끔 산소가 부족해ㅠㅋㅋㅋ_[cut_9sec]_[cut_9sec]_part0.png'\n",
            "'엄마는 가끔 산소가 부족해ㅠㅋㅋㅋ_[cut_9sec]_[cut_9sec]_part1.png'\n",
            "'엄마는 가끔 산소가 부족해ㅠㅋㅋㅋ_[cut_9sec]_[cut_9sec]_part2.png'\n",
            "'엄마는 가끔 산소가 부족해ㅠㅋㅋㅋ_[cut_9sec]_[cut_9sec]_part3.png'\n"
          ]
        }
      ]
    },
    {
      "cell_type": "code",
      "source": [
        "pip install librosa matplotlib"
      ],
      "metadata": {
        "colab": {
          "base_uri": "https://localhost:8080/"
        },
        "id": "HUabFXlSyN3_",
        "outputId": "ddc2fc28-3673-4777-f45f-7744ec9bb0e0"
      },
      "execution_count": null,
      "outputs": [
        {
          "output_type": "stream",
          "name": "stdout",
          "text": [
            "Requirement already satisfied: librosa in /usr/local/lib/python3.10/dist-packages (0.10.2.post1)\n",
            "Requirement already satisfied: matplotlib in /usr/local/lib/python3.10/dist-packages (3.7.1)\n",
            "Requirement already satisfied: audioread>=2.1.9 in /usr/local/lib/python3.10/dist-packages (from librosa) (3.0.1)\n",
            "Requirement already satisfied: numpy!=1.22.0,!=1.22.1,!=1.22.2,>=1.20.3 in /usr/local/lib/python3.10/dist-packages (from librosa) (1.26.4)\n",
            "Requirement already satisfied: scipy>=1.2.0 in /usr/local/lib/python3.10/dist-packages (from librosa) (1.13.1)\n",
            "Requirement already satisfied: scikit-learn>=0.20.0 in /usr/local/lib/python3.10/dist-packages (from librosa) (1.5.2)\n",
            "Requirement already satisfied: joblib>=0.14 in /usr/local/lib/python3.10/dist-packages (from librosa) (1.4.2)\n",
            "Requirement already satisfied: decorator>=4.3.0 in /usr/local/lib/python3.10/dist-packages (from librosa) (4.4.2)\n",
            "Requirement already satisfied: numba>=0.51.0 in /usr/local/lib/python3.10/dist-packages (from librosa) (0.60.0)\n",
            "Requirement already satisfied: soundfile>=0.12.1 in /usr/local/lib/python3.10/dist-packages (from librosa) (0.12.1)\n",
            "Requirement already satisfied: pooch>=1.1 in /usr/local/lib/python3.10/dist-packages (from librosa) (1.8.2)\n",
            "Requirement already satisfied: soxr>=0.3.2 in /usr/local/lib/python3.10/dist-packages (from librosa) (0.5.0.post1)\n",
            "Requirement already satisfied: typing-extensions>=4.1.1 in /usr/local/lib/python3.10/dist-packages (from librosa) (4.12.2)\n",
            "Requirement already satisfied: lazy-loader>=0.1 in /usr/local/lib/python3.10/dist-packages (from librosa) (0.4)\n",
            "Requirement already satisfied: msgpack>=1.0 in /usr/local/lib/python3.10/dist-packages (from librosa) (1.0.8)\n",
            "Requirement already satisfied: contourpy>=1.0.1 in /usr/local/lib/python3.10/dist-packages (from matplotlib) (1.3.0)\n",
            "Requirement already satisfied: cycler>=0.10 in /usr/local/lib/python3.10/dist-packages (from matplotlib) (0.12.1)\n",
            "Requirement already satisfied: fonttools>=4.22.0 in /usr/local/lib/python3.10/dist-packages (from matplotlib) (4.54.1)\n",
            "Requirement already satisfied: kiwisolver>=1.0.1 in /usr/local/lib/python3.10/dist-packages (from matplotlib) (1.4.7)\n",
            "Requirement already satisfied: packaging>=20.0 in /usr/local/lib/python3.10/dist-packages (from matplotlib) (24.1)\n",
            "Requirement already satisfied: pillow>=6.2.0 in /usr/local/lib/python3.10/dist-packages (from matplotlib) (10.4.0)\n",
            "Requirement already satisfied: pyparsing>=2.3.1 in /usr/local/lib/python3.10/dist-packages (from matplotlib) (3.1.4)\n",
            "Requirement already satisfied: python-dateutil>=2.7 in /usr/local/lib/python3.10/dist-packages (from matplotlib) (2.8.2)\n",
            "Requirement already satisfied: llvmlite<0.44,>=0.43.0dev0 in /usr/local/lib/python3.10/dist-packages (from numba>=0.51.0->librosa) (0.43.0)\n",
            "Requirement already satisfied: platformdirs>=2.5.0 in /usr/local/lib/python3.10/dist-packages (from pooch>=1.1->librosa) (4.3.6)\n",
            "Requirement already satisfied: requests>=2.19.0 in /usr/local/lib/python3.10/dist-packages (from pooch>=1.1->librosa) (2.32.3)\n",
            "Requirement already satisfied: six>=1.5 in /usr/local/lib/python3.10/dist-packages (from python-dateutil>=2.7->matplotlib) (1.16.0)\n",
            "Requirement already satisfied: threadpoolctl>=3.1.0 in /usr/local/lib/python3.10/dist-packages (from scikit-learn>=0.20.0->librosa) (3.5.0)\n",
            "Requirement already satisfied: cffi>=1.0 in /usr/local/lib/python3.10/dist-packages (from soundfile>=0.12.1->librosa) (1.17.1)\n",
            "Requirement already satisfied: pycparser in /usr/local/lib/python3.10/dist-packages (from cffi>=1.0->soundfile>=0.12.1->librosa) (2.22)\n",
            "Requirement already satisfied: charset-normalizer<4,>=2 in /usr/local/lib/python3.10/dist-packages (from requests>=2.19.0->pooch>=1.1->librosa) (3.3.2)\n",
            "Requirement already satisfied: idna<4,>=2.5 in /usr/local/lib/python3.10/dist-packages (from requests>=2.19.0->pooch>=1.1->librosa) (3.10)\n",
            "Requirement already satisfied: urllib3<3,>=1.21.1 in /usr/local/lib/python3.10/dist-packages (from requests>=2.19.0->pooch>=1.1->librosa) (2.2.3)\n",
            "Requirement already satisfied: certifi>=2017.4.17 in /usr/local/lib/python3.10/dist-packages (from requests>=2.19.0->pooch>=1.1->librosa) (2024.8.30)\n"
          ]
        }
      ]
    },
    {
      "cell_type": "code",
      "source": [
        "pip install scikit-learn"
      ],
      "metadata": {
        "colab": {
          "base_uri": "https://localhost:8080/"
        },
        "id": "szXz9gX128X0",
        "outputId": "39943ae0-28e3-4f4a-968c-aabea079f115"
      },
      "execution_count": null,
      "outputs": [
        {
          "output_type": "stream",
          "name": "stdout",
          "text": [
            "Requirement already satisfied: scikit-learn in /usr/local/lib/python3.10/dist-packages (1.5.2)\n",
            "Requirement already satisfied: numpy>=1.19.5 in /usr/local/lib/python3.10/dist-packages (from scikit-learn) (1.26.4)\n",
            "Requirement already satisfied: scipy>=1.6.0 in /usr/local/lib/python3.10/dist-packages (from scikit-learn) (1.13.1)\n",
            "Requirement already satisfied: joblib>=1.2.0 in /usr/local/lib/python3.10/dist-packages (from scikit-learn) (1.4.2)\n",
            "Requirement already satisfied: threadpoolctl>=3.1.0 in /usr/local/lib/python3.10/dist-packages (from scikit-learn) (3.5.0)\n"
          ]
        }
      ]
    },
    {
      "cell_type": "code",
      "source": [
        "# torch 관련 라이브러리\n",
        "from torchvision import models, transforms\n",
        "from torch.utils.data import DataLoader, Dataset\n",
        "import torch\n",
        "import torch.nn as nn\n",
        "import torchaudio\n",
        "import torch.nn.functional as F\n",
        "from torch.optim.lr_scheduler import MultiStepLR, StepLR\n",
        "from torchsummary import summary\n",
        "import torchaudio.transforms as T\n",
        "\n",
        "# 일반 라이브러리\n",
        "import argparse\n",
        "import numpy as np\n",
        "import random\n",
        "import os\n",
        "from PIL import Image\n",
        "import matplotlib.pyplot as plt\n",
        "import time\n",
        "from tqdm import tqdm\n",
        "from sklearn.metrics import f1_score\n",
        "\n",
        " #스팩트로그램\n",
        "import librosa\n",
        "import librosa.display\n",
        "import numpy as np\n",
        "import matplotlib.pyplot as plt\n",
        "import matplotlib.pyplot as plt\n",
        "from PIL import Image\n",
        "\n",
        "# 스케쥴러, AUC\n",
        "import torch\n",
        "import torch.nn as nn\n",
        "import torch.optim as optim\n",
        "from torchvision import models, transforms\n",
        "from torch.optim.lr_scheduler import ReduceLROnPlateau\n",
        "from sklearn.metrics import f1_score, roc_auc_score\n",
        "from torch.utils.data import DataLoader, Dataset\n",
        "from tqdm import tqdm"
      ],
      "metadata": {
        "id": "xfzDkTlccXv4"
      },
      "execution_count": null,
      "outputs": []
    },
    {
      "cell_type": "code",
      "source": [
        "# 모델 학습 관련 파라미터 모음 --> 자유롭게 변경하고, 추가해보세요.\n",
        "\n",
        "class Args():\n",
        "  data_type = \"2d\"\n",
        "  scheduler = \"reducelronplateau\"\n",
        "  model = \"resnet\"\n",
        "  n_class = 2\n",
        "  epoch = 50\n",
        "  phase = \"train\"\n",
        "  model_path = \"./model_weight_2d.pth\"\n",
        "\n",
        "args = Args()\n"
      ],
      "metadata": {
        "id": "6bDd5P_wcosC"
      },
      "execution_count": null,
      "outputs": []
    },
    {
      "cell_type": "code",
      "source": [
        "# 데이터 세트 관련 함수 --> 데이터 증강 기법을 적절하게 추가해보세요.\n",
        "class TimeMasking(object):\n",
        "    def __init__(self, T=40, max_masks=1):\n",
        "        self.T = T\n",
        "        self.max_masks = max_masks\n",
        "\n",
        "    def __call__(self, spec):\n",
        "        for _ in range(0, self.max_masks):\n",
        "            t = random.randrange(0, self.T)\n",
        "            t0 = random.randrange(0, spec.shape[1] - t)\n",
        "            spec[:, t0:t0+t] = 0\n",
        "        return spec\n",
        "\n",
        "class FrequencyMasking(object):\n",
        "    def __init__(self, F=30, max_masks=1):\n",
        "        self.F = F\n",
        "        self.max_masks = max_masks\n",
        "\n",
        "    def __call__(self, spec):\n",
        "        for _ in range(0, self.max_masks):\n",
        "            f = random.randrange(0, self.F)\n",
        "            max_f0 = spec.shape[0] - f\n",
        "            if max_f0 <= 0:\n",
        "                continue\n",
        "            f0 = random.randrange(0, max_f0)\n",
        "            spec[f0:f0+f, :] = 0\n",
        "        return spec\n",
        "\n",
        "class ImageDataset(Dataset):\n",
        "    def __init__(self, directory, transform=None):\n",
        "        self.directory = directory\n",
        "        self.transform = transform\n",
        "        self.classes = sorted(os.listdir(directory))\n",
        "        self.class_to_idx = {cls_name: idx for idx, cls_name in enumerate(self.classes)}\n",
        "        self.samples = []\n",
        "\n",
        "\n",
        "        for class_name in self.classes:\n",
        "            class_dir = os.path.join(directory, class_name)\n",
        "            for image_name in os.listdir(class_dir):\n",
        "                self.samples.append((os.path.join(class_dir, image_name), self.class_to_idx[class_name]))\n",
        "\n",
        "    def __len__(self):\n",
        "        return len(self.samples)\n",
        "\n",
        "    def __getitem__(self, idx):\n",
        "        image_path, label = self.samples[idx]\n",
        "        image = Image.open(image_path).convert('RGB')\n",
        "\n",
        "        if self.transform:\n",
        "            image = self.transform(image)\n",
        "\n",
        "        return image, label"
      ],
      "metadata": {
        "id": "PRZwjrQcc827"
      },
      "execution_count": null,
      "outputs": []
    },
    {
      "cell_type": "code",
      "source": [
        "# 데이터 변환 정의\n",
        "transform = transforms.Compose([\n",
        "    transforms.Resize((224, 224)),\n",
        "    transforms.ToTensor(),\n",
        "    transforms.Normalize(mean=[0.485, 0.456, 0.406], std=[0.229, 0.224, 0.225])\n",
        "])\n",
        "\n",
        "# 학습용 데이터셋 및 데이터 로더\n",
        "train_dataset = ImageDataset('/content/dataset1/train_spec', transform=transform)\n",
        "train_loader = DataLoader(train_dataset, batch_size=32, shuffle=True, num_workers=4)\n",
        "\n",
        "# 검증용 데이터셋 및 데이터 로더\n",
        "val_dataset = ImageDataset('/content/dataset1/validation_spec', transform=transform)\n",
        "val_loader = DataLoader(val_dataset, batch_size=32, shuffle=False, num_workers=4)"
      ],
      "metadata": {
        "colab": {
          "base_uri": "https://localhost:8080/"
        },
        "id": "agLUtlB61jxS",
        "outputId": "d5253f51-3e26-4e6a-913c-34bd2c5d239a"
      },
      "execution_count": null,
      "outputs": [
        {
          "output_type": "stream",
          "name": "stderr",
          "text": [
            "/usr/local/lib/python3.10/dist-packages/torch/utils/data/dataloader.py:557: UserWarning: This DataLoader will create 4 worker processes in total. Our suggested max number of worker in current system is 2, which is smaller than what this DataLoader is going to create. Please be aware that excessive worker creation might get DataLoader running slow or even freeze, lower the worker number to avoid potential slowness/freeze if necessary.\n",
            "  warnings.warn(_create_warning_msg(\n"
          ]
        }
      ]
    },
    {
      "cell_type": "code",
      "source": [
        "# 학습용 데이터셋의 크기 출력\n",
        "print(f\"학습 데이터 수는 {len(train_dataset)}개 입니다.\")\n",
        "\n",
        "# 검증용 데이터셋의 크기 출력\n",
        "print(f\"검증 데이터 수는 {len(val_dataset)}개 입니다.\")"
      ],
      "metadata": {
        "colab": {
          "base_uri": "https://localhost:8080/"
        },
        "id": "2qDmKplpIZZ-",
        "outputId": "2b7dc4f1-6dde-496a-85ba-023c9f306cb3"
      },
      "execution_count": null,
      "outputs": [
        {
          "output_type": "stream",
          "name": "stdout",
          "text": [
            "학습 데이터 수는 1846개 입니다.\n",
            "검증 데이터 수는 614개 입니다.\n"
          ]
        }
      ]
    },
    {
      "cell_type": "code",
      "source": [
        "# 이미지 파일 경로\n",
        "image_path = '/content/dataset1/test_spec/non-violence/Talking to girls…_part0.png'\n",
        "\n",
        "# 이미지 열기\n",
        "image = Image.open(image_path)\n",
        "\n",
        "# 이미지 시각화\n",
        "plt.figure(figsize=(10, 10))\n",
        "plt.imshow(image)\n",
        "plt.axis('off')  # 축 표시 안함\n",
        "plt.show()"
      ],
      "metadata": {
        "id": "1wdCNx70QeAc",
        "colab": {
          "base_uri": "https://localhost:8080/",
          "height": 618
        },
        "outputId": "222a9c9f-fcac-4436-ee4a-d897bd6571b0"
      },
      "execution_count": null,
      "outputs": [
        {
          "output_type": "display_data",
          "data": {
            "text/plain": [
              "<Figure size 1000x1000 with 1 Axes>"
            ],
            "image/png": "[encoded data removed]"
          },
          "metadata": {}
        }
      ]
    },
    {
      "cell_type": "code",
      "source": [
        "def get_model(name, n_class, pretrained=True): # pretrained는 항상 False로 두어야 합니다. True로 학습할 경우 감점(-5)\n",
        "    if name == 'vgg16':\n",
        "        model = models.vgg16(pretrained=pretrained)\n",
        "        #num_features = model.classifier[2].in_features\n",
        "        #model.classifier[2] = nn.Linear(num_features, n_class)\n",
        "    elif name == 'resnet':\n",
        "        model = models.resnet18(pretrained=pretrained)\n",
        "        num_features = model.fc.in_features\n",
        "        model.fc = nn.Linear(num_features, n_class)\n",
        "    elif name == 'densenet':\n",
        "        model = models.densenet121(pretrained=pretrained)\n",
        "        num_features = model.classifier.in_features\n",
        "        model.classifier = nn.Linear(num_features, n_class)\n",
        "    elif name == 'inception_v3':\n",
        "        model = models.inception_v3(pretrained=pretrained)\n",
        "        # Replace the classifier with a fully connected layer with n_class outputs\n",
        "        model.fc = nn.Linear(model.fc.in_features, n_class)\n",
        "    return model\n",
        "\n",
        "resnet = get_model('resnet', args.n_class)\n",
        "vgg16 = get_model('vgg16', args.n_class)\n",
        "densenet = get_model('densenet', args.n_class)\n",
        "inception_v3 = get_model('inception_v3', args.n_class)\n",
        "\n",
        "import torch.nn as nn\n",
        "import torch.nn.functional as F\n",
        "\n",
        "# Residual Block 정의\n",
        "class ResidualBlock(nn.Module):\n",
        "    def __init__(self, in_channels, out_channels, stride=1, downsample=None):\n",
        "        super(ResidualBlock, self).__init__()\n",
        "        self.conv1 = nn.Conv2d(in_channels, out_channels, kernel_size=3, stride=stride, padding=1)\n",
        "        self.bn1 = nn.BatchNorm2d(out_channels)\n",
        "        self.conv2 = nn.Conv2d(out_channels, out_channels, kernel_size=3, stride=1, padding=1)\n",
        "        self.bn2 = nn.BatchNorm2d(out_channels)\n",
        "        self.downsample = downsample  # 입력 크기를 맞추기 위한 downsample 레이어\n",
        "\n",
        "    def forward(self, x):\n",
        "        identity = x\n",
        "        if self.downsample is not None:\n",
        "            identity = self.downsample(x)\n",
        "\n",
        "        out = F.relu(self.bn1(self.conv1(x)))\n",
        "        out = self.bn2(self.conv2(out))\n",
        "\n",
        "        # 입력과 출력 더하기 (Residual 연결)\n",
        "        out += identity\n",
        "        out = F.relu(out)\n",
        "        return out\n",
        "\n",
        "# ResNet 기본 네트워크 정의\n",
        "class ResNet(nn.Module):\n",
        "    def __init__(self, block, layers, num_classes=6):\n",
        "        super(ResNet, self).__init__()\n",
        "        self.in_channels = 64\n",
        "\n",
        "        # 초기 레이어\n",
        "        self.conv1 = nn.Conv2d(3, 64, kernel_size=7, stride=2, padding=3)\n",
        "        self.bn1 = nn.BatchNorm2d(64)\n",
        "        self.pool = nn.MaxPool2d(kernel_size=3, stride=2, padding=1)\n",
        "\n",
        "        # ResNet 레이어 쌓기\n",
        "        self.layer1 = self._make_layer(block, 64, layers[0])\n",
        "        self.layer2 = self._make_layer(block, 128, layers[1], stride=2)\n",
        "        self.layer3 = self._make_layer(block, 256, layers[2], stride=2)\n",
        "        self.layer4 = self._make_layer(block, 512, layers[3], stride=2)\n",
        "\n",
        "        # Adaptive Pooling과 Fully Connected Layer\n",
        "        self.adaptive_pool = nn.AdaptiveAvgPool2d((1, 1))\n",
        "        self.fc = nn.Linear(512, num_classes)\n",
        "\n",
        "    def _make_layer(self, block, out_channels, blocks, stride=1):\n",
        "        downsample = None\n",
        "        if stride != 1 or self.in_channels != out_channels:\n",
        "            # 입력과 출력의 크기가 다를 경우 downsample을 사용하여 크기를 맞춤\n",
        "            downsample = nn.Sequential(\n",
        "                nn.Conv2d(self.in_channels, out_channels, kernel_size=1, stride=stride),\n",
        "                nn.BatchNorm2d(out_channels)\n",
        "            )\n",
        "\n",
        "        layers = []\n",
        "        layers.append(block(self.in_channels, out_channels, stride, downsample))\n",
        "        self.in_channels = out_channels\n",
        "        for _ in range(1, blocks):\n",
        "            layers.append(block(out_channels, out_channels))\n",
        "\n",
        "        return nn.Sequential(*layers)\n",
        "\n",
        "    def forward(self, x):\n",
        "        x = F.relu(self.bn1(self.conv1(x)))\n",
        "        x = self.pool(x)\n",
        "\n",
        "        x = self.layer1(x)\n",
        "        x = self.layer2(x)\n",
        "        x = self.layer3(x)\n",
        "        x = self.layer4(x)\n",
        "\n",
        "        x = self.adaptive_pool(x)\n",
        "        x = x.view(x.size(0), -1)\n",
        "        x = self.fc(x)\n",
        "\n",
        "        return x\n",
        "\n",
        "# ResNet18 구조로 모델 생성 (기본 레이어 블록 수)\n",
        "def resnet18(num_classes=6):\n",
        "    return ResNet(ResidualBlock, [2, 2, 2, 2], num_classes)\n",
        "\n",
        "# 예시: ResNet18 모델 생성\n",
        "model = resnet18(num_classes=6)\n"
      ],
      "metadata": {
        "id": "fEDngiptQ5Qw"
      },
      "execution_count": null,
      "outputs": []
    },
    {
      "cell_type": "code",
      "source": [
        "# utils에 포함되었던 함수들 + tic toc 추가. tic toc은 수정하지마세요.\n",
        "def visualize_audio_batch(audio_signals, labels):\n",
        "    fig, axes = plt.subplots(4, 4, figsize=(10, 5))\n",
        "\n",
        "    for i, ax in enumerate(axes.flat):\n",
        "        if i >= 16:  # 16개의 오디오만 표시\n",
        "            break\n",
        "        ax.plot(audio_signals[i].t().numpy())  # 오디오 신호 플롯\n",
        "        ax.set_title(f'Label: {labels[i]}')\n",
        "        ax.axis('off')\n",
        "\n",
        "    plt.tight_layout()\n",
        "    plt.show()\n",
        "\n",
        "def tic():\n",
        "    # 현재 시간을 전역 변수에 저장\n",
        "    global start_time\n",
        "    start_time = time.time()\n",
        "\n",
        "def toc():\n",
        "    # tic()이 호출된 후 경과한 시간을 계산하고 출력\n",
        "    elapsed_time = time.time() - start_time\n",
        "\n",
        "    hours = int(elapsed_time // 3600)\n",
        "    minutes = int((elapsed_time % 3600) // 60)\n",
        "    seconds = elapsed_time % 60\n",
        "    print(f\"학습에 소요된 시간은 총 : {hours}시간 {minutes}분 {seconds}초 입니다.\")"
      ],
      "metadata": {
        "id": "obc3pVbDdvth"
      },
      "execution_count": null,
      "outputs": []
    },
    {
      "cell_type": "code",
      "source": [
        "def train_model(model, train_loader, val_loader, epochs, device, args):\n",
        "    model = model.to(device)\n",
        "    criterion = nn.CrossEntropyLoss()\n",
        "    optimizer = torch.optim.Adam(model.parameters(), lr=0.004)\n",
        "\n",
        "    if args.scheduler == 'multistep':\n",
        "        scheduler = MultiStepLR(optimizer, milestones=[5, 10], gamma=0.1)\n",
        "    elif args.scheduler == 'steplr':\n",
        "        scheduler = StepLR(optimizer, step_size=5, gamma=0.1)\n",
        "    elif args.scheduler == 'reducelronplateau':\n",
        "        scheduler = ReduceLROnPlateau(optimizer, mode='min', factor=0.1, patience=5, verbose=True)\n",
        "\n",
        "    for epoch in range(epochs):\n",
        "        # Training\n",
        "        model.train()\n",
        "        running_loss = 0.0\n",
        "        total_batches = len(train_loader)\n",
        "        correct_predictions = 0\n",
        "        total_samples = 0\n",
        "        all_labels = []\n",
        "        all_predictions = []\n",
        "        all_outputs = []\n",
        "\n",
        "        for i, (audio_signals, labels) in enumerate(tqdm(train_loader)):\n",
        "            audio_signals, labels = audio_signals.to(device), labels.to(device)\n",
        "            optimizer.zero_grad()\n",
        "\n",
        "            outputs = model(audio_signals)\n",
        "            loss = criterion(outputs, labels)\n",
        "            loss.backward()\n",
        "            optimizer.step()\n",
        "\n",
        "            running_loss += loss.item()\n",
        "\n",
        "            _, predicted = torch.max(outputs, 1)\n",
        "            correct_predictions += (predicted == labels).sum().item()\n",
        "            total_samples += labels.size(0)\n",
        "\n",
        "            all_labels.extend(labels.cpu().numpy())\n",
        "            all_predictions.extend(predicted.cpu().numpy())\n",
        "            all_outputs.extend(outputs.detach().cpu().numpy())  # Use detach() before numpy()\n",
        "\n",
        "        avg_loss = running_loss / total_batches\n",
        "        accuracy = correct_predictions / total_samples\n",
        "        train_f1_score = f1_score(all_labels, all_predictions, average='weighted')\n",
        "\n",
        "        try:\n",
        "            train_auc = roc_auc_score(all_labels, all_outputs, multi_class='ovr')\n",
        "        except ValueError:\n",
        "            train_auc = None  # Handle the case when AUC cannot be computed\n",
        "\n",
        "        print(f\"Epoch [{epoch + 1}/{epochs}], Train Loss: {avg_loss:.4f}, Train Accuracy: {accuracy:.4f}, Train F1 Score: {train_f1_score:.4f}, Train AUC: {train_auc}\")\n",
        "\n",
        "        # Validation\n",
        "        model.eval()\n",
        "        val_loss = 0.0\n",
        "        correct_val_predictions = 0\n",
        "        total_val_samples = 0\n",
        "        all_val_labels = []\n",
        "        all_val_predictions = []\n",
        "        all_val_outputs = []\n",
        "\n",
        "        with torch.no_grad():\n",
        "            for audio_signals, labels in tqdm(val_loader):\n",
        "                audio_signals, labels = audio_signals.to(device), labels.to(device)\n",
        "\n",
        "                outputs = model(audio_signals)\n",
        "                loss = criterion(outputs, labels)\n",
        "                val_loss += loss.item()\n",
        "\n",
        "                _, predicted = torch.max(outputs, 1)\n",
        "                correct_val_predictions += (predicted == labels).sum().item()\n",
        "                total_val_samples += labels.size(0)\n",
        "\n",
        "                all_val_labels.extend(labels.cpu().numpy())\n",
        "                all_val_predictions.extend(predicted.cpu().numpy())\n",
        "                all_val_outputs.extend(outputs.detach().cpu().numpy())  # Use detach() before numpy()\n",
        "\n",
        "        avg_val_loss = val_loss / len(val_loader)\n",
        "        val_accuracy = correct_val_predictions / total_val_samples\n",
        "        val_f1_score = f1_score(all_val_labels, all_val_predictions, average='weighted')\n",
        "\n",
        "        try:\n",
        "            val_auc = roc_auc_score(all_val_labels, all_val_outputs, multi_class='ovr')\n",
        "        except ValueError:\n",
        "            val_auc = None  # Handle the case when AUC cannot be computed\n",
        "\n",
        "        print(f\"Epoch [{epoch + 1}/{epochs}], Val Loss: {avg_val_loss:.4f}, Val Accuracy: {val_accuracy:.4f}, Val F1 Score: {val_f1_score:.4f}, Val AUC: {val_auc}\")\n",
        "\n",
        "        # Scheduler update\n",
        "        if args.scheduler == 'reducelronplateau':\n",
        "            scheduler.step(avg_val_loss)\n",
        "        else:\n",
        "            scheduler.step()\n",
        "\n",
        "    print('Finished Training')\n",
        "\n",
        "    # Save the model\n",
        "    torch.save(model.state_dict(), f\"./model_weight_{args.data_type}.pth\")\n",
        "    return model\n"
      ],
      "metadata": {
        "id": "c2KJGIAfL6Pl"
      },
      "execution_count": null,
      "outputs": []
    },
    {
      "cell_type": "code",
      "source": [
        "# 모델 불러오기\n",
        "if args.data_type == \"1d\":\n",
        "    model = resnet18(num_classes=6)\n",
        "\n",
        "elif args.data_type == \"2d\":\n",
        "    transform = transforms.Compose([\n",
        "        transforms.Resize((224, 224)),\n",
        "        transforms.ToTensor(),\n",
        "        TimeMasking(T=40, max_masks=1),\n",
        "        FrequencyMasking(F=30, max_masks=1)\n",
        "    ])\n",
        "\n",
        "    if args.model == 'vgg16':\n",
        "        model = get_model(args.model, args.n_class, pretrained=False)\n",
        "    elif args.model == 'resnet':\n",
        "        model = get_model(args.model, args.n_class, pretrained=True)\n",
        "        #quantized_model = torch.quantization.quantize_dynamic(\n",
        "            #model, {nn.Conv2d, nn.Linear}, dtype=torch.qint8\n",
        "        #)\n",
        "        #quantized_model.eval()\n",
        "    elif args.model == 'densenet':\n",
        "        model = get_model(args.model, args.n_class, pretrained=False)\n",
        "        quantized_model = torch.quantization.quantize_dynamic(\n",
        "            model, {nn.Conv2d, nn.Linear}, dtype=torch.qint8\n",
        "        )\n",
        "        quantized_model.eval()\n",
        "    elif args.model == 'inception_v3':\n",
        "        model = get_model(args.model, args.n_class, pretrained=False)\n",
        "        quantized_model = torch.quantization.quantize_dynamic(\n",
        "            model, {nn.Conv2d, nn.Linear}, dtype=torch.qint8\n",
        "        )\n",
        "        quantized_model.eval()\n",
        "    elif args.model == 'simple':\n",
        "        model = Simple2DCNN()\n",
        "\n",
        "    train_dataset = ImageDataset(directory='/content/dataset1/train_spec', transform=transform)\n",
        "    val_dataset = ImageDataset(directory='/content/dataset1/validation_spec', transform=transform)\n",
        "\n",
        "\n",
        "# 데이터 로더 재생성\n",
        "train_loader = DataLoader(train_dataset, batch_size=2, shuffle=True)\n",
        "val_loader = DataLoader(val_dataset, batch_size=2, shuffle=False)\n",
        "\n",
        "# Device 설정\n",
        "device = torch.device(\"cuda\" if torch.cuda.is_available() else \"cpu\")\n",
        "print(device)\n",
        "print(f\"학습 데이터 수는 {len(train_dataset)}개 입니다.\")\n",
        "print(f\"검증 데이터 수는 {len(val_dataset)}개 입니다.\")"
      ],
      "metadata": {
        "id": "kIvVK0McQkms",
        "colab": {
          "base_uri": "https://localhost:8080/"
        },
        "outputId": "084a24fb-60d0-4f43-99b1-905213340441"
      },
      "execution_count": null,
      "outputs": [
        {
          "output_type": "stream",
          "name": "stderr",
          "text": [
            "/usr/local/lib/python3.10/dist-packages/torchvision/models/_utils.py:208: UserWarning: The parameter 'pretrained' is deprecated since 0.13 and may be removed in the future, please use 'weights' instead.\n",
            "  warnings.warn(\n",
            "/usr/local/lib/python3.10/dist-packages/torchvision/models/_utils.py:223: UserWarning: Arguments other than a weight enum or `None` for 'weights' are deprecated since 0.13 and may be removed in the future. The current behavior is equivalent to passing `weights=ResNet18_Weights.IMAGENET1K_V1`. You can also use `weights=ResNet18_Weights.DEFAULT` to get the most up-to-date weights.\n",
            "  warnings.warn(msg)\n"
          ]
        },
        {
          "output_type": "stream",
          "name": "stdout",
          "text": [
            "cuda\n",
            "학습 데이터 수는 1846개 입니다.\n",
            "검증 데이터 수는 614개 입니다.\n"
          ]
        }
      ]
    },
    {
      "cell_type": "code",
      "source": [
        "# 모델 요약\n",
        "if args.data_type == \"1d\":\n",
        "    summary(model.cuda(), (1,16000))\n",
        "elif args.data_type == \"2d\":\n",
        "    summary(model.cuda(), (3,224,224))"
      ],
      "metadata": {
        "id": "OKiquJ2FQprc",
        "colab": {
          "base_uri": "https://localhost:8080/"
        },
        "outputId": "3a217f6b-77e3-469e-e02e-89652cea5e78"
      },
      "execution_count": null,
      "outputs": [
        {
          "output_type": "stream",
          "name": "stdout",
          "text": [
            "----------------------------------------------------------------\n",
            "        Layer (type)               Output Shape         Param #\n",
            "================================================================\n",
            "            Conv2d-1         [-1, 64, 112, 112]           9,408\n",
            "       BatchNorm2d-2         [-1, 64, 112, 112]             128\n",
            "              ReLU-3         [-1, 64, 112, 112]               0\n",
            "         MaxPool2d-4           [-1, 64, 56, 56]               0\n",
            "            Conv2d-5           [-1, 64, 56, 56]          36,864\n",
            "       BatchNorm2d-6           [-1, 64, 56, 56]             128\n",
            "              ReLU-7           [-1, 64, 56, 56]               0\n",
            "            Conv2d-8           [-1, 64, 56, 56]          36,864\n",
            "       BatchNorm2d-9           [-1, 64, 56, 56]             128\n",
            "             ReLU-10           [-1, 64, 56, 56]               0\n",
            "       BasicBlock-11           [-1, 64, 56, 56]               0\n",
            "           Conv2d-12           [-1, 64, 56, 56]          36,864\n",
            "      BatchNorm2d-13           [-1, 64, 56, 56]             128\n",
            "             ReLU-14           [-1, 64, 56, 56]               0\n",
            "           Conv2d-15           [-1, 64, 56, 56]          36,864\n",
            "      BatchNorm2d-16           [-1, 64, 56, 56]             128\n",
            "             ReLU-17           [-1, 64, 56, 56]               0\n",
            "       BasicBlock-18           [-1, 64, 56, 56]               0\n",
            "           Conv2d-19          [-1, 128, 28, 28]          73,728\n",
            "      BatchNorm2d-20          [-1, 128, 28, 28]             256\n",
            "             ReLU-21          [-1, 128, 28, 28]               0\n",
            "           Conv2d-22          [-1, 128, 28, 28]         147,456\n",
            "      BatchNorm2d-23          [-1, 128, 28, 28]             256\n",
            "           Conv2d-24          [-1, 128, 28, 28]           8,192\n",
            "      BatchNorm2d-25          [-1, 128, 28, 28]             256\n",
            "             ReLU-26          [-1, 128, 28, 28]               0\n",
            "       BasicBlock-27          [-1, 128, 28, 28]               0\n",
            "           Conv2d-28          [-1, 128, 28, 28]         147,456\n",
            "      BatchNorm2d-29          [-1, 128, 28, 28]             256\n",
            "             ReLU-30          [-1, 128, 28, 28]               0\n",
            "           Conv2d-31          [-1, 128, 28, 28]         147,456\n",
            "      BatchNorm2d-32          [-1, 128, 28, 28]             256\n",
            "             ReLU-33          [-1, 128, 28, 28]               0\n",
            "       BasicBlock-34          [-1, 128, 28, 28]               0\n",
            "           Conv2d-35          [-1, 256, 14, 14]         294,912\n",
            "      BatchNorm2d-36          [-1, 256, 14, 14]             512\n",
            "             ReLU-37          [-1, 256, 14, 14]               0\n",
            "           Conv2d-38          [-1, 256, 14, 14]         589,824\n",
            "      BatchNorm2d-39          [-1, 256, 14, 14]             512\n",
            "           Conv2d-40          [-1, 256, 14, 14]          32,768\n",
            "      BatchNorm2d-41          [-1, 256, 14, 14]             512\n",
            "             ReLU-42          [-1, 256, 14, 14]               0\n",
            "       BasicBlock-43          [-1, 256, 14, 14]               0\n",
            "           Conv2d-44          [-1, 256, 14, 14]         589,824\n",
            "      BatchNorm2d-45          [-1, 256, 14, 14]             512\n",
            "             ReLU-46          [-1, 256, 14, 14]               0\n",
            "           Conv2d-47          [-1, 256, 14, 14]         589,824\n",
            "      BatchNorm2d-48          [-1, 256, 14, 14]             512\n",
            "             ReLU-49          [-1, 256, 14, 14]               0\n",
            "       BasicBlock-50          [-1, 256, 14, 14]               0\n",
            "           Conv2d-51            [-1, 512, 7, 7]       1,179,648\n",
            "      BatchNorm2d-52            [-1, 512, 7, 7]           1,024\n",
            "             ReLU-53            [-1, 512, 7, 7]               0\n",
            "           Conv2d-54            [-1, 512, 7, 7]       2,359,296\n",
            "      BatchNorm2d-55            [-1, 512, 7, 7]           1,024\n",
            "           Conv2d-56            [-1, 512, 7, 7]         131,072\n",
            "      BatchNorm2d-57            [-1, 512, 7, 7]           1,024\n",
            "             ReLU-58            [-1, 512, 7, 7]               0\n",
            "       BasicBlock-59            [-1, 512, 7, 7]               0\n",
            "           Conv2d-60            [-1, 512, 7, 7]       2,359,296\n",
            "      BatchNorm2d-61            [-1, 512, 7, 7]           1,024\n",
            "             ReLU-62            [-1, 512, 7, 7]               0\n",
            "           Conv2d-63            [-1, 512, 7, 7]       2,359,296\n",
            "      BatchNorm2d-64            [-1, 512, 7, 7]           1,024\n",
            "             ReLU-65            [-1, 512, 7, 7]               0\n",
            "       BasicBlock-66            [-1, 512, 7, 7]               0\n",
            "AdaptiveAvgPool2d-67            [-1, 512, 1, 1]               0\n",
            "           Linear-68                    [-1, 2]           1,026\n",
            "================================================================\n",
            "Total params: 11,177,538\n",
            "Trainable params: 11,177,538\n",
            "Non-trainable params: 0\n",
            "----------------------------------------------------------------\n",
            "Input size (MB): 0.57\n",
            "Forward/backward pass size (MB): 62.79\n",
            "Params size (MB): 42.64\n",
            "Estimated Total Size (MB): 106.00\n",
            "----------------------------------------------------------------\n"
          ]
        }
      ]
    },
    {
      "cell_type": "code",
      "source": [
        "# 학습 시작 및 종료에 걸린 시간을 측정하기 위한 tic - toc\n",
        "\n",
        "tic()\n",
        "\n",
        "model = train_model(model, train_loader, val_loader, epochs=args.epoch, device=device, args=args)\n",
        "\n",
        "toc()"
      ],
      "metadata": {
        "id": "4bAZFj26QrQ8",
        "colab": {
          "base_uri": "https://localhost:8080/"
        },
        "outputId": "8d245c3e-737f-4764-9122-7bf7d8d68a7d"
      },
      "execution_count": 32,
      "outputs": [
        {
          "metadata": {
            "tags": null
          },
          "name": "stderr",
          "output_type": "stream",
          "text": [
            "/usr/local/lib/python3.10/dist-packages/torch/optim/lr_scheduler.py:60: UserWarning: The verbose parameter is deprecated. Please use get_last_lr() to access the learning rate.\n",
            "  warnings.warn(\n",
            "100%|██████████| 923/923 [00:40<00:00, 22.73it/s]\n"
          ]
        },
        {
          "metadata": {
            "tags": null
          },
          "name": "stdout",
          "output_type": "stream",
          "text": [
            "Epoch [1/50], Train Loss: 0.8145, Train Accuracy: 0.5233, Train F1 Score: 0.5210, Train AUC: None\n"
          ]
        },
        {
          "metadata": {
            "tags": null
          },
          "name": "stderr",
          "output_type": "stream",
          "text": [
            "100%|██████████| 307/307 [00:09<00:00, 31.00it/s]\n"
          ]
        },
        {
          "metadata": {
            "tags": null
          },
          "name": "stdout",
          "output_type": "stream",
          "text": [
            "Epoch [1/50], Val Loss: 0.6941, Val Accuracy: 0.5163, Val F1 Score: 0.5212, Val AUC: None\n"
          ]
        },
        {
          "metadata": {
            "tags": null
          },
          "name": "stderr",
          "output_type": "stream",
          "text": [
            "100%|██████████| 923/923 [00:40<00:00, 22.69it/s]\n"
          ]
        },
        {
          "metadata": {
            "tags": null
          },
          "name": "stdout",
          "output_type": "stream",
          "text": [
            "Epoch [2/50], Train Loss: 0.7012, Train Accuracy: 0.5374, Train F1 Score: 0.5098, Train AUC: None\n"
          ]
        },
        {
          "metadata": {
            "tags": null
          },
          "name": "stderr",
          "output_type": "stream",
          "text": [
            "100%|██████████| 307/307 [00:09<00:00, 32.77it/s]\n"
          ]
        },
        {
          "metadata": {
            "tags": null
          },
          "name": "stdout",
          "output_type": "stream",
          "text": [
            "Epoch [2/50], Val Loss: 0.6639, Val Accuracy: 0.6059, Val F1 Score: 0.5591, Val AUC: None\n"
          ]
        },
        {
          "metadata": {
            "tags": null
          },
          "name": "stderr",
          "output_type": "stream",
          "text": [
            "100%|██████████| 923/923 [00:39<00:00, 23.55it/s]\n"
          ]
        },
        {
          "metadata": {
            "tags": null
          },
          "name": "stdout",
          "output_type": "stream",
          "text": [
            "Epoch [3/50], Train Loss: 0.6891, Train Accuracy: 0.5428, Train F1 Score: 0.4435, Train AUC: None\n"
          ]
        },
        {
          "metadata": {
            "tags": null
          },
          "name": "stderr",
          "output_type": "stream",
          "text": [
            "100%|██████████| 307/307 [00:10<00:00, 30.31it/s]\n"
          ]
        },
        {
          "metadata": {
            "tags": null
          },
          "name": "stdout",
          "output_type": "stream",
          "text": [
            "Epoch [3/50], Val Loss: 0.6638, Val Accuracy: 0.6026, Val F1 Score: 0.4532, Val AUC: None\n"
          ]
        },
        {
          "metadata": {
            "tags": null
          },
          "name": "stderr",
          "output_type": "stream",
          "text": [
            "100%|██████████| 923/923 [00:40<00:00, 22.92it/s]\n"
          ]
        },
        {
          "metadata": {
            "tags": null
          },
          "name": "stdout",
          "output_type": "stream",
          "text": [
            "Epoch [4/50], Train Loss: 0.6807, Train Accuracy: 0.5417, Train F1 Score: 0.5294, Train AUC: None\n"
          ]
        },
        {
          "metadata": {
            "tags": null
          },
          "name": "stderr",
          "output_type": "stream",
          "text": [
            "100%|██████████| 307/307 [00:09<00:00, 30.71it/s]\n"
          ]
        },
        {
          "metadata": {
            "tags": null
          },
          "name": "stdout",
          "output_type": "stream",
          "text": [
            "Epoch [4/50], Val Loss: 0.6796, Val Accuracy: 0.6026, Val F1 Score: 0.4532, Val AUC: None\n"
          ]
        },
        {
          "metadata": {
            "tags": null
          },
          "name": "stderr",
          "output_type": "stream",
          "text": [
            "100%|██████████| 923/923 [00:39<00:00, 23.27it/s]\n"
          ]
        },
        {
          "metadata": {
            "tags": null
          },
          "name": "stdout",
          "output_type": "stream",
          "text": [
            "Epoch [5/50], Train Loss: 0.6673, Train Accuracy: 0.5748, Train F1 Score: 0.5721, Train AUC: None\n"
          ]
        },
        {
          "metadata": {
            "tags": null
          },
          "name": "stderr",
          "output_type": "stream",
          "text": [
            "100%|██████████| 307/307 [00:09<00:00, 33.54it/s]\n"
          ]
        },
        {
          "metadata": {
            "tags": null
          },
          "name": "stdout",
          "output_type": "stream",
          "text": [
            "Epoch [5/50], Val Loss: 0.7118, Val Accuracy: 0.6580, Val F1 Score: 0.5756, Val AUC: None\n"
          ]
        },
        {
          "metadata": {
            "tags": null
          },
          "name": "stderr",
          "output_type": "stream",
          "text": [
            "100%|██████████| 923/923 [00:39<00:00, 23.09it/s]\n"
          ]
        },
        {
          "metadata": {
            "tags": null
          },
          "name": "stdout",
          "output_type": "stream",
          "text": [
            "Epoch [6/50], Train Loss: 0.5521, Train Accuracy: 0.7346, Train F1 Score: 0.7331, Train AUC: None\n"
          ]
        },
        {
          "metadata": {
            "tags": null
          },
          "name": "stderr",
          "output_type": "stream",
          "text": [
            "100%|██████████| 307/307 [00:09<00:00, 30.79it/s]\n"
          ]
        },
        {
          "metadata": {
            "tags": null
          },
          "name": "stdout",
          "output_type": "stream",
          "text": [
            "Epoch [6/50], Val Loss: 0.4931, Val Accuracy: 0.8127, Val F1 Score: 0.8107, Val AUC: None\n"
          ]
        },
        {
          "metadata": {
            "tags": null
          },
          "name": "stderr",
          "output_type": "stream",
          "text": [
            "100%|██████████| 923/923 [00:39<00:00, 23.56it/s]\n"
          ]
        },
        {
          "metadata": {
            "tags": null
          },
          "name": "stdout",
          "output_type": "stream",
          "text": [
            "Epoch [7/50], Train Loss: 0.6105, Train Accuracy: 0.6517, Train F1 Score: 0.6378, Train AUC: None\n"
          ]
        },
        {
          "metadata": {
            "tags": null
          },
          "name": "stderr",
          "output_type": "stream",
          "text": [
            "100%|██████████| 307/307 [00:08<00:00, 34.23it/s]\n"
          ]
        },
        {
          "metadata": {
            "tags": null
          },
          "name": "stdout",
          "output_type": "stream",
          "text": [
            "Epoch [7/50], Val Loss: 0.7037, Val Accuracy: 0.4837, Val F1 Score: 0.4882, Val AUC: None\n"
          ]
        },
        {
          "metadata": {
            "tags": null
          },
          "name": "stderr",
          "output_type": "stream",
          "text": [
            "100%|██████████| 923/923 [00:39<00:00, 23.26it/s]\n"
          ]
        },
        {
          "metadata": {
            "tags": null
          },
          "name": "stdout",
          "output_type": "stream",
          "text": [
            "Epoch [8/50], Train Loss: 0.6846, Train Accuracy: 0.5520, Train F1 Score: 0.5377, Train AUC: None\n"
          ]
        },
        {
          "metadata": {
            "tags": null
          },
          "name": "stderr",
          "output_type": "stream",
          "text": [
            "100%|██████████| 307/307 [00:10<00:00, 30.24it/s]\n"
          ]
        },
        {
          "metadata": {
            "tags": null
          },
          "name": "stdout",
          "output_type": "stream",
          "text": [
            "Epoch [8/50], Val Loss: 0.7039, Val Accuracy: 0.5619, Val F1 Score: 0.4575, Val AUC: None\n"
          ]
        },
        {
          "metadata": {
            "tags": null
          },
          "name": "stderr",
          "output_type": "stream",
          "text": [
            "100%|██████████| 923/923 [00:39<00:00, 23.08it/s]\n"
          ]
        },
        {
          "metadata": {
            "tags": null
          },
          "name": "stdout",
          "output_type": "stream",
          "text": [
            "Epoch [9/50], Train Loss: 0.6795, Train Accuracy: 0.5515, Train F1 Score: 0.5239, Train AUC: None\n"
          ]
        },
        {
          "metadata": {
            "tags": null
          },
          "name": "stderr",
          "output_type": "stream",
          "text": [
            "100%|██████████| 307/307 [00:09<00:00, 33.57it/s]\n"
          ]
        },
        {
          "metadata": {
            "tags": null
          },
          "name": "stdout",
          "output_type": "stream",
          "text": [
            "Epoch [9/50], Val Loss: 0.6248, Val Accuracy: 0.6026, Val F1 Score: 0.4561, Val AUC: None\n"
          ]
        },
        {
          "metadata": {
            "tags": null
          },
          "name": "stderr",
          "output_type": "stream",
          "text": [
            "100%|██████████| 923/923 [00:40<00:00, 22.63it/s]\n"
          ]
        },
        {
          "metadata": {
            "tags": null
          },
          "name": "stdout",
          "output_type": "stream",
          "text": [
            "Epoch [10/50], Train Loss: 0.4793, Train Accuracy: 0.7909, Train F1 Score: 0.7889, Train AUC: None\n"
          ]
        },
        {
          "metadata": {
            "tags": null
          },
          "name": "stderr",
          "output_type": "stream",
          "text": [
            "100%|██████████| 307/307 [00:09<00:00, 30.78it/s]\n"
          ]
        },
        {
          "metadata": {
            "tags": null
          },
          "name": "stdout",
          "output_type": "stream",
          "text": [
            "Epoch [10/50], Val Loss: 0.4493, Val Accuracy: 0.7964, Val F1 Score: 0.7821, Val AUC: None\n"
          ]
        },
        {
          "metadata": {
            "tags": null
          },
          "name": "stderr",
          "output_type": "stream",
          "text": [
            "100%|██████████| 923/923 [00:40<00:00, 22.73it/s]\n"
          ]
        },
        {
          "metadata": {
            "tags": null
          },
          "name": "stdout",
          "output_type": "stream",
          "text": [
            "Epoch [11/50], Train Loss: 0.4067, Train Accuracy: 0.8299, Train F1 Score: 0.8282, Train AUC: None\n"
          ]
        },
        {
          "metadata": {
            "tags": null
          },
          "name": "stderr",
          "output_type": "stream",
          "text": [
            "100%|██████████| 307/307 [00:08<00:00, 35.85it/s]\n"
          ]
        },
        {
          "metadata": {
            "tags": null
          },
          "name": "stdout",
          "output_type": "stream",
          "text": [
            "Epoch [11/50], Val Loss: 0.5231, Val Accuracy: 0.7720, Val F1 Score: 0.7507, Val AUC: None\n"
          ]
        },
        {
          "metadata": {
            "tags": null
          },
          "name": "stderr",
          "output_type": "stream",
          "text": [
            "100%|██████████| 923/923 [00:40<00:00, 22.84it/s]\n"
          ]
        },
        {
          "metadata": {
            "tags": null
          },
          "name": "stdout",
          "output_type": "stream",
          "text": [
            "Epoch [12/50], Train Loss: 0.4043, Train Accuracy: 0.8315, Train F1 Score: 0.8300, Train AUC: None\n"
          ]
        },
        {
          "metadata": {
            "tags": null
          },
          "name": "stderr",
          "output_type": "stream",
          "text": [
            "100%|██████████| 307/307 [00:10<00:00, 30.13it/s]\n"
          ]
        },
        {
          "metadata": {
            "tags": null
          },
          "name": "stdout",
          "output_type": "stream",
          "text": [
            "Epoch [12/50], Val Loss: 0.4569, Val Accuracy: 0.7850, Val F1 Score: 0.7650, Val AUC: None\n"
          ]
        },
        {
          "metadata": {
            "tags": null
          },
          "name": "stderr",
          "output_type": "stream",
          "text": [
            "100%|██████████| 923/923 [00:41<00:00, 22.39it/s]\n"
          ]
        },
        {
          "metadata": {
            "tags": null
          },
          "name": "stdout",
          "output_type": "stream",
          "text": [
            "Epoch [13/50], Train Loss: 0.3784, Train Accuracy: 0.8413, Train F1 Score: 0.8398, Train AUC: None\n"
          ]
        },
        {
          "metadata": {
            "tags": null
          },
          "name": "stderr",
          "output_type": "stream",
          "text": [
            "100%|██████████| 307/307 [00:08<00:00, 34.48it/s]\n"
          ]
        },
        {
          "metadata": {
            "tags": null
          },
          "name": "stdout",
          "output_type": "stream",
          "text": [
            "Epoch [13/50], Val Loss: 0.4076, Val Accuracy: 0.7964, Val F1 Score: 0.7777, Val AUC: None\n"
          ]
        },
        {
          "metadata": {
            "tags": null
          },
          "name": "stderr",
          "output_type": "stream",
          "text": [
            "100%|██████████| 923/923 [00:39<00:00, 23.30it/s]\n"
          ]
        },
        {
          "metadata": {
            "tags": null
          },
          "name": "stdout",
          "output_type": "stream",
          "text": [
            "Epoch [14/50], Train Loss: 0.3749, Train Accuracy: 0.8375, Train F1 Score: 0.8356, Train AUC: None\n"
          ]
        },
        {
          "metadata": {
            "tags": null
          },
          "name": "stderr",
          "output_type": "stream",
          "text": [
            "100%|██████████| 307/307 [00:10<00:00, 30.64it/s]\n"
          ]
        },
        {
          "metadata": {
            "tags": null
          },
          "name": "stdout",
          "output_type": "stream",
          "text": [
            "Epoch [14/50], Val Loss: 0.4336, Val Accuracy: 0.8127, Val F1 Score: 0.8015, Val AUC: None\n"
          ]
        },
        {
          "metadata": {
            "tags": null
          },
          "name": "stderr",
          "output_type": "stream",
          "text": [
            "100%|██████████| 923/923 [00:39<00:00, 23.32it/s]\n"
          ]
        },
        {
          "metadata": {
            "tags": null
          },
          "name": "stdout",
          "output_type": "stream",
          "text": [
            "Epoch [15/50], Train Loss: 0.3503, Train Accuracy: 0.8629, Train F1 Score: 0.8621, Train AUC: None\n"
          ]
        },
        {
          "metadata": {
            "tags": null
          },
          "name": "stderr",
          "output_type": "stream",
          "text": [
            "100%|██████████| 307/307 [00:09<00:00, 33.85it/s]\n"
          ]
        },
        {
          "metadata": {
            "tags": null
          },
          "name": "stdout",
          "output_type": "stream",
          "text": [
            "Epoch [15/50], Val Loss: 0.3462, Val Accuracy: 0.8583, Val F1 Score: 0.8557, Val AUC: None\n"
          ]
        },
        {
          "metadata": {
            "tags": null
          },
          "name": "stderr",
          "output_type": "stream",
          "text": [
            "100%|██████████| 923/923 [00:39<00:00, 23.08it/s]\n"
          ]
        },
        {
          "metadata": {
            "tags": null
          },
          "name": "stdout",
          "output_type": "stream",
          "text": [
            "Epoch [16/50], Train Loss: 0.3622, Train Accuracy: 0.8494, Train F1 Score: 0.8483, Train AUC: None\n"
          ]
        },
        {
          "metadata": {
            "tags": null
          },
          "name": "stderr",
          "output_type": "stream",
          "text": [
            "100%|██████████| 307/307 [00:09<00:00, 31.65it/s]\n"
          ]
        },
        {
          "metadata": {
            "tags": null
          },
          "name": "stdout",
          "output_type": "stream",
          "text": [
            "Epoch [16/50], Val Loss: 0.3872, Val Accuracy: 0.8404, Val F1 Score: 0.8347, Val AUC: None\n"
          ]
        },
        {
          "metadata": {
            "tags": null
          },
          "name": "stderr",
          "output_type": "stream",
          "text": [
            "100%|██████████| 923/923 [00:40<00:00, 22.87it/s]\n"
          ]
        },
        {
          "metadata": {
            "tags": null
          },
          "name": "stdout",
          "output_type": "stream",
          "text": [
            "Epoch [17/50], Train Loss: 0.3376, Train Accuracy: 0.8608, Train F1 Score: 0.8598, Train AUC: None\n"
          ]
        },
        {
          "metadata": {
            "tags": null
          },
          "name": "stderr",
          "output_type": "stream",
          "text": [
            "100%|██████████| 307/307 [00:09<00:00, 32.02it/s]\n"
          ]
        },
        {
          "metadata": {
            "tags": null
          },
          "name": "stdout",
          "output_type": "stream",
          "text": [
            "Epoch [17/50], Val Loss: 0.4149, Val Accuracy: 0.7980, Val F1 Score: 0.7812, Val AUC: None\n"
          ]
        },
        {
          "metadata": {
            "tags": null
          },
          "name": "stderr",
          "output_type": "stream",
          "text": [
            "100%|██████████| 923/923 [00:37<00:00, 24.38it/s]\n"
          ]
        },
        {
          "metadata": {
            "tags": null
          },
          "name": "stdout",
          "output_type": "stream",
          "text": [
            "Epoch [18/50], Train Loss: 0.3213, Train Accuracy: 0.8640, Train F1 Score: 0.8633, Train AUC: None\n"
          ]
        },
        {
          "metadata": {
            "tags": null
          },
          "name": "stderr",
          "output_type": "stream",
          "text": [
            "100%|██████████| 307/307 [00:09<00:00, 31.04it/s]\n"
          ]
        },
        {
          "metadata": {
            "tags": null
          },
          "name": "stdout",
          "output_type": "stream",
          "text": [
            "Epoch [18/50], Val Loss: 0.4316, Val Accuracy: 0.7915, Val F1 Score: 0.7710, Val AUC: None\n"
          ]
        },
        {
          "output_type": "stream",
          "name": "stderr",
          "text": [
            "100%|██████████| 923/923 [00:39<00:00, 23.33it/s]\n"
          ]
        },
        {
          "output_type": "stream",
          "name": "stdout",
          "text": [
            "Epoch [19/50], Train Loss: 0.3146, Train Accuracy: 0.8732, Train F1 Score: 0.8725, Train AUC: None\n"
          ]
        },
        {
          "output_type": "stream",
          "name": "stderr",
          "text": [
            "100%|██████████| 307/307 [00:08<00:00, 34.48it/s]\n"
          ]
        },
        {
          "output_type": "stream",
          "name": "stdout",
          "text": [
            "Epoch [19/50], Val Loss: 0.5799, Val Accuracy: 0.7524, Val F1 Score: 0.7223, Val AUC: None\n"
          ]
        },
        {
          "output_type": "stream",
          "name": "stderr",
          "text": [
            "100%|██████████| 923/923 [00:40<00:00, 23.01it/s]\n"
          ]
        },
        {
          "output_type": "stream",
          "name": "stdout",
          "text": [
            "Epoch [20/50], Train Loss: 0.3188, Train Accuracy: 0.8711, Train F1 Score: 0.8702, Train AUC: None\n"
          ]
        },
        {
          "output_type": "stream",
          "name": "stderr",
          "text": [
            "100%|██████████| 307/307 [00:09<00:00, 31.35it/s]\n"
          ]
        },
        {
          "output_type": "stream",
          "name": "stdout",
          "text": [
            "Epoch [20/50], Val Loss: 0.4877, Val Accuracy: 0.8420, Val F1 Score: 0.8383, Val AUC: None\n"
          ]
        },
        {
          "output_type": "stream",
          "name": "stderr",
          "text": [
            "100%|██████████| 923/923 [00:39<00:00, 23.12it/s]\n"
          ]
        },
        {
          "output_type": "stream",
          "name": "stdout",
          "text": [
            "Epoch [21/50], Train Loss: 0.2987, Train Accuracy: 0.8824, Train F1 Score: 0.8817, Train AUC: None\n"
          ]
        },
        {
          "output_type": "stream",
          "name": "stderr",
          "text": [
            "100%|██████████| 307/307 [00:09<00:00, 31.93it/s]\n"
          ]
        },
        {
          "output_type": "stream",
          "name": "stdout",
          "text": [
            "Epoch [21/50], Val Loss: 0.3787, Val Accuracy: 0.8404, Val F1 Score: 0.8368, Val AUC: None\n"
          ]
        },
        {
          "output_type": "stream",
          "name": "stderr",
          "text": [
            "100%|██████████| 923/923 [00:39<00:00, 23.53it/s]\n"
          ]
        },
        {
          "output_type": "stream",
          "name": "stdout",
          "text": [
            "Epoch [22/50], Train Loss: 0.2507, Train Accuracy: 0.9025, Train F1 Score: 0.9019, Train AUC: None\n"
          ]
        },
        {
          "output_type": "stream",
          "name": "stderr",
          "text": [
            "100%|██████████| 307/307 [00:09<00:00, 31.37it/s]\n"
          ]
        },
        {
          "output_type": "stream",
          "name": "stdout",
          "text": [
            "Epoch [22/50], Val Loss: 0.3813, Val Accuracy: 0.8160, Val F1 Score: 0.8064, Val AUC: None\n"
          ]
        },
        {
          "output_type": "stream",
          "name": "stderr",
          "text": [
            "100%|██████████| 923/923 [00:40<00:00, 22.86it/s]\n"
          ]
        },
        {
          "output_type": "stream",
          "name": "stdout",
          "text": [
            "Epoch [23/50], Train Loss: 0.2446, Train Accuracy: 0.9020, Train F1 Score: 0.9014, Train AUC: None\n"
          ]
        },
        {
          "output_type": "stream",
          "name": "stderr",
          "text": [
            "100%|██████████| 307/307 [00:09<00:00, 30.97it/s]\n"
          ]
        },
        {
          "output_type": "stream",
          "name": "stdout",
          "text": [
            "Epoch [23/50], Val Loss: 0.4390, Val Accuracy: 0.8420, Val F1 Score: 0.8393, Val AUC: None\n"
          ]
        },
        {
          "output_type": "stream",
          "name": "stderr",
          "text": [
            "100%|██████████| 923/923 [00:38<00:00, 23.82it/s]\n"
          ]
        },
        {
          "output_type": "stream",
          "name": "stdout",
          "text": [
            "Epoch [24/50], Train Loss: 0.2359, Train Accuracy: 0.9101, Train F1 Score: 0.9095, Train AUC: None\n"
          ]
        },
        {
          "output_type": "stream",
          "name": "stderr",
          "text": [
            "100%|██████████| 307/307 [00:09<00:00, 31.96it/s]\n"
          ]
        },
        {
          "output_type": "stream",
          "name": "stdout",
          "text": [
            "Epoch [24/50], Val Loss: 0.4400, Val Accuracy: 0.8355, Val F1 Score: 0.8310, Val AUC: None\n"
          ]
        },
        {
          "output_type": "stream",
          "name": "stderr",
          "text": [
            "100%|██████████| 923/923 [00:41<00:00, 22.50it/s]\n"
          ]
        },
        {
          "output_type": "stream",
          "name": "stdout",
          "text": [
            "Epoch [25/50], Train Loss: 0.2314, Train Accuracy: 0.9117, Train F1 Score: 0.9113, Train AUC: None\n"
          ]
        },
        {
          "output_type": "stream",
          "name": "stderr",
          "text": [
            "100%|██████████| 307/307 [00:09<00:00, 30.76it/s]\n"
          ]
        },
        {
          "output_type": "stream",
          "name": "stdout",
          "text": [
            "Epoch [25/50], Val Loss: 0.4447, Val Accuracy: 0.8225, Val F1 Score: 0.8145, Val AUC: None\n"
          ]
        },
        {
          "output_type": "stream",
          "name": "stderr",
          "text": [
            "100%|██████████| 923/923 [00:38<00:00, 23.68it/s]\n"
          ]
        },
        {
          "output_type": "stream",
          "name": "stdout",
          "text": [
            "Epoch [26/50], Train Loss: 0.2133, Train Accuracy: 0.9166, Train F1 Score: 0.9162, Train AUC: None\n"
          ]
        },
        {
          "output_type": "stream",
          "name": "stderr",
          "text": [
            "100%|██████████| 307/307 [00:09<00:00, 33.43it/s]\n"
          ]
        },
        {
          "output_type": "stream",
          "name": "stdout",
          "text": [
            "Epoch [26/50], Val Loss: 0.7046, Val Accuracy: 0.7948, Val F1 Score: 0.7878, Val AUC: None\n"
          ]
        },
        {
          "output_type": "stream",
          "name": "stderr",
          "text": [
            "100%|██████████| 923/923 [00:39<00:00, 23.13it/s]\n"
          ]
        },
        {
          "output_type": "stream",
          "name": "stdout",
          "text": [
            "Epoch [27/50], Train Loss: 0.2128, Train Accuracy: 0.9215, Train F1 Score: 0.9210, Train AUC: None\n"
          ]
        },
        {
          "output_type": "stream",
          "name": "stderr",
          "text": [
            "100%|██████████| 307/307 [00:09<00:00, 31.59it/s]\n"
          ]
        },
        {
          "output_type": "stream",
          "name": "stdout",
          "text": [
            "Epoch [27/50], Val Loss: 0.5423, Val Accuracy: 0.8339, Val F1 Score: 0.8309, Val AUC: None\n"
          ]
        },
        {
          "output_type": "stream",
          "name": "stderr",
          "text": [
            "100%|██████████| 923/923 [00:39<00:00, 23.66it/s]\n"
          ]
        },
        {
          "output_type": "stream",
          "name": "stdout",
          "text": [
            "Epoch [28/50], Train Loss: 0.2133, Train Accuracy: 0.9155, Train F1 Score: 0.9152, Train AUC: None\n"
          ]
        },
        {
          "output_type": "stream",
          "name": "stderr",
          "text": [
            "100%|██████████| 307/307 [00:09<00:00, 32.67it/s]\n"
          ]
        },
        {
          "output_type": "stream",
          "name": "stdout",
          "text": [
            "Epoch [28/50], Val Loss: 0.5223, Val Accuracy: 0.8306, Val F1 Score: 0.8265, Val AUC: None\n"
          ]
        },
        {
          "output_type": "stream",
          "name": "stderr",
          "text": [
            "100%|██████████| 923/923 [00:39<00:00, 23.25it/s]\n"
          ]
        },
        {
          "output_type": "stream",
          "name": "stdout",
          "text": [
            "Epoch [29/50], Train Loss: 0.2084, Train Accuracy: 0.9150, Train F1 Score: 0.9147, Train AUC: None\n"
          ]
        },
        {
          "output_type": "stream",
          "name": "stderr",
          "text": [
            "100%|██████████| 307/307 [00:09<00:00, 30.92it/s]\n"
          ]
        },
        {
          "output_type": "stream",
          "name": "stdout",
          "text": [
            "Epoch [29/50], Val Loss: 0.4646, Val Accuracy: 0.8339, Val F1 Score: 0.8299, Val AUC: None\n"
          ]
        },
        {
          "output_type": "stream",
          "name": "stderr",
          "text": [
            "100%|██████████| 923/923 [00:39<00:00, 23.58it/s]\n"
          ]
        },
        {
          "output_type": "stream",
          "name": "stdout",
          "text": [
            "Epoch [30/50], Train Loss: 0.2170, Train Accuracy: 0.9204, Train F1 Score: 0.9200, Train AUC: None\n"
          ]
        },
        {
          "output_type": "stream",
          "name": "stderr",
          "text": [
            "100%|██████████| 307/307 [00:08<00:00, 34.69it/s]\n"
          ]
        },
        {
          "output_type": "stream",
          "name": "stdout",
          "text": [
            "Epoch [30/50], Val Loss: 0.4562, Val Accuracy: 0.8290, Val F1 Score: 0.8248, Val AUC: None\n"
          ]
        },
        {
          "output_type": "stream",
          "name": "stderr",
          "text": [
            "100%|██████████| 923/923 [00:39<00:00, 23.21it/s]\n"
          ]
        },
        {
          "output_type": "stream",
          "name": "stdout",
          "text": [
            "Epoch [31/50], Train Loss: 0.2015, Train Accuracy: 0.9242, Train F1 Score: 0.9239, Train AUC: None\n"
          ]
        },
        {
          "output_type": "stream",
          "name": "stderr",
          "text": [
            "100%|██████████| 307/307 [00:09<00:00, 30.81it/s]\n"
          ]
        },
        {
          "output_type": "stream",
          "name": "stdout",
          "text": [
            "Epoch [31/50], Val Loss: 0.4439, Val Accuracy: 0.8616, Val F1 Score: 0.8592, Val AUC: None\n"
          ]
        },
        {
          "output_type": "stream",
          "name": "stderr",
          "text": [
            "100%|██████████| 923/923 [00:39<00:00, 23.37it/s]\n"
          ]
        },
        {
          "output_type": "stream",
          "name": "stdout",
          "text": [
            "Epoch [32/50], Train Loss: 0.2111, Train Accuracy: 0.9187, Train F1 Score: 0.9184, Train AUC: None\n"
          ]
        },
        {
          "output_type": "stream",
          "name": "stderr",
          "text": [
            "100%|██████████| 307/307 [00:08<00:00, 35.57it/s]\n"
          ]
        },
        {
          "output_type": "stream",
          "name": "stdout",
          "text": [
            "Epoch [32/50], Val Loss: 0.4848, Val Accuracy: 0.8355, Val F1 Score: 0.8317, Val AUC: None\n"
          ]
        },
        {
          "output_type": "stream",
          "name": "stderr",
          "text": [
            "100%|██████████| 923/923 [00:39<00:00, 23.17it/s]\n"
          ]
        },
        {
          "output_type": "stream",
          "name": "stdout",
          "text": [
            "Epoch [33/50], Train Loss: 0.2045, Train Accuracy: 0.9274, Train F1 Score: 0.9271, Train AUC: None\n"
          ]
        },
        {
          "output_type": "stream",
          "name": "stderr",
          "text": [
            "100%|██████████| 307/307 [00:09<00:00, 30.84it/s]\n"
          ]
        },
        {
          "output_type": "stream",
          "name": "stdout",
          "text": [
            "Epoch [33/50], Val Loss: 0.4768, Val Accuracy: 0.8469, Val F1 Score: 0.8445, Val AUC: None\n"
          ]
        },
        {
          "output_type": "stream",
          "name": "stderr",
          "text": [
            "100%|██████████| 923/923 [00:40<00:00, 23.00it/s]\n"
          ]
        },
        {
          "output_type": "stream",
          "name": "stdout",
          "text": [
            "Epoch [34/50], Train Loss: 0.2046, Train Accuracy: 0.9236, Train F1 Score: 0.9233, Train AUC: None\n"
          ]
        },
        {
          "output_type": "stream",
          "name": "stderr",
          "text": [
            "100%|██████████| 307/307 [00:08<00:00, 35.66it/s]\n"
          ]
        },
        {
          "output_type": "stream",
          "name": "stdout",
          "text": [
            "Epoch [34/50], Val Loss: 0.5350, Val Accuracy: 0.8046, Val F1 Score: 0.7982, Val AUC: None\n"
          ]
        },
        {
          "output_type": "stream",
          "name": "stderr",
          "text": [
            "100%|██████████| 923/923 [00:39<00:00, 23.22it/s]\n"
          ]
        },
        {
          "output_type": "stream",
          "name": "stdout",
          "text": [
            "Epoch [35/50], Train Loss: 0.1980, Train Accuracy: 0.9258, Train F1 Score: 0.9255, Train AUC: None\n"
          ]
        },
        {
          "output_type": "stream",
          "name": "stderr",
          "text": [
            "100%|██████████| 307/307 [00:09<00:00, 31.00it/s]\n"
          ]
        },
        {
          "output_type": "stream",
          "name": "stdout",
          "text": [
            "Epoch [35/50], Val Loss: 0.5116, Val Accuracy: 0.8290, Val F1 Score: 0.8248, Val AUC: None\n"
          ]
        },
        {
          "output_type": "stream",
          "name": "stderr",
          "text": [
            "100%|██████████| 923/923 [00:40<00:00, 23.01it/s]\n"
          ]
        },
        {
          "output_type": "stream",
          "name": "stdout",
          "text": [
            "Epoch [36/50], Train Loss: 0.2065, Train Accuracy: 0.9236, Train F1 Score: 0.9234, Train AUC: None\n"
          ]
        },
        {
          "output_type": "stream",
          "name": "stderr",
          "text": [
            "100%|██████████| 307/307 [00:08<00:00, 35.82it/s]\n"
          ]
        },
        {
          "output_type": "stream",
          "name": "stdout",
          "text": [
            "Epoch [36/50], Val Loss: 0.6457, Val Accuracy: 0.7932, Val F1 Score: 0.7866, Val AUC: None\n"
          ]
        },
        {
          "output_type": "stream",
          "name": "stderr",
          "text": [
            "100%|██████████| 923/923 [00:39<00:00, 23.15it/s]\n"
          ]
        },
        {
          "output_type": "stream",
          "name": "stdout",
          "text": [
            "Epoch [37/50], Train Loss: 0.2061, Train Accuracy: 0.9215, Train F1 Score: 0.9212, Train AUC: None\n"
          ]
        },
        {
          "output_type": "stream",
          "name": "stderr",
          "text": [
            "100%|██████████| 307/307 [00:10<00:00, 30.69it/s]\n"
          ]
        },
        {
          "output_type": "stream",
          "name": "stdout",
          "text": [
            "Epoch [37/50], Val Loss: 0.6048, Val Accuracy: 0.8094, Val F1 Score: 0.8052, Val AUC: None\n"
          ]
        },
        {
          "output_type": "stream",
          "name": "stderr",
          "text": [
            "100%|██████████| 923/923 [00:40<00:00, 23.04it/s]\n"
          ]
        },
        {
          "output_type": "stream",
          "name": "stdout",
          "text": [
            "Epoch [38/50], Train Loss: 0.2066, Train Accuracy: 0.9215, Train F1 Score: 0.9211, Train AUC: None\n"
          ]
        },
        {
          "output_type": "stream",
          "name": "stderr",
          "text": [
            "100%|██████████| 307/307 [00:08<00:00, 35.40it/s]\n"
          ]
        },
        {
          "output_type": "stream",
          "name": "stdout",
          "text": [
            "Epoch [38/50], Val Loss: 0.5552, Val Accuracy: 0.8176, Val F1 Score: 0.8102, Val AUC: None\n"
          ]
        },
        {
          "output_type": "stream",
          "name": "stderr",
          "text": [
            "100%|██████████| 923/923 [00:39<00:00, 23.25it/s]\n"
          ]
        },
        {
          "output_type": "stream",
          "name": "stdout",
          "text": [
            "Epoch [39/50], Train Loss: 0.2133, Train Accuracy: 0.9236, Train F1 Score: 0.9233, Train AUC: None\n"
          ]
        },
        {
          "output_type": "stream",
          "name": "stderr",
          "text": [
            "100%|██████████| 307/307 [00:09<00:00, 30.84it/s]\n"
          ]
        },
        {
          "output_type": "stream",
          "name": "stdout",
          "text": [
            "Epoch [39/50], Val Loss: 0.5834, Val Accuracy: 0.8046, Val F1 Score: 0.7956, Val AUC: None\n"
          ]
        },
        {
          "output_type": "stream",
          "name": "stderr",
          "text": [
            "100%|██████████| 923/923 [00:39<00:00, 23.11it/s]\n"
          ]
        },
        {
          "output_type": "stream",
          "name": "stdout",
          "text": [
            "Epoch [40/50], Train Loss: 0.2050, Train Accuracy: 0.9236, Train F1 Score: 0.9233, Train AUC: None\n"
          ]
        },
        {
          "output_type": "stream",
          "name": "stderr",
          "text": [
            "100%|██████████| 307/307 [00:08<00:00, 36.07it/s]\n"
          ]
        },
        {
          "output_type": "stream",
          "name": "stdout",
          "text": [
            "Epoch [40/50], Val Loss: 0.5645, Val Accuracy: 0.8192, Val F1 Score: 0.8147, Val AUC: None\n"
          ]
        },
        {
          "output_type": "stream",
          "name": "stderr",
          "text": [
            "100%|██████████| 923/923 [00:40<00:00, 22.97it/s]\n"
          ]
        },
        {
          "output_type": "stream",
          "name": "stdout",
          "text": [
            "Epoch [41/50], Train Loss: 0.2056, Train Accuracy: 0.9247, Train F1 Score: 0.9243, Train AUC: None\n"
          ]
        },
        {
          "output_type": "stream",
          "name": "stderr",
          "text": [
            "100%|██████████| 307/307 [00:09<00:00, 30.70it/s]\n"
          ]
        },
        {
          "output_type": "stream",
          "name": "stdout",
          "text": [
            "Epoch [41/50], Val Loss: 0.5742, Val Accuracy: 0.8371, Val F1 Score: 0.8346, Val AUC: None\n"
          ]
        },
        {
          "output_type": "stream",
          "name": "stderr",
          "text": [
            "100%|██████████| 923/923 [00:40<00:00, 22.86it/s]\n"
          ]
        },
        {
          "output_type": "stream",
          "name": "stdout",
          "text": [
            "Epoch [42/50], Train Loss: 0.1956, Train Accuracy: 0.9215, Train F1 Score: 0.9212, Train AUC: None\n"
          ]
        },
        {
          "output_type": "stream",
          "name": "stderr",
          "text": [
            "100%|██████████| 307/307 [00:08<00:00, 35.00it/s]\n"
          ]
        },
        {
          "output_type": "stream",
          "name": "stdout",
          "text": [
            "Epoch [42/50], Val Loss: 0.5836, Val Accuracy: 0.8339, Val F1 Score: 0.8301, Val AUC: None\n"
          ]
        },
        {
          "output_type": "stream",
          "name": "stderr",
          "text": [
            "100%|██████████| 923/923 [00:39<00:00, 23.28it/s]\n"
          ]
        },
        {
          "output_type": "stream",
          "name": "stdout",
          "text": [
            "Epoch [43/50], Train Loss: 0.2107, Train Accuracy: 0.9139, Train F1 Score: 0.9136, Train AUC: None\n"
          ]
        },
        {
          "output_type": "stream",
          "name": "stderr",
          "text": [
            "100%|██████████| 307/307 [00:09<00:00, 31.18it/s]\n"
          ]
        },
        {
          "output_type": "stream",
          "name": "stdout",
          "text": [
            "Epoch [43/50], Val Loss: 0.5437, Val Accuracy: 0.8208, Val F1 Score: 0.8165, Val AUC: None\n"
          ]
        },
        {
          "output_type": "stream",
          "name": "stderr",
          "text": [
            "100%|██████████| 923/923 [00:39<00:00, 23.14it/s]\n"
          ]
        },
        {
          "output_type": "stream",
          "name": "stdout",
          "text": [
            "Epoch [44/50], Train Loss: 0.2147, Train Accuracy: 0.9150, Train F1 Score: 0.9146, Train AUC: None\n"
          ]
        },
        {
          "output_type": "stream",
          "name": "stderr",
          "text": [
            "100%|██████████| 307/307 [00:09<00:00, 33.70it/s]\n"
          ]
        },
        {
          "output_type": "stream",
          "name": "stdout",
          "text": [
            "Epoch [44/50], Val Loss: 0.5168, Val Accuracy: 0.8453, Val F1 Score: 0.8417, Val AUC: None\n"
          ]
        },
        {
          "output_type": "stream",
          "name": "stderr",
          "text": [
            "100%|██████████| 923/923 [00:39<00:00, 23.52it/s]\n"
          ]
        },
        {
          "output_type": "stream",
          "name": "stdout",
          "text": [
            "Epoch [45/50], Train Loss: 0.2051, Train Accuracy: 0.9247, Train F1 Score: 0.9244, Train AUC: None\n"
          ]
        },
        {
          "output_type": "stream",
          "name": "stderr",
          "text": [
            "100%|██████████| 307/307 [00:09<00:00, 31.35it/s]\n"
          ]
        },
        {
          "output_type": "stream",
          "name": "stdout",
          "text": [
            "Epoch [45/50], Val Loss: 0.5947, Val Accuracy: 0.8143, Val F1 Score: 0.8086, Val AUC: None\n"
          ]
        },
        {
          "output_type": "stream",
          "name": "stderr",
          "text": [
            "100%|██████████| 923/923 [00:40<00:00, 23.04it/s]\n"
          ]
        },
        {
          "output_type": "stream",
          "name": "stdout",
          "text": [
            "Epoch [46/50], Train Loss: 0.1983, Train Accuracy: 0.9274, Train F1 Score: 0.9272, Train AUC: None\n"
          ]
        },
        {
          "output_type": "stream",
          "name": "stderr",
          "text": [
            "100%|██████████| 307/307 [00:09<00:00, 32.52it/s]\n"
          ]
        },
        {
          "output_type": "stream",
          "name": "stdout",
          "text": [
            "Epoch [46/50], Val Loss: 0.5389, Val Accuracy: 0.8371, Val F1 Score: 0.8346, Val AUC: None\n"
          ]
        },
        {
          "output_type": "stream",
          "name": "stderr",
          "text": [
            "100%|██████████| 923/923 [00:39<00:00, 23.65it/s]\n"
          ]
        },
        {
          "output_type": "stream",
          "name": "stdout",
          "text": [
            "Epoch [47/50], Train Loss: 0.2057, Train Accuracy: 0.9274, Train F1 Score: 0.9272, Train AUC: None\n"
          ]
        },
        {
          "output_type": "stream",
          "name": "stderr",
          "text": [
            "100%|██████████| 307/307 [00:10<00:00, 30.60it/s]\n"
          ]
        },
        {
          "output_type": "stream",
          "name": "stdout",
          "text": [
            "Epoch [47/50], Val Loss: 0.5350, Val Accuracy: 0.8192, Val F1 Score: 0.8140, Val AUC: None\n"
          ]
        },
        {
          "output_type": "stream",
          "name": "stderr",
          "text": [
            "100%|██████████| 923/923 [00:39<00:00, 23.09it/s]\n"
          ]
        },
        {
          "output_type": "stream",
          "name": "stdout",
          "text": [
            "Epoch [48/50], Train Loss: 0.2008, Train Accuracy: 0.9209, Train F1 Score: 0.9206, Train AUC: None\n"
          ]
        },
        {
          "output_type": "stream",
          "name": "stderr",
          "text": [
            "100%|██████████| 307/307 [00:08<00:00, 34.28it/s]\n"
          ]
        },
        {
          "output_type": "stream",
          "name": "stdout",
          "text": [
            "Epoch [48/50], Val Loss: 0.4524, Val Accuracy: 0.8290, Val F1 Score: 0.8250, Val AUC: None\n"
          ]
        },
        {
          "output_type": "stream",
          "name": "stderr",
          "text": [
            "100%|██████████| 923/923 [00:39<00:00, 23.46it/s]\n"
          ]
        },
        {
          "output_type": "stream",
          "name": "stdout",
          "text": [
            "Epoch [49/50], Train Loss: 0.2082, Train Accuracy: 0.9193, Train F1 Score: 0.9190, Train AUC: None\n"
          ]
        },
        {
          "output_type": "stream",
          "name": "stderr",
          "text": [
            "100%|██████████| 307/307 [00:10<00:00, 30.35it/s]\n"
          ]
        },
        {
          "output_type": "stream",
          "name": "stdout",
          "text": [
            "Epoch [49/50], Val Loss: 0.6091, Val Accuracy: 0.8274, Val F1 Score: 0.8243, Val AUC: None\n"
          ]
        },
        {
          "output_type": "stream",
          "name": "stderr",
          "text": [
            "100%|██████████| 923/923 [00:40<00:00, 22.90it/s]\n"
          ]
        },
        {
          "output_type": "stream",
          "name": "stdout",
          "text": [
            "Epoch [50/50], Train Loss: 0.2097, Train Accuracy: 0.9236, Train F1 Score: 0.9233, Train AUC: None\n"
          ]
        },
        {
          "output_type": "stream",
          "name": "stderr",
          "text": [
            "100%|██████████| 307/307 [00:09<00:00, 31.83it/s]\n"
          ]
        },
        {
          "output_type": "stream",
          "name": "stdout",
          "text": [
            "Epoch [50/50], Val Loss: 0.5680, Val Accuracy: 0.8029, Val F1 Score: 0.7954, Val AUC: None\n",
            "Finished Training\n",
            "학습에 소요된 시간은 총 : 0시간 41분 9.724730730056763초 입니다.\n"
          ]
        }
      ]
    },
    {
      "cell_type": "code",
      "source": [
        "# 테스트 데이터에 대해 inference하기 위한 코드 입니다.\n",
        "if args.data_type == \"1d\":\n",
        "    test_dataset = AudioDataset(directory='/content/dataset1/test_spec')\n",
        "elif args.data_type == \"2d\":\n",
        "    transform = transforms.Compose([\n",
        "        transforms.Resize((224, 224)),\n",
        "        transforms.ToTensor(),\n",
        "    ])\n",
        "    test_dataset = ImageDataset(directory='/content/dataset1/test_spec', transform=transform)\n",
        "\n",
        "test_loader = DataLoader(test_dataset, batch_size=1, shuffle=False)\n",
        "print(f\"테스트 데이터 수는 {len(test_dataset)}개 입니다.\")"
      ],
      "metadata": {
        "id": "Ux2tr0kGQvJE",
        "colab": {
          "base_uri": "https://localhost:8080/"
        },
        "outputId": "3f1167e9-54dc-4921-ac5c-9f81b8b1c018"
      },
      "execution_count": 34,
      "outputs": [
        {
          "output_type": "stream",
          "name": "stdout",
          "text": [
            "테스트 데이터 수는 143개 입니다.\n"
          ]
        }
      ]
    },
    {
      "cell_type": "code",
      "source": [
        "def evaluate_model(model, test_loader, device, args):\n",
        "    if args.model_path:\n",
        "        model.load_state_dict(torch.load(args.model_path, map_location=device))\n",
        "    model = model.to(device)\n",
        "\n",
        "    model.eval()\n",
        "\n",
        "    criterion = nn.CrossEntropyLoss()\n",
        "\n",
        "    total = 0\n",
        "    correct = 0\n",
        "    total_loss = 0.0\n",
        "    all_labels = []\n",
        "    all_predictions = []\n",
        "\n",
        "    with torch.no_grad():\n",
        "        for inputs, labels in tqdm(test_loader):\n",
        "            inputs, labels = inputs.to(device), labels.to(device)\n",
        "\n",
        "            outputs = model(inputs)\n",
        "            loss = criterion(outputs, labels)\n",
        "            total_loss += loss.item()\n",
        "\n",
        "            _, predicted = torch.max(outputs.data, 1)\n",
        "            total += labels.size(0)\n",
        "            correct += (predicted == labels).sum().item()\n",
        "\n",
        "            # F1 score 계산을 위한 레이블과 예측 값 저장\n",
        "            all_labels.extend(labels.cpu().numpy())\n",
        "            all_predictions.extend(predicted.cpu().numpy())\n",
        "\n",
        "    avg_loss = total_loss / len(test_loader)\n",
        "    accuracy = correct / total * 100\n",
        "    # F1 score 계산, average='macro'\n",
        "    f1 = f1_score(all_labels, all_predictions, average='macro')\n",
        "\n",
        "    print(f'Test Accuracy: {accuracy:.2f}%, Avg Loss: {avg_loss:.4f}, F1 Score: {f1:.4f}')\n",
        "\n",
        "    return accuracy, avg_loss, f1"
      ],
      "metadata": {
        "id": "wvbhj7sBgwot"
      },
      "execution_count": 35,
      "outputs": []
    },
    {
      "cell_type": "code",
      "source": [
        "# 모델 평가\n",
        "accuracy, avg_loss, f1 = evaluate_model(model, test_loader, device=device, args=args)\n",
        "print(f\"테스트 데이터의 f1 score는 {f1}\")"
      ],
      "metadata": {
        "id": "HlMEU9RSQxZk",
        "colab": {
          "base_uri": "https://localhost:8080/"
        },
        "outputId": "6a82c05c-fadf-42af-b89b-aee652cd0a18"
      },
      "execution_count": 36,
      "outputs": [
        {
          "output_type": "stream",
          "name": "stderr",
          "text": [
            "<ipython-input-35-9a02bd3cc57a>:3: FutureWarning: You are using `torch.load` with `weights_only=False` (the current default value), which uses the default pickle module implicitly. It is possible to construct malicious pickle data which will execute arbitrary code during unpickling (See https://github.com/pytorch/pytorch/blob/main/SECURITY.md#untrusted-models for more details). In a future release, the default value for `weights_only` will be flipped to `True`. This limits the functions that could be executed during unpickling. Arbitrary objects will no longer be allowed to be loaded via this mode unless they are explicitly allowlisted by the user via `torch.serialization.add_safe_globals`. We recommend you start setting `weights_only=True` for any use case where you don't have full control of the loaded file. Please open an issue on GitHub for any issues related to this experimental feature.\n",
            "  model.load_state_dict(torch.load(args.model_path, map_location=device))\n",
            "100%|██████████| 143/143 [00:07<00:00, 19.00it/s]"
          ]
        },
        {
          "output_type": "stream",
          "name": "stdout",
          "text": [
            "Test Accuracy: 84.62%, Avg Loss: 0.4314, F1 Score: 0.8458\n",
            "테스트 데이터의 f1 score는 0.8457843137254902\n"
          ]
        },
        {
          "output_type": "stream",
          "name": "stderr",
          "text": [
            "\n"
          ]
        }
      ]
    },
    {
      "cell_type": "code",
      "source": [],
      "metadata": {
        "id": "tSJk0AKUnfoi"
      },
      "execution_count": null,
      "outputs": []
    }
  ]
}