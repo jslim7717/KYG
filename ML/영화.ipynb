{
  "nbformat": 4,
  "nbformat_minor": 0,
  "metadata": {
    "colab": {
      "provenance": []
    },
    "kernelspec": {
      "name": "python3",
      "display_name": "Python 3"
    },
    "language_info": {
      "name": "python"
    }
  },
  "cells": [
    {
      "cell_type": "code",
      "execution_count": 1,
      "metadata": {
        "colab": {
          "base_uri": "https://localhost:8080/"
        },
        "id": "sl7W34Fbukz9",
        "outputId": "d184b54d-3d87-4ea7-e77d-b6339aa21c9d"
      },
      "outputs": [
        {
          "output_type": "stream",
          "name": "stdout",
          "text": [
            "Tensorflow 버전을 확인합니다: 2.15.0\n"
          ]
        }
      ],
      "source": [
        "import os\n",
        "import shutil\n",
        "import random\n",
        "import re\n",
        "import string\n",
        "\n",
        "import tensorflow as tf\n",
        "import matplotlib.pyplot as plt\n",
        "%matplotlib inline\n",
        "import matplotlib.font_manager as fm\n",
        "import numpy as np\n",
        "\n",
        "print(f'Tensorflow 버전을 확인합니다: {tf.__version__}')"
      ]
    },
    {
      "cell_type": "code",
      "source": [
        "!apt install -qq -y fonts-nanum*"
      ],
      "metadata": {
        "colab": {
          "base_uri": "https://localhost:8080/"
        },
        "id": "i5XjIxtMvEDd",
        "outputId": "9878cfbb-bb75-4288-928a-67b78b45c1a1"
      },
      "execution_count": 3,
      "outputs": [
        {
          "output_type": "stream",
          "name": "stdout",
          "text": [
            "The following NEW packages will be installed:\n",
            "  fonts-nanum fonts-nanum-coding fonts-nanum-eco fonts-nanum-extra\n",
            "0 upgraded, 4 newly installed, 0 to remove and 45 not upgraded.\n",
            "Need to get 46.0 MB of archives.\n",
            "After this operation, 177 MB of additional disk space will be used.\n",
            "Selecting previously unselected package fonts-nanum.\n",
            "(Reading database ... 121918 files and directories currently installed.)\n",
            "Preparing to unpack .../fonts-nanum_20200506-1_all.deb ...\n",
            "Unpacking fonts-nanum (20200506-1) ...\n",
            "Selecting previously unselected package fonts-nanum-coding.\n",
            "Preparing to unpack .../fonts-nanum-coding_2.5-3_all.deb ...\n",
            "Unpacking fonts-nanum-coding (2.5-3) ...\n",
            "Selecting previously unselected package fonts-nanum-eco.\n",
            "Preparing to unpack .../fonts-nanum-eco_1.000-7_all.deb ...\n",
            "Unpacking fonts-nanum-eco (1.000-7) ...\n",
            "Selecting previously unselected package fonts-nanum-extra.\n",
            "Preparing to unpack .../fonts-nanum-extra_20200506-1_all.deb ...\n",
            "Unpacking fonts-nanum-extra (20200506-1) ...\n",
            "Setting up fonts-nanum-extra (20200506-1) ...\n",
            "Setting up fonts-nanum (20200506-1) ...\n",
            "Setting up fonts-nanum-coding (2.5-3) ...\n",
            "Setting up fonts-nanum-eco (1.000-7) ...\n",
            "Processing triggers for fontconfig (2.13.1-4.2ubuntu5) ...\n"
          ]
        }
      ]
    },
    {
      "cell_type": "code",
      "source": [
        "fonts = fm.findSystemFonts()\n",
        "\n",
        "nanum_path = None\n",
        "\n",
        "for font in fonts:\n",
        "\n",
        "    if font.endswith('NanumGothic.ttf'):\n",
        "\n",
        "        nanum_path = font\n",
        "\n",
        "        break\n",
        "\n",
        "if nanum_path == None:\n",
        "\n",
        "    print(f'나눔 폰트를 설치해야 합니다!')\n",
        "\n",
        "    print(f'!apt install -qq -y fonts-nanum*')\n",
        "\n",
        "else:\n",
        "\n",
        "    print(f'나눔 폰트 경로: {nanum_path}')\n",
        "\n",
        "    nanum_prop = fm.FontProperties(fname=nanum_path)\n"
      ],
      "metadata": {
        "colab": {
          "base_uri": "https://localhost:8080/"
        },
        "id": "WMSThZttvc1m",
        "outputId": "65ec1fca-ef33-4c2b-ea8d-974434996588"
      },
      "execution_count": 4,
      "outputs": [
        {
          "output_type": "stream",
          "name": "stdout",
          "text": [
            "나눔 폰트 경로: /usr/share/fonts/truetype/nanum/NanumGothic.ttf\n"
          ]
        }
      ]
    },
    {
      "cell_type": "code",
      "source": [
        "fm.FontProperties(fname=nanum_path)"
      ],
      "metadata": {
        "colab": {
          "base_uri": "https://localhost:8080/"
        },
        "id": "CL5aOhxHvlv3",
        "outputId": "ff972a34-7e78-45b5-af21-9bfafc5207d7"
      },
      "execution_count": 5,
      "outputs": [
        {
          "output_type": "execute_result",
          "data": {
            "text/plain": [
              "<matplotlib.font_manager.FontProperties at 0x798126c2dcf0>"
            ]
          },
          "metadata": {},
          "execution_count": 5
        }
      ]
    },
    {
      "cell_type": "code",
      "source": [
        "url = 'https://ai.stanford.edu/~amaas/data/sentiment/aclImdb_v1.tar.gz'\n",
        "dataset = tf.keras.utils.get_file('aclImdb_v1.tar.gz', url,\n",
        "untar=True, cache_dir='.',\n",
        "cache_subdir='')\n",
        "dataset_dir = os.path.join(os.path.dirname(dataset), 'aclImdb')"
      ],
      "metadata": {
        "colab": {
          "base_uri": "https://localhost:8080/"
        },
        "id": "dgESv1MIvu3v",
        "outputId": "4aae689d-bf7b-4a5c-ef9b-a4d9562f7149"
      },
      "execution_count": 6,
      "outputs": [
        {
          "output_type": "stream",
          "name": "stdout",
          "text": [
            "Downloading data from https://ai.stanford.edu/~amaas/data/sentiment/aclImdb_v1.tar.gz\n",
            "84125825/84125825 [==============================] - 4s 0us/step\n"
          ]
        }
      ]
    },
    {
      "cell_type": "code",
      "source": [
        "print(f'데이터 압축 디렉터리 내부: {os.listdir(dataset_dir)}')\n",
        "\n",
        "\n",
        "train_dir = os.path.join(dataset_dir, 'train')\n",
        "print(f'학습 데이터 디렉터리 내부: {os.listdir(train_dir)}')"
      ],
      "metadata": {
        "colab": {
          "base_uri": "https://localhost:8080/"
        },
        "id": "RwPa8Z5Xv6vo",
        "outputId": "cb7994d6-c3ce-4af4-db42-61e7860ae875"
      },
      "execution_count": 7,
      "outputs": [
        {
          "output_type": "stream",
          "name": "stdout",
          "text": [
            "데이터 압축 디렉터리 내부: ['test', 'train', 'imdb.vocab', 'imdbEr.txt', 'README']\n",
            "학습 데이터 디렉터리 내부: ['labeledBow.feat', 'neg', 'unsup', 'urls_unsup.txt', 'urls_neg.txt', 'unsupBow.feat', 'urls_pos.txt', 'pos']\n"
          ]
        }
      ]
    },
    {
      "cell_type": "code",
      "source": [
        "pos_train_dir = os.path.join(train_dir, 'pos')\n",
        "pos_train_files = os.listdir(pos_train_dir)\n",
        "neg_train_dir = os.path.join(train_dir, 'neg')\n",
        "neg_train_files = os.listdir(neg_train_dir)\n",
        "print('긍정 파일: ', end='')\n",
        "for _ in range(0, 10):\n",
        " print(random.choice(pos_train_files), end=' ')\n",
        "print()\n",
        "print('부정 파일: ', end='')\n",
        "for _ in range(0, 10):\n",
        " print(random.choice(neg_train_files), end=' ')\n",
        "print()"
      ],
      "metadata": {
        "colab": {
          "base_uri": "https://localhost:8080/"
        },
        "id": "wSxrQNcywvIC",
        "outputId": "f962f84d-2b12-49ce-8019-bdd21eec82d6"
      },
      "execution_count": 10,
      "outputs": [
        {
          "output_type": "stream",
          "name": "stdout",
          "text": [
            "긍정 파일: 11926_10.txt 8673_7.txt 250_7.txt 8126_7.txt 3569_8.txt 5011_10.txt 4103_7.txt 10811_7.txt 10505_10.txt 7420_7.txt \n",
            "부정 파일: 1433_4.txt 5911_4.txt 8290_2.txt 3087_2.txt 2828_3.txt 4661_3.txt 4109_1.txt 3564_2.txt 4708_1.txt 11637_4.txt \n"
          ]
        }
      ]
    },
    {
      "cell_type": "code",
      "source": [
        "sample_file = os.path.join(train_dir, 'pos', '2678_8.txt')\n",
        "with open(sample_file, 'r') as f:\n",
        " print(f.read())"
      ],
      "metadata": {
        "colab": {
          "base_uri": "https://localhost:8080/"
        },
        "id": "cSR9aIIkxOd6",
        "outputId": "24bfefc1-29a6-4990-e056-117f9b41228e"
      },
      "execution_count": 12,
      "outputs": [
        {
          "output_type": "stream",
          "name": "stdout",
          "text": [
            "Hey now, I can't claim to have seen all of the films of Jesse (Jesus) Franco, and there sure seem to be a lot of them, but this is one of the better (and weirder) of the lot that I have seen. I'd say most likely he was in his prime back in the late sixties/early seventies and anything lately has been a bit TOO strange for me, and it takes a lot for me to declare that. Anyway, this is like one big bad dream where parts of it seem to come true at various points. This woman is an actress or something, performs in some theater in Berlin where acts of \"fake\" torture are performed for an appreciative audience (?!) and she seems to have this problem with dreaming. The catch to what's real and what's not in this movie is apparently the real stuff is in sharp focus and the dream stuff isn't. She seems to exist in a state of deja vu. I won't say this makes a whole lot of sense but it is pretty wild and weird and entertaining. Shots of Berlin make it seem like a lonely and creepy place, so that adds to the atmosphere. The ending is extremely abrupt though, the film just ends and the tape went black, I guess no need to let you know it was over at that point. My copy was from the Anchor Bay Euro-Trash collection, and I say, give me more Euro-Trash, I can't get enough of that crap. But it's GOOD crap.\n"
          ]
        }
      ]
    },
    {
      "cell_type": "code",
      "source": [
        "print('''학습을 위한 데이터는 이런 구조가 되어야 합니다.\n",
        "train/\n",
        "....pos/\n",
        "........file1.txt\n",
        "........file2.txt\n",
        "....neg/\n",
        "........file1.txt\n",
        "........file2.txt''')\n",
        "remove_dir = os.path.join(train_dir, 'unsup')\n",
        "print(f'불필요한 데이터 파일을 정리합니다. {remove_dir}')\n",
        "shutil.rmtree(remove_dir)"
      ],
      "metadata": {
        "colab": {
          "base_uri": "https://localhost:8080/"
        },
        "id": "42KLVfocynjV",
        "outputId": "255e03fc-a8b7-4d97-f516-fd4ecec5f732"
      },
      "execution_count": 13,
      "outputs": [
        {
          "output_type": "stream",
          "name": "stdout",
          "text": [
            "학습을 위한 데이터는 이런 구조가 되어야 합니다.\n",
            "train/\n",
            "....pos/\n",
            "........file1.txt\n",
            "........file2.txt\n",
            "....neg/\n",
            "........file1.txt\n",
            "........file2.txt\n",
            "불필요한 데이터 파일을 정리합니다. ./aclImdb/train/unsup\n"
          ]
        }
      ]
    },
    {
      "cell_type": "code",
      "source": [
        "# 원본: 텐서플로우 Github\n",
        "## https://github.com/tensorflow/tensorflow/blob/master/tensorflow/python/keras/preprocessing/text_dataset.py\n",
        "\n",
        "import multiprocessing\n",
        "\n",
        "from tensorflow.python.data.ops import dataset_ops\n",
        "from tensorflow.python.ops import io_ops\n",
        "from tensorflow.python.ops import string_ops\n",
        "from tensorflow.python.util.tf_export import keras_export\n",
        "\n",
        "\n",
        "def index_directory(directory,\n",
        "                    labels,\n",
        "                    formats,\n",
        "                    class_names=None,\n",
        "                    shuffle=True,\n",
        "                    seed=None,\n",
        "                    follow_links=False):\n",
        "    inferred_class_names = []\n",
        "    for subdir in sorted(os.listdir(directory)):\n",
        "        if os.path.isdir(os.path.join(directory, subdir)):\n",
        "            inferred_class_names.append(subdir)\n",
        "    if not class_names:\n",
        "        class_names = inferred_class_names\n",
        "    else:\n",
        "        if set(class_names) != set(inferred_class_names):\n",
        "            raise ValueError(\n",
        "                    'The `class_names` passed did not match the '\n",
        "                    'names of the subdirectories of the target directory. '\n",
        "                    'Expected: %s, but received: %s' %\n",
        "                    (inferred_class_names, class_names))\n",
        "    class_indices = dict(zip(class_names, range(len(class_names))))\n",
        "\n",
        "    pool = multiprocessing.pool.ThreadPool()\n",
        "    results = []\n",
        "    filenames = []\n",
        "    for dirpath in (os.path.join(directory, subdir) for subdir in class_names):\n",
        "        results.append(\n",
        "            pool.apply_async(index_subdirectory,\n",
        "                             (dirpath, class_indices, follow_links, formats)))\n",
        "    labels_list = []\n",
        "    for res in results:\n",
        "        partial_filenames, partial_labels = res.get()\n",
        "        labels_list.append(partial_labels)\n",
        "        filenames += partial_filenames\n",
        "    if labels != 'inferred':\n",
        "        if len(labels) != len(filenames):\n",
        "            raise ValueError('Expected the lengths of `labels` to match the number '\n",
        "                             'of files in the target directory. len(labels) is %s '\n",
        "                             'while we found %s files in %s.' % (\n",
        "                                     len(labels), len(filenames), directory))\n",
        "    else:\n",
        "        i = 0\n",
        "        labels = np.zeros((len(filenames),), dtype='int32')\n",
        "        for partial_labels in labels_list:\n",
        "            labels[i:i + len(partial_labels)] = partial_labels\n",
        "            i += len(partial_labels)\n",
        "\n",
        "    print('Found %d files belonging to %d classes.' %\n",
        "          (len(filenames), len(class_names)))\n",
        "    pool.close()\n",
        "    pool.join()\n",
        "    file_paths = [os.path.join(directory, fname) for fname in filenames]\n",
        "\n",
        "    if shuffle:\n",
        "        if seed is None:\n",
        "            seed = np.random.randint(1e6)\n",
        "        rng = np.random.RandomState(seed)\n",
        "        rng.shuffle(file_paths)\n",
        "        rng = np.random.RandomState(seed)\n",
        "        rng.shuffle(labels)\n",
        "    return file_paths, labels, class_names\n",
        "\n",
        "\n",
        "def iter_valid_files(directory, follow_links, formats):\n",
        "    walk = os.walk(directory, followlinks=follow_links)\n",
        "    for root, _, files in sorted(walk, key=lambda x: x[0]):\n",
        "        for fname in sorted(files):\n",
        "            if fname.lower().endswith(formats):\n",
        "                yield root, fname\n",
        "\n",
        "\n",
        "def index_subdirectory(directory, class_indices, follow_links, formats):\n",
        "    dirname = os.path.basename(directory)\n",
        "    valid_files = iter_valid_files(directory, follow_links, formats)\n",
        "    labels = []\n",
        "    filenames = []\n",
        "    for root, fname in valid_files:\n",
        "        labels.append(class_indices[dirname])\n",
        "        absolute_path = os.path.join(root, fname)\n",
        "        relative_path = os.path.join(\n",
        "                dirname, os.path.relpath(absolute_path, directory))\n",
        "        filenames.append(relative_path)\n",
        "    return filenames, labels\n",
        "\n",
        "\n",
        "def check_validation_split_arg(validation_split, subset, shuffle, seed):\n",
        "    if validation_split and not 0 < validation_split < 1:\n",
        "        raise ValueError(\n",
        "                '`validation_split` must be between 0 and 1, received: %s' %\n",
        "                (validation_split,))\n",
        "    if (validation_split or subset) and not (validation_split and subset):\n",
        "        raise ValueError(\n",
        "                'If `subset` is set, `validation_split` must be set, and inversely.')\n",
        "    if subset not in ('training', 'validation', None):\n",
        "        raise ValueError('`subset` must be either \"training\" '\n",
        "                         'or \"validation\", received: %s' % (subset,))\n",
        "    if validation_split and shuffle and seed is None:\n",
        "        raise ValueError(\n",
        "                'If using `validation_split` and shuffling the data, you must provide '\n",
        "                'a `seed` argument, to make sure that there is no overlap between the '\n",
        "                'training and validation subset.')\n",
        "\n",
        "\n",
        "def get_training_or_validation_split(samples, labels, validation_split, subset):\n",
        "    if not validation_split:\n",
        "        return samples, labels\n",
        "\n",
        "    num_val_samples = int(validation_split * len(samples))\n",
        "    if subset == 'training':\n",
        "        print('Using %d files for training.' % (len(samples) - num_val_samples,))\n",
        "        samples = samples[:-num_val_samples]\n",
        "        labels = labels[:-num_val_samples]\n",
        "    elif subset == 'validation':\n",
        "        print('Using %d files for validation.' % (num_val_samples,))\n",
        "        samples = samples[-num_val_samples:]\n",
        "        labels = labels[-num_val_samples:]\n",
        "    else:\n",
        "        raise ValueError('`subset` must be either \"training\" '\n",
        "                         'or \"validation\", received: %s' % (subset,))\n",
        "    return samples, labels\n",
        "\n",
        "\n",
        "def labels_to_dataset(labels, label_mode, num_classes):\n",
        "    label_ds = dataset_ops.Dataset.from_tensor_slices(labels)\n",
        "    if label_mode == 'binary':\n",
        "        label_ds = label_ds.map(\n",
        "                lambda x: array_ops.expand_dims(math_ops.cast(x, 'float32'), axis=-1))\n",
        "    elif label_mode == 'categorical':\n",
        "        label_ds = label_ds.map(lambda x: array_ops.one_hot(x, num_classes))\n",
        "    return label_ds\n",
        "\n",
        "\n",
        "def paths_and_labels_to_dataset(file_paths,\n",
        "                                labels,\n",
        "                                label_mode,\n",
        "                                num_classes,\n",
        "                                max_length):\n",
        "    path_ds = dataset_ops.Dataset.from_tensor_slices(file_paths)\n",
        "    string_ds = path_ds.map(\n",
        "        lambda x: path_to_string_content(x, max_length))\n",
        "    if label_mode:\n",
        "        label_ds = labels_to_dataset(labels, label_mode, num_classes)\n",
        "        string_ds = dataset_ops.Dataset.zip((string_ds, label_ds))\n",
        "    return string_ds\n",
        "\n",
        "\n",
        "def path_to_string_content(path, max_length):\n",
        "    txt = io_ops.read_file(path)\n",
        "    if max_length is not None:\n",
        "        txt = string_ops.substr(txt, 0, max_length)\n",
        "    return txt\n",
        "\n",
        "\n",
        "def text_dataset_from_directory(directory,\n",
        "                                labels='inferred',\n",
        "                                label_mode='int',\n",
        "                                class_names=None,\n",
        "                                batch_size=32,\n",
        "                                max_length=None,\n",
        "                                shuffle=True,\n",
        "                                seed=None,\n",
        "                                validation_split=None,\n",
        "                                subset=None,\n",
        "                                follow_links=False):\n",
        "    if labels != 'inferred':\n",
        "        if not isinstance(labels, (list, tuple)):\n",
        "            raise ValueError(\n",
        "                    '`labels` argument should be a list/tuple of integer labels, of '\n",
        "                    'the same size as the number of text files in the target '\n",
        "                    'directory. If you wish to infer the labels from the subdirectory '\n",
        "                    'names in the target directory, pass `labels=\"inferred\"`. '\n",
        "                    'If you wish to get a dataset that only contains text samples '\n",
        "                    '(no labels), pass `labels=None`.')\n",
        "        if class_names:\n",
        "            raise ValueError('You can only pass `class_names` if the labels are '\n",
        "                             'inferred from the subdirectory names in the target '\n",
        "                             'directory (`labels=\"inferred\"`).')\n",
        "    if label_mode not in {'int', 'categorical', 'binary', None}:\n",
        "        raise ValueError(\n",
        "                '`label_mode` argument must be one of \"int\", \"categorical\", \"binary\", '\n",
        "                'or None. Received: %s' % (label_mode,))\n",
        "    if seed is None:\n",
        "        seed = np.random.randint(1e6)\n",
        "    check_validation_split_arg(\n",
        "        validation_split, subset, shuffle, seed)\n",
        "\n",
        "    file_paths, labels, class_names = index_directory(\n",
        "            directory,\n",
        "            labels,\n",
        "            formats=('.txt',),\n",
        "            class_names=class_names,\n",
        "            shuffle=shuffle,\n",
        "            seed=seed,\n",
        "            follow_links=follow_links)\n",
        "\n",
        "    if label_mode == 'binary' and len(class_names) != 2:\n",
        "        raise ValueError(\n",
        "                'When passing `label_mode=\"binary\", there must exactly 2 classes. '\n",
        "                'Found the following classes: %s' % (class_names,))\n",
        "\n",
        "    file_paths, labels = get_training_or_validation_split(\n",
        "        file_paths, labels, validation_split, subset)\n",
        "\n",
        "    dataset = paths_and_labels_to_dataset(\n",
        "        file_paths=file_paths,\n",
        "        labels=labels,\n",
        "        label_mode=label_mode,\n",
        "        num_classes=len(class_names),\n",
        "        max_length=max_length)\n",
        "    if shuffle:\n",
        "        dataset = dataset.shuffle(buffer_size=batch_size * 8, seed=seed)\n",
        "    dataset = dataset.batch(batch_size)\n",
        "    dataset.class_names = class_names\n",
        "    return dataset\n"
      ],
      "metadata": {
        "id": "ppeQYR9ezPik"
      },
      "execution_count": 14,
      "outputs": []
    },
    {
      "cell_type": "code",
      "source": [
        "batch_size = 32\n",
        "validation_split = 0.2\n",
        "seed = 20200721\n",
        "\n",
        "print('학습 데이터 세트를 불러옵니다.')\n",
        "raw_train_ds = text_dataset_from_directory(\n",
        "train_dir,\n",
        "batch_size=batch_size,\n",
        "validation_split=validation_split,\n",
        "subset='training',\n",
        "seed=seed)"
      ],
      "metadata": {
        "colab": {
          "base_uri": "https://localhost:8080/"
        },
        "id": "1C1atZ15z2Hy",
        "outputId": "683f10ba-b861-46b4-b49c-bba372f7df61"
      },
      "execution_count": 15,
      "outputs": [
        {
          "output_type": "stream",
          "name": "stdout",
          "text": [
            "학습 데이터 세트를 불러옵니다.\n",
            "Found 25000 files belonging to 2 classes.\n",
            "Using 20000 files for training.\n"
          ]
        }
      ]
    },
    {
      "cell_type": "code",
      "source": [
        "for text_batch, label_batch in raw_train_ds.take(1):\n",
        "  for i in range(3):\n",
        "    print(\"Review\", text_batch.numpy()[i])\n",
        "print(\"Label\", label_batch.numpy()[i])\n",
        "\n",
        "\n",
        "print('레이블 번호 - 이름 확인!')\n",
        "print(\"Label 0 corresponds to\", raw_train_ds.class_names[0])\n",
        "print(\"Label 1 corresponds to\", raw_train_ds.class_names[1])\n",
        "print(\"Label 1 corresponds to\", raw_train_ds.class_names[1])\n",
        "\n",
        "\n",
        "print('검증 데이터 세트를 불러옵니다.')\n",
        "raw_val_ds = text_dataset_from_directory(\n",
        "train_dir,\n",
        "batch_size=batch_size,\n",
        "validation_split=validation_split,\n",
        "subset='validation',\n",
        "seed=seed)"
      ],
      "metadata": {
        "colab": {
          "base_uri": "https://localhost:8080/"
        },
        "id": "3Hr7aUui0ZCy",
        "outputId": "c6aead79-8f78-48b2-d6cb-66d1f2c03ca0"
      },
      "execution_count": 21,
      "outputs": [
        {
          "output_type": "stream",
          "name": "stdout",
          "text": [
            "Review b\"This film was a yawn from titles to credits, it's boring to the point of tedium and the acting is wooden and stilted! Admittedly this was director Richard Jobson directing debut, but who on earth green-lit a script as poorly developed as this one? Looks like another money down the drain government project (Scottish Screen are credited surprise, surprise). I nearly fell asleep three times and my review will unfortunately have to be more restrained than this one. Please, please mister Jobson what ever you've been doing prior to directing this sedative of a film, go back to it!\"\n",
            "Review b'I have given this show (I have only watched seven episodes) four stars because most of her jokes/set-ups appear to fail. Some are not funny outright, but some are amusing -- in a 12 year old boy kind of way. She reminds me of that New York painter who throws paint upon a canvas, calls it art and sells it for a lot of money. Silverman throws out what she\\'s got, including the kitchen sink, while she prays that a few things stick to the wall in her effort to be funny but different.<br /><br />However what she\\'s \"got\" often times is not enough, as though she lacks the kind of follow-through a good comedian needs to succeed.<br /><br />The whole enterprise is like an under done potato.'\n",
            "Review b\"sammo has to have a 10 out of 10 for this movie as it has everything. great story, great fights, great characters and great cameos.<br /><br />this film sees dick wei take on billy chow and chong fat. sammo takes on lau kar leung in a casino, sammo loses the fight but what a fight it is full of high tempo action and elements of comedy thrown in.<br /><br />some great and touching moments in the film, lam ching ying pops up in a cameo and gets killed off - gutted.<br /><br />the end sequence will have you reaching for the rewind button, as its one of the best end fights I've seen. sammo takes on loads of guys and ends up squaring up to billy chow.\"\n",
            "Label 1\n",
            "레이블 번호 - 이름 확인!\n",
            "Label 0 corresponds to neg\n",
            "Label 1 corresponds to pos\n",
            "Label 1 corresponds to pos\n",
            "검증 데이터 세트를 불러옵니다.\n",
            "Found 25000 files belonging to 2 classes.\n",
            "Using 5000 files for validation.\n"
          ]
        }
      ]
    },
    {
      "cell_type": "code",
      "source": [
        "import tensorflow as tf\n",
        "import re\n",
        "import string\n",
        "\n",
        "def custom_standardization(input_data):\n",
        "    lowercase = tf.strings.lower(input_data)\n",
        "    stripped_html = tf.strings.regex_replace(lowercase, '<br />', ' ')\n",
        "    return tf.strings.regex_replace(stripped_html,\n",
        "                                    '[%s]' % re.escape(string.punctuation),\n",
        "                                    '')\n",
        "max_features = 1000\n",
        "sequence_length = 50\n",
        "\n",
        "vectorize_layer = tf.keras.layers.experimental.preprocessing.TextVectorization(\n",
        "standardize=custom_standardization,\n",
        "max_tokens=max_features,\n",
        "output_mode='int',\n",
        "output_sequence_length=sequence_length)\n",
        "\n",
        "print('테스트 데이터와 레이블을 분리합니다.')\n",
        "train_text = raw_train_ds.map(lambda x, y: x)\n",
        "vectorize_layer.adapt(train_text)"
      ],
      "metadata": {
        "colab": {
          "base_uri": "https://localhost:8080/"
        },
        "id": "MmhAM4dZ1NK5",
        "outputId": "a38f68d7-0604-4812-c2b9-cd622b2af13a"
      },
      "execution_count": 27,
      "outputs": [
        {
          "output_type": "stream",
          "name": "stdout",
          "text": [
            "테스트 데이터와 레이블을 분리합니다.\n"
          ]
        }
      ]
    },
    {
      "cell_type": "code",
      "source": [
        "print('테스트 데이터와 레이블을 분리합니다.')\n",
        "train_text = raw_train_ds.map(lambda x, y: x)\n",
        "vectorize_layer.adapt(train_text)\n",
        "\n",
        "\n",
        "print('학습 완료 후 사용할 테스트 세트를 불러옵니다.')\n",
        "test_dir = os.path.join(dataset_dir, 'test')\n",
        "raw_test_ds = text_dataset_from_directory(\n",
        "test_dir,\n",
        "batch_size=batch_size)"
      ],
      "metadata": {
        "colab": {
          "base_uri": "https://localhost:8080/"
        },
        "id": "qyjXzHXK2B2M",
        "outputId": "ef729dc7-63e4-4d5b-9478-492f8e99899b"
      },
      "execution_count": 28,
      "outputs": [
        {
          "output_type": "stream",
          "name": "stdout",
          "text": [
            "테스트 데이터와 레이블을 분리합니다.\n",
            "학습 완료 후 사용할 테스트 세트를 불러옵니다.\n",
            "Found 25000 files belonging to 2 classes.\n"
          ]
        }
      ]
    },
    {
      "cell_type": "code",
      "source": [
        "def vectorize_text(text, label):\n",
        "  text = tf.expand_dims(text, -1)\n",
        "  return vectorize_layer(text), label\n",
        "\n",
        "print('테스트 데이터를 확인합니다.')\n",
        "text_batch, label_batch = next(iter(raw_train_ds))\n",
        "first_review, first_label = text_batch[0], label_batch[0]\n",
        "print(\"Review\", first_review)\n",
        "print(\"Label\", raw_train_ds.class_names[first_label])\n",
        "print(\"Vectorized review\", vectorize_text(tf.expand_dims(first_review, -1), first_label))"
      ],
      "metadata": {
        "colab": {
          "base_uri": "https://localhost:8080/"
        },
        "id": "w6ZuTqfU3IHB",
        "outputId": "882d56d2-c28f-4a48-abe4-da59fd5f34b3"
      },
      "execution_count": 31,
      "outputs": [
        {
          "output_type": "stream",
          "name": "stdout",
          "text": [
            "테스트 데이터를 확인합니다.\n",
            "Review tf.Tensor(b'As shallow as it may sound, I actually delayed my viewing of \"The Barbarians\" several times just because the VHS cover (as well as the picture image displayed here on the website) looks so incredibly gay! By now I wish I had watched it earlier because the movie isn\\'t so much gay\\xc2\\x85. just trashy, cheesy, campy and enormously fun! It\\'s almost unbelievable that Ruggero Deodato, director of \"Cannibal Holocaust\" of all people, was the man responsible for this comical cash-in on the contemporary popular Sword & Sandal fantasy flicks, particularly Schwarzenegger\\'s Conan movies. The film opens with a terrific \\'once-upon-a-time\\' type of off-screen narrator, introducing us to the Ragneks. Their founder once traded an entire mountain of pure gold for just one magically powerful ruby that would allow them to travel in freedom and access every country as entertainers. In other words, the Ragneks are a bunch of traveling circus freaks! Their happiness abruptly comes to end when the greedy Kadar kidnaps the Ragneks\\' beautiful queen Canary and continuously attempts to discover the whereabouts of the ruby. Meanwhile, and as some sort of amusing waste of time, the two orphan twin-brothers Gore and Kutchek are trained to become muscled warriors and they\\'re unwarily prepared to fight each other to the death. Instead of that, however, they escape and develop a plan to free their queen. Actually, the plot isn\\'t half as bad as I initially feared, but still the most fun is provided by the beefcake brothers\\' on screen chemistry, the crazily inept dialogs and of course the utterly cheesy fantasy-monsters, like a dragon with adorably cute eyes, some kind of werewolf creature and zombies that randomly appear to pop out of the swamp. The soundtrack and make-up effects are great and our almighty director Deodato maintains a terrifically fast pace. The Barbarian Brother\\'s acting capacities are much better than I anticipated, apart from the fact that one of them constantly produces gross belching sounds. The supportive cast is splendid as well. Eva La Rue never looked more beautiful as the witty savage girl Cara, Virginia Bryant is indeed bewitching like Richard Lynch states on several occasions and the lovely Sheeba Alahani makes her first and only appearance on film as a vicious sorceress with a donut-shaped hair style (I kid you not!). Last but not least, \"The Barbarians\" stars everybody\\'s favorite Eyes in the Hills creep Michael Berryman as the appropriately named Dirtmaster. I know the displayed picture looks gayer than a promotional campaign for the musical version about the rise and fall of the Village People, but \"The Barbarians\" really is a must-see Italian exploitation highlight.', shape=(), dtype=string)\n",
            "Label pos\n",
            "Vectorized review (<tf.Tensor: shape=(1, 50), dtype=int64, numpy=\n",
            "array([[ 14,   1,  14,   9, 192, 473,  10, 159,   1,  55, 788,   5,   2,\n",
            "          1, 441, 207,  40,  84,   2,   1,   1,  14,  73,  14,   2, 423,\n",
            "          1,   1, 129,  20,   2,   1, 264,  37, 921, 993,  32, 149,  10,\n",
            "        633,  10,  65, 284,   9, 866,  84,   2,  17, 208,  37]])>, <tf.Tensor: shape=(), dtype=int32, numpy=1>)\n"
          ]
        }
      ]
    },
    {
      "cell_type": "code",
      "source": [
        "print('각 특징 벡터의 원소 값을 확인할 수 있습니다.')\n",
        "voc_size = len(vectorize_layer.get_vocabulary())\n",
        "print(f'Vocabulary size: {voc_size}')\n",
        "base = 0\n",
        "cnt = 10\n",
        "if voc_size - cnt < base:\n",
        "  print(f'{voc_size-cnt} 보다는 작은 수를 입력해야 합니다.')\n",
        "else:\n",
        "  for i in range(base, base+cnt):\n",
        "    print(f'{i+2:4d} ---> {vectorize_layer.get_vocabulary()[i]}')"
      ],
      "metadata": {
        "colab": {
          "base_uri": "https://localhost:8080/"
        },
        "id": "nvQ8IFt93pun",
        "outputId": "7c78fde9-5303-4029-b078-bb4372173102"
      },
      "execution_count": 39,
      "outputs": [
        {
          "output_type": "stream",
          "name": "stdout",
          "text": [
            "각 특징 벡터의 원소 값을 확인할 수 있습니다.\n",
            "Vocabulary size: 1000\n",
            "   2 ---> \n",
            "   3 ---> [UNK]\n",
            "   4 ---> the\n",
            "   5 ---> and\n",
            "   6 ---> a\n",
            "   7 ---> of\n",
            "   8 ---> to\n",
            "   9 ---> is\n",
            "  10 ---> in\n",
            "  11 ---> it\n"
          ]
        }
      ]
    },
    {
      "cell_type": "code",
      "source": [
        "print('학습, 검증, 테스트 데이터를 모두 벡터화 합니다.')\n",
        "train_ds = raw_train_ds.map(vectorize_text)\n",
        "val_ds = raw_val_ds.map(vectorize_text)\n",
        "test_ds = raw_test_ds.map(vectorize_text)\n",
        "\n",
        "\n",
        "AUTOTUNE = tf.data.experimental.AUTOTUNE\n",
        "print('데이터 입력부를 최적화합니다.')\n",
        "train_ds = train_ds.cache().prefetch(buffer_size=AUTOTUNE)\n",
        "val_ds = val_ds.cache().prefetch(buffer_size=AUTOTUNE)\n",
        "test_ds = test_ds.cache().prefetch(buffer_size=AUTOTUNE)"
      ],
      "metadata": {
        "colab": {
          "base_uri": "https://localhost:8080/"
        },
        "id": "bVzo6dUp4KnN",
        "outputId": "41b83e10-01ae-42d2-cb42-30b8d9916fe9"
      },
      "execution_count": 40,
      "outputs": [
        {
          "output_type": "stream",
          "name": "stdout",
          "text": [
            "학습, 검증, 테스트 데이터를 모두 벡터화 합니다.\n",
            "데이터 입력부를 최적화합니다.\n"
          ]
        }
      ]
    },
    {
      "cell_type": "code",
      "source": [
        "import tensorflow as tf\n",
        "\n",
        "embedding_dim = 4\n",
        "max_features = 10000  # Example value, you should set this to your actual value\n",
        "\n",
        "print('모델을 정의합니다.')\n",
        "model = tf.keras.Sequential([\n",
        "    tf.keras.layers.Embedding(max_features + 1, embedding_dim, mask_zero=True),\n",
        "    tf.keras.layers.Dropout(0.2),\n",
        "    tf.keras.layers.GlobalAveragePooling1D(),\n",
        "    tf.keras.layers.Dropout(0.2),\n",
        "    tf.keras.layers.Dense(1)\n",
        "])\n",
        "\n",
        "model.summary()\n",
        "\n",
        "print('모델을 준비합니다.')\n",
        "model.compile(\n",
        "    loss=tf.keras.losses.BinaryCrossentropy(from_logits=True),\n",
        "    optimizer='adam',\n",
        "    metrics=[tf.metrics.BinaryAccuracy(threshold=0.0)]\n",
        ")\n",
        "\n",
        "epochs = 10\n",
        "history = model.fit(\n",
        "    train_ds,\n",
        "    validation_data=val_ds,\n",
        "    epochs=epochs\n",
        ")"
      ],
      "metadata": {
        "colab": {
          "base_uri": "https://localhost:8080/"
        },
        "id": "vu9Kcue95v2z",
        "outputId": "2eec3397-11a9-4b47-c26b-7099c2345cf7"
      },
      "execution_count": 48,
      "outputs": [
        {
          "output_type": "stream",
          "name": "stdout",
          "text": [
            "모델을 정의합니다.\n",
            "Model: \"sequential\"\n",
            "_________________________________________________________________\n",
            " Layer (type)                Output Shape              Param #   \n",
            "=================================================================\n",
            " embedding (Embedding)       (None, None, 4)           40004     \n",
            "                                                                 \n",
            " dropout (Dropout)           (None, None, 4)           0         \n",
            "                                                                 \n",
            " global_average_pooling1d (  (None, 4)                 0         \n",
            " GlobalAveragePooling1D)                                         \n",
            "                                                                 \n",
            " dropout_1 (Dropout)         (None, 4)                 0         \n",
            "                                                                 \n",
            " dense (Dense)               (None, 1)                 5         \n",
            "                                                                 \n",
            "=================================================================\n",
            "Total params: 40009 (156.29 KB)\n",
            "Trainable params: 40009 (156.29 KB)\n",
            "Non-trainable params: 0 (0.00 Byte)\n",
            "_________________________________________________________________\n",
            "모델을 준비합니다.\n",
            "Epoch 1/10\n",
            "625/625 [==============================] - 6s 8ms/step - loss: 0.6827 - binary_accuracy: 0.6155 - val_loss: 0.6690 - val_binary_accuracy: 0.6592\n",
            "Epoch 2/10\n",
            "625/625 [==============================] - 2s 2ms/step - loss: 0.6481 - binary_accuracy: 0.6791 - val_loss: 0.6316 - val_binary_accuracy: 0.6852\n",
            "Epoch 3/10\n",
            "625/625 [==============================] - 3s 5ms/step - loss: 0.6108 - binary_accuracy: 0.7014 - val_loss: 0.5985 - val_binary_accuracy: 0.7058\n",
            "Epoch 4/10\n",
            "625/625 [==============================] - 2s 4ms/step - loss: 0.5803 - binary_accuracy: 0.7181 - val_loss: 0.5735 - val_binary_accuracy: 0.7116\n",
            "Epoch 5/10\n",
            "625/625 [==============================] - 3s 5ms/step - loss: 0.5573 - binary_accuracy: 0.7344 - val_loss: 0.5555 - val_binary_accuracy: 0.7182\n",
            "Epoch 6/10\n",
            "625/625 [==============================] - 2s 3ms/step - loss: 0.5404 - binary_accuracy: 0.7400 - val_loss: 0.5422 - val_binary_accuracy: 0.7232\n",
            "Epoch 7/10\n",
            "625/625 [==============================] - 2s 3ms/step - loss: 0.5289 - binary_accuracy: 0.7431 - val_loss: 0.5328 - val_binary_accuracy: 0.7286\n",
            "Epoch 8/10\n",
            "625/625 [==============================] - 1s 2ms/step - loss: 0.5219 - binary_accuracy: 0.7476 - val_loss: 0.5259 - val_binary_accuracy: 0.7340\n",
            "Epoch 9/10\n",
            "625/625 [==============================] - 1s 2ms/step - loss: 0.5136 - binary_accuracy: 0.7535 - val_loss: 0.5211 - val_binary_accuracy: 0.7344\n",
            "Epoch 10/10\n",
            "625/625 [==============================] - 1s 2ms/step - loss: 0.5095 - binary_accuracy: 0.7509 - val_loss: 0.5175 - val_binary_accuracy: 0.7356\n"
          ]
        }
      ]
    },
    {
      "cell_type": "code",
      "source": [
        "print('모델 성능을 테스트합니다.')\n",
        "loss, accuracy = model.evaluate(test_ds)\n",
        "\n",
        "print(\"Loss: \", loss)\n",
        "print(\"Accuracy: \", accuracy)"
      ],
      "metadata": {
        "colab": {
          "base_uri": "https://localhost:8080/"
        },
        "id": "E4x_Kmr45y3r",
        "outputId": "5aa755e2-b3c2-4f43-ed65-4d27f0c22789"
      },
      "execution_count": 49,
      "outputs": [
        {
          "output_type": "stream",
          "name": "stdout",
          "text": [
            "모델 성능을 테스트합니다.\n",
            "782/782 [==============================] - 9s 11ms/step - loss: 0.5137 - binary_accuracy: 0.7406\n",
            "Loss:  0.5137481093406677\n",
            "Accuracy:  0.740559995174408\n"
          ]
        }
      ]
    },
    {
      "cell_type": "code",
      "source": [
        "history_dict = history.history\n",
        "\n",
        "acc = history_dict['binary_accuracy']\n",
        "\n",
        "val_acc = history_dict['val_binary_accuracy']\n",
        "\n",
        "loss = history_dict['loss']\n",
        "\n",
        "val_loss = history_dict['val_loss']\n",
        "\n",
        "\n",
        "epochs = range(1, len(acc) + 1)\n",
        "\n",
        "\n",
        "fig1 = plt.figure(figsize=(6, 10))\n",
        "\n",
        "ax = fig1.add_subplot(2, 1, 1)\n",
        "\n",
        "ax.plot(epochs, loss, 'bo', label='학습 손실')\n",
        "\n",
        "ax.plot(epochs, val_loss, 'b', label='검증 손실')\n",
        "\n",
        "ax.set_title('학습 및 검증 손실', fontproperties=nanum_prop, fontsize=12)\n",
        "\n",
        "ax.set_xlabel('Epochs', fontproperties=nanum_prop, fontsize=10)\n",
        "\n",
        "ax.set_ylabel('손실', fontproperties=nanum_prop, fontsize=10)\n",
        "\n",
        "ax.legend(prop=nanum_prop)\n",
        "\n",
        "\n",
        "ax = fig1.add_subplot(2, 1, 2)\n",
        "\n",
        "ax.plot(epochs, acc, 'bo', label='학습 정확도')\n",
        "\n",
        "ax.plot(epochs, val_acc, 'b', label='검증 정확도')\n",
        "\n",
        "ax.set_title('학습 및 검증 정확도', fontproperties=nanum_prop, fontsize=12)\n",
        "\n",
        "ax.set_xlabel('Epochs', fontproperties=nanum_prop, fontsize=10)\n",
        "\n",
        "ax.set_ylabel('정확도', fontproperties=nanum_prop, fontsize=10)\n",
        "\n",
        "ax.legend(prop=nanum_prop)"
      ],
      "metadata": {
        "colab": {
          "base_uri": "https://localhost:8080/",
          "height": 888
        },
        "id": "FFiiu6uB6V5T",
        "outputId": "863a04fc-4a81-410f-c06d-d4e33bcf521d"
      },
      "execution_count": 50,
      "outputs": [
        {
          "output_type": "execute_result",
          "data": {
            "text/plain": [
              "<matplotlib.legend.Legend at 0x79808fe486a0>"
            ]
          },
          "metadata": {},
          "execution_count": 50
        },
        {
          "output_type": "display_data",
          "data": {
            "text/plain": [
              "<Figure size 600x1000 with 2 Axes>"
            ],
            "image/png": "[encoded data removed]"
          },
          "metadata": {}
        }
      ]
    },
    {
      "cell_type": "code",
      "source": [],
      "metadata": {
        "id": "AY5U2rQD6_ZY"
      },
      "execution_count": null,
      "outputs": []
    }
  ]
}